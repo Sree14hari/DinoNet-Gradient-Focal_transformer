{
 "cells": [
  {
   "cell_type": "code",
   "execution_count": 1,
   "id": "cbd193a0",
   "metadata": {},
   "outputs": [
    {
     "name": "stdout",
     "output_type": "stream",
     "text": [
      "Device: cuda\n",
      "Dataset base dir: melspectrograms_dataset\n",
      "GFT checkpoint (expected): gft/best_full_gft_gala_pps.pth\n"
     ]
    }
   ],
   "source": [
    "# Cell 2 — Imports & configuration\n",
    "import os\n",
    "import math\n",
    "import numpy as np\n",
    "from tqdm.auto import tqdm\n",
    "from PIL import Image\n",
    "import warnings\n",
    "warnings.filterwarnings(\"ignore\")\n",
    "\n",
    "import torch\n",
    "import torch.nn as nn\n",
    "import torch.optim as optim\n",
    "from torch.utils.data import DataLoader, Dataset\n",
    "import torchvision.transforms as transforms\n",
    "from transformers import AutoModel, AutoImageProcessor\n",
    "import timm\n",
    "\n",
    "from sklearn.metrics import accuracy_score, classification_report, confusion_matrix\n",
    "import matplotlib.pyplot as plt\n",
    "import seaborn as sns\n",
    "\n",
    "# ---------------- CONFIG ----------------\n",
    "class Config:\n",
    "    # Colab-friendly default paths (change if needed)\n",
    "    BASE_DIR = \"melspectrograms_dataset\"   # your dataset: train/ validation/ test/ folders\n",
    "    GFT_MODEL_PATH = \"gft/best_full_gft_gala_pps.pth\" # path to your saved GFT model (upload to Colab)\n",
    "    IMG_SIZE = 224\n",
    "    BATCH_SIZE = 16     # reduce if OOM\n",
    "    NUM_WORKERS = 0\n",
    "    COATNET_MODEL = \"coatnet_0_rw_224\"\n",
    "    PRETRAINED_COATNET = True\n",
    "    SAVE_DIR = \"checkpoints_fusion_v2\"\n",
    "    os.makedirs(SAVE_DIR, exist_ok=True)\n",
    "\n",
    "    # training phases\n",
    "    HEAD_EPOCHS = 6\n",
    "    PARTIAL_EPOCHS = 18\n",
    "    FULL_EPOCHS = 12\n",
    "\n",
    "    HEAD_LR = 3e-4\n",
    "    PARTIAL_LR = 5e-5\n",
    "    FULL_LR = 5e-6\n",
    "\n",
    "    WEIGHT_DECAY = 0.05\n",
    "    LR_WARMUP_EPOCHS = 3\n",
    "    PATIENCE = 8\n",
    "\n",
    "    MIXUP_ALPHA = 0.3\n",
    "    SPEC_AUG_FREQ = 20\n",
    "    SPEC_AUG_TIME = 30\n",
    "    DROP_RATE = 0.4\n",
    "\n",
    "    DEVICE = torch.device(\"cuda\" if torch.cuda.is_available() else \"cpu\")\n",
    "\n",
    "config = Config()\n",
    "print(\"Device:\", config.DEVICE)\n",
    "print(\"Dataset base dir:\", config.BASE_DIR)\n",
    "print(\"GFT checkpoint (expected):\", config.GFT_MODEL_PATH)\n"
   ]
  },
  {
   "cell_type": "code",
   "execution_count": 2,
   "id": "188a2ac7",
   "metadata": {},
   "outputs": [],
   "source": [
    "# Cell 3 — Model definitions: minimal GFT parts, cross-attention fusion, and fusion model\n",
    "\n",
    "# Minimal GFT components (sufficient to load your checkpoint with strict=False)\n",
    "class GALA_Attention(nn.Module):\n",
    "    def __init__(self, dim, n_heads=6, qkv_bias=True, attn_drop=0., proj_drop=0.):\n",
    "        super().__init__()\n",
    "        assert dim % n_heads == 0\n",
    "        self.n_heads = n_heads\n",
    "        self.head_dim = dim // n_heads\n",
    "        self.scale = self.head_dim ** -0.5\n",
    "        self.qkv = nn.Linear(dim, dim * 3, bias=qkv_bias)\n",
    "        self.attn_drop = nn.Dropout(attn_drop)\n",
    "        self.proj = nn.Linear(dim, dim)\n",
    "        self.proj_drop = nn.Dropout(proj_drop)\n",
    "        self.focal_gamma = nn.Parameter(torch.ones(n_heads, 1, 1))\n",
    "    def forward(self, x):\n",
    "        B, N, C = x.shape\n",
    "        qkv = self.qkv(x).reshape(B, N, 3, self.n_heads, self.head_dim).permute(2,0,3,1,4)\n",
    "        q, k, v = qkv[0], qkv[1], qkv[2]\n",
    "        attn = (q @ k.transpose(-2, -1)) * self.scale\n",
    "        attn_w = torch.softmax(attn, dim=-1)\n",
    "        focal = torch.pow(1.0 - attn_w, self.focal_gamma)\n",
    "        attn_mod = attn_w * focal\n",
    "        attn_mod = attn_mod / (attn_mod.sum(dim=-1, keepdim=True) + 1e-6)\n",
    "        out = (self.attn_drop(attn_mod) @ v).transpose(1,2).reshape(B,N,C)\n",
    "        return self.proj_drop(self.proj(out))\n",
    "\n",
    "class GFT_Encoder_Minimal(nn.Module):\n",
    "    def __init__(self, embed_dim, num_stages=3, n_heads=6, drop_rate=0.3):\n",
    "        super().__init__()\n",
    "        self.stages = nn.ModuleList([\n",
    "            nn.Sequential(\n",
    "                nn.LayerNorm(embed_dim),\n",
    "                GALA_Attention(embed_dim, n_heads=n_heads, attn_drop=drop_rate*0.5, proj_drop=drop_rate*0.5),\n",
    "                nn.LayerNorm(embed_dim),\n",
    "                nn.Linear(embed_dim, embed_dim),\n",
    "                nn.GELU(),\n",
    "                nn.Dropout(drop_rate)\n",
    "            ) for _ in range(num_stages)\n",
    "        ])\n",
    "    def forward(self, x):\n",
    "        out = x\n",
    "        for s in self.stages:\n",
    "            out = s(out)\n",
    "        return out\n",
    "\n",
    "# Minimal DinoV2+GFT wrapper to load checkpoint\n",
    "class DinoV2_GFT_Minimal(nn.Module):\n",
    "    def __init__(self, model_name=\"facebook/dinov2-small\", num_classes=10, gft_stages=3, n_heads=6, drop_rate=0.3):\n",
    "        super().__init__()\n",
    "        self.backbone = AutoModel.from_pretrained(model_name)\n",
    "        embed_dim = self.backbone.config.hidden_size\n",
    "        self.embed_dim = embed_dim\n",
    "        self.gft_encoder = GFT_Encoder_Minimal(embed_dim, num_stages=gft_stages, n_heads=n_heads, drop_rate=drop_rate)\n",
    "        self.pool_norm = nn.LayerNorm(embed_dim)\n",
    "        self.classifier = nn.Sequential(\n",
    "            nn.Linear(embed_dim, 512), nn.GELU(), nn.Dropout(drop_rate),\n",
    "            nn.Linear(512, 256), nn.GELU(), nn.Dropout(drop_rate*0.5),\n",
    "            nn.Linear(256, num_classes)\n",
    "        )\n",
    "    def forward(self, pixel_values, token_mask=None):\n",
    "        outputs = self.backbone(pixel_values=pixel_values)\n",
    "        tokens = outputs.last_hidden_state\n",
    "        if token_mask is not None:\n",
    "            tokens = tokens * token_mask.unsqueeze(-1)\n",
    "        features = self.gft_encoder(tokens)\n",
    "        pooled = torch.mean(features, dim=1)\n",
    "        pooled = self.pool_norm(pooled)\n",
    "        logits = self.classifier(pooled)\n",
    "        return logits\n",
    "\n",
    "# Cross-Attention Fusion block\n",
    "class CrossAttentionFusion(nn.Module):\n",
    "    def __init__(self, dim, heads=8):\n",
    "        super().__init__()\n",
    "        self.heads = heads\n",
    "        self.dim = dim\n",
    "        self.q = nn.Linear(dim, dim)\n",
    "        self.k = nn.Linear(dim, dim)\n",
    "        self.v = nn.Linear(dim, dim)\n",
    "        self.proj_out = nn.Linear(dim, dim)\n",
    "        self.scale = (dim//heads) ** -0.5\n",
    "    def forward(self, a, b):\n",
    "        # a, b : (B, D)\n",
    "        B = a.shape[0]\n",
    "        D = a.shape[1]\n",
    "        # project\n",
    "        q = self.q(a).view(B, self.heads, -1)     # (B, heads, D/heads)\n",
    "        k = self.k(b).view(B, self.heads, -1)\n",
    "        v = self.v(b).view(B, self.heads, -1)\n",
    "        # scaled dot product per-head (we use simplified matmul across head dim)\n",
    "        # compute attention scores along last dim (since we collapsed sequence dim into features)\n",
    "        attn = (q * self.scale) * k              # elementwise sim -> (B, heads, D/heads)\n",
    "        attn = torch.softmax(attn, dim=-1)\n",
    "        fused = (attn * v).view(B, -1)           # (B, D)\n",
    "        return self.proj_out(fused)\n",
    "\n",
    "# Fusion model: loads GFT checkpoint, creates CoAtNet branch, projects and fuses\n",
    "class GFT_CoAtNet_Fusion_v2(nn.Module):\n",
    "    def __init__(self, gft_checkpoint_path, num_classes, coatnet_name=\"coatnet_0_rw_224\",\n",
    "                 coatnet_pretrained=True, gft_model_name=\"facebook/dinov2-small\", gft_stages=3, gft_heads=6, proj_dim=768, drop_rate=0.4):\n",
    "        super().__init__()\n",
    "        # gft branch\n",
    "        self.gft_branch = DinoV2_GFT_Minimal(gft_model_name, num_classes, gft_stages=gft_stages, n_heads=gft_heads, drop_rate=drop_rate)\n",
    "        # load GFT checkpoint if available\n",
    "        if gft_checkpoint_path and os.path.exists(gft_checkpoint_path):\n",
    "            print(\"Loading GFT checkpoint (strict=False)...\")\n",
    "            state = torch.load(gft_checkpoint_path, map_location=\"cpu\")\n",
    "            try:\n",
    "                self.gft_branch.load_state_dict(state, strict=False)\n",
    "                print(\"GFT weights loaded (strict=False).\")\n",
    "            except Exception as e:\n",
    "                # try common keys\n",
    "                if isinstance(state, dict):\n",
    "                    for key in (\"state_dict\",\"model_state_dict\",\"model\"):\n",
    "                        if key in state and isinstance(state[key], dict):\n",
    "                            self.gft_branch.load_state_dict(state[key], strict=False)\n",
    "                            print(f\"Loaded checkpoint['{key}'] into gft_branch (strict=False).\")\n",
    "                            break\n",
    "                        # fallback to partial load\n",
    "                    else:\n",
    "                        # attempt partial direct dict load\n",
    "                        try:\n",
    "                            self.gft_branch.load_state_dict(state, strict=False)\n",
    "                            print(\"Loaded checkpoint attempt (strict=False).\")\n",
    "                        except Exception as ee:\n",
    "                            print(\"Warning: unable to auto-load checkpoint fully. Proceeding with HF backbone weights.\")\n",
    "                else:\n",
    "                    print(\"Warning: checkpoint format unrecognized.\")\n",
    "        else:\n",
    "            print(\"GFT checkpoint not found; using HF backbone weights.\")\n",
    "\n",
    "        # coatnet branch\n",
    "        print(f\"Creating CoAtNet: {coatnet_name} (pretrained={coatnet_pretrained})\")\n",
    "        self.coatnet = timm.create_model(coatnet_name, pretrained=coatnet_pretrained, num_classes=0, global_pool=\"avg\")\n",
    "        coat_dim = self.coatnet.num_features\n",
    "\n",
    "        # projection heads and fusion blocks\n",
    "        gft_dim = self.gft_branch.embed_dim\n",
    "        self.gft_proj = nn.Sequential(nn.Linear(gft_dim, proj_dim), nn.GELU(), nn.LayerNorm(proj_dim))\n",
    "        self.coat_proj = nn.Sequential(nn.Linear(coat_dim, proj_dim), nn.GELU(), nn.LayerNorm(proj_dim))\n",
    "\n",
    "        self.cross = CrossAttentionFusion(proj_dim, heads=8)\n",
    "        fusion_in = proj_dim * 3  # gft_proj, coat_proj, cross\n",
    "        self.fusion_head = nn.Sequential(\n",
    "            nn.Linear(fusion_in, 1024), nn.GELU(), nn.Dropout(drop_rate),\n",
    "            nn.Linear(1024, 512), nn.GELU(), nn.Dropout(drop_rate*0.5),\n",
    "            nn.Linear(512, num_classes)\n",
    "        )\n",
    "\n",
    "    def forward(self, x, token_mask=None):\n",
    "        # GFT features\n",
    "        outputs = self.gft_branch.backbone(pixel_values=x)\n",
    "        tokens = outputs.last_hidden_state\n",
    "        if token_mask is not None:\n",
    "            tokens = tokens * token_mask.unsqueeze(-1)\n",
    "        gft_feats = self.gft_branch.gft_encoder(tokens)\n",
    "        gft_pooled = torch.mean(gft_feats, dim=1)   # (B, gft_dim)\n",
    "        gft_proj = self.gft_proj(gft_pooled)        # (B, proj_dim)\n",
    "\n",
    "        # CoAtNet features\n",
    "        coat_feats = self.coatnet(x)                # (B, coat_dim)\n",
    "        coat_proj = self.coat_proj(coat_feats)      # (B, proj_dim)\n",
    "\n",
    "        # cross-attention fusion\n",
    "        cross = self.cross(gft_proj, coat_proj)     # (B, proj_dim)\n",
    "\n",
    "        fused = torch.cat([gft_proj, coat_proj, cross], dim=1)\n",
    "        # layer-norm on fused vector for stability\n",
    "        fused = nn.functional.layer_norm(fused, fused.shape[1:])\n",
    "        logits = self.fusion_head(fused)\n",
    "        return logits\n"
   ]
  },
  {
   "cell_type": "code",
   "execution_count": 3,
   "id": "89431e0b",
   "metadata": {},
   "outputs": [
    {
     "data": {
      "application/vnd.jupyter.widget-view+json": {
       "model_id": "4e0f859f6f4c4d7289d45bd48aae337d",
       "version_major": 2,
       "version_minor": 0
      },
      "text/plain": [
       "Fetching 1 files:   0%|          | 0/1 [00:00<?, ?it/s]"
      ]
     },
     "metadata": {},
     "output_type": "display_data"
    },
    {
     "name": "stderr",
     "output_type": "stream",
     "text": [
      "Using a slow image processor as `use_fast` is unset and a slow processor was saved with this model. `use_fast=True` will be the default behavior in v4.52, even if the model was saved with a slow processor. This will result in minor differences in outputs. You'll still be able to use a slow processor with `use_fast=False`.\n"
     ]
    },
    {
     "name": "stdout",
     "output_type": "stream",
     "text": [
      "Found 4021 images in train with 6 classes.\n",
      "Found 73 images in validation with 6 classes.\n",
      "Found 74 images in test with 6 classes.\n",
      "Num classes: 6\n"
     ]
    }
   ],
   "source": [
    "# Cell 4 — dataset, transforms, dataloaders\n",
    "class MelSpectrogramDataset(Dataset):\n",
    "    def __init__(self, base_dir, split=\"train\", transform=None):\n",
    "        self.transform = transform\n",
    "        self.data_dir = os.path.join(base_dir, split)\n",
    "        if not os.path.isdir(self.data_dir):\n",
    "            raise FileNotFoundError(f\"Directory not found: {self.data_dir}\")\n",
    "        self.classes = sorted([d for d in os.listdir(self.data_dir) if os.path.isdir(os.path.join(self.data_dir, d))])\n",
    "        self.class_to_idx = {c:i for i,c in enumerate(self.classes)}\n",
    "        self.paths, self.labels = [], []\n",
    "        for cls in self.classes:\n",
    "            cls_dir = os.path.join(self.data_dir, cls)\n",
    "            for f in os.listdir(cls_dir):\n",
    "                if f.lower().endswith((\".png\",\".jpg\",\".jpeg\")):\n",
    "                    self.paths.append(os.path.join(cls_dir, f))\n",
    "                    self.labels.append(self.class_to_idx[cls])\n",
    "        print(f\"Found {len(self.paths)} images in {split} with {len(self.classes)} classes.\")\n",
    "\n",
    "    def __len__(self): return len(self.paths)\n",
    "    def __getitem__(self, idx):\n",
    "        img = Image.open(self.paths[idx]).convert(\"RGB\")\n",
    "        label = self.labels[idx]\n",
    "        if self.transform: img = self.transform(img)\n",
    "        return img, label\n",
    "\n",
    "# transforms using DINOv2 processor normalization\n",
    "proc = AutoImageProcessor.from_pretrained(\"facebook/dinov2-small\")\n",
    "mean, std = proc.image_mean, proc.image_std\n",
    "\n",
    "train_transform = transforms.Compose([\n",
    "    transforms.Resize((config.IMG_SIZE, config.IMG_SIZE)),\n",
    "    transforms.TrivialAugmentWide(),\n",
    "    transforms.ToTensor(),\n",
    "    transforms.Normalize(mean=mean, std=std)\n",
    "])\n",
    "val_transform = transforms.Compose([\n",
    "    transforms.Resize((config.IMG_SIZE, config.IMG_SIZE)),\n",
    "    transforms.ToTensor(),\n",
    "    transforms.Normalize(mean=mean, std=std)\n",
    "])\n",
    "\n",
    "train_dataset = MelSpectrogramDataset(config.BASE_DIR, \"train\", train_transform)\n",
    "val_dataset = MelSpectrogramDataset(config.BASE_DIR, \"validation\", val_transform)\n",
    "test_dataset = MelSpectrogramDataset(config.BASE_DIR, \"test\", val_transform)\n",
    "\n",
    "train_loader = DataLoader(train_dataset, batch_size=config.BATCH_SIZE, shuffle=True, num_workers=config.NUM_WORKERS)\n",
    "val_loader = DataLoader(val_dataset, batch_size=config.BATCH_SIZE, shuffle=False, num_workers=config.NUM_WORKERS)\n",
    "test_loader = DataLoader(test_dataset, batch_size=config.BATCH_SIZE, shuffle=False, num_workers=config.NUM_WORKERS)\n",
    "\n",
    "num_classes = len(train_dataset.classes)\n",
    "print(\"Num classes:\", num_classes)\n"
   ]
  },
  {
   "cell_type": "code",
   "execution_count": 4,
   "id": "c7f35e31",
   "metadata": {},
   "outputs": [],
   "source": [
    "# Cell 5 — augment, mixup, loss helpers\n",
    "class SpecAugment(nn.Module):\n",
    "    def __init__(self, freq_mask_param=20, time_mask_param=30):\n",
    "        super().__init__()\n",
    "        self.F = freq_mask_param\n",
    "        self.T = time_mask_param\n",
    "    def forward(self, x):\n",
    "        B,C,H,W = x.shape\n",
    "        # freq masks (height)\n",
    "        f = np.random.randint(0, min(self.F, H)+1)\n",
    "        if f>0:\n",
    "            f0 = np.random.randint(0, max(1, H - f))\n",
    "            x[:, :, f0:f0+f, :] = 0\n",
    "        # time masks (width)\n",
    "        t = np.random.randint(0, min(self.T, W)+1)\n",
    "        if t>0:\n",
    "            t0 = np.random.randint(0, max(1, W - t))\n",
    "            x[:, :, :, t0:t0+t] = 0\n",
    "        return x\n",
    "\n",
    "spec_augment = SpecAugment(freq_mask_param=config.SPEC_AUG_FREQ, time_mask_param=config.SPEC_AUG_TIME)\n",
    "\n",
    "def mixup_data(x, y, alpha=0.3, device=\"cuda\"):\n",
    "    if alpha > 0:\n",
    "        lam = np.random.beta(alpha, alpha)\n",
    "    else:\n",
    "        lam = 1.0\n",
    "    batch_size = x.size(0)\n",
    "    index = torch.randperm(batch_size).to(device)\n",
    "    mixed_x = lam * x + (1 - lam) * x[index]\n",
    "    y_a, y_b = y, y[index]\n",
    "    return mixed_x, y_a, y_b, lam\n",
    "\n",
    "def mixup_criterion(criterion, pred, y_a, y_b, lam):\n",
    "    return lam * criterion(pred, y_a) + (1 - lam) * criterion(pred, y_b)\n",
    "\n",
    "# loss\n",
    "class GradientFocalLoss(nn.Module):\n",
    "    def __init__(self, alpha=0.25, gamma=2.0, reduction=\"mean\"):\n",
    "        super().__init__()\n",
    "        self.alpha = alpha; self.gamma = gamma; self.reduction = reduction\n",
    "    def forward(self, logits, targets):\n",
    "        ce = nn.functional.cross_entropy(logits, targets, reduction=\"none\")\n",
    "        p = torch.exp(-ce)\n",
    "        probs = torch.softmax(logits, dim=1)\n",
    "        target_probs = probs.gather(1, targets.unsqueeze(1)).squeeze(1)\n",
    "        grad_weight = torch.abs(target_probs - 1.0)\n",
    "        focal = self.alpha * (1 - p) ** self.gamma * (1 + grad_weight)\n",
    "        loss = focal * ce\n",
    "        return loss.mean() if self.reduction==\"mean\" else loss.sum()\n"
   ]
  },
  {
   "cell_type": "code",
   "execution_count": 5,
   "id": "67a12242",
   "metadata": {},
   "outputs": [],
   "source": [
    "# Cell 6 — train and validation functions (AMP)\n",
    "scaler = torch.cuda.amp.GradScaler()\n",
    "\n",
    "def train_epoch(model, dataloader, criterion, optimizer, device, mixup_alpha=0.0, spec_aug=True):\n",
    "    model.train()\n",
    "    running_loss = 0.0\n",
    "    all_preds, all_labels = [], []\n",
    "    pbar = tqdm(dataloader, desc=\"Train\")\n",
    "    for imgs, labels in pbar:\n",
    "        imgs = imgs.to(device); labels = labels.to(device)\n",
    "        if spec_aug:\n",
    "            imgs = spec_augment(imgs)\n",
    "        if mixup_alpha > 0:\n",
    "            inputs, targets_a, targets_b, lam = mixup_data(imgs, labels, mixup_alpha, device)\n",
    "        else:\n",
    "            inputs, targets_a, targets_b, lam = imgs, labels, labels, 1.0\n",
    "\n",
    "        optimizer.zero_grad(set_to_none=True)\n",
    "        with torch.cuda.amp.autocast():\n",
    "            logits = model(inputs)\n",
    "            loss = mixup_criterion(criterion, logits, targets_a, targets_b, lam)\n",
    "\n",
    "        scaler.scale(loss).backward()\n",
    "        scaler.step(optimizer)\n",
    "        scaler.update()\n",
    "\n",
    "        running_loss += loss.item()\n",
    "        _, preds = torch.max(logits, dim=1)\n",
    "        all_preds.extend(preds.detach().cpu().numpy())\n",
    "        all_labels.extend(labels.detach().cpu().numpy())\n",
    "        pbar.set_postfix({\"loss\": f\"{loss.item():.4f}\"})\n",
    "\n",
    "    avg_loss = running_loss / len(dataloader)\n",
    "    acc = accuracy_score(all_labels, all_preds)\n",
    "    return avg_loss, acc\n",
    "\n",
    "def validate_epoch(model, dataloader, criterion, device):\n",
    "    model.eval()\n",
    "    running_loss = 0.0\n",
    "    all_preds, all_labels = [], []\n",
    "    with torch.no_grad():\n",
    "        pbar = tqdm(dataloader, desc=\"Val\")\n",
    "        for imgs, labels in pbar:\n",
    "            imgs = imgs.to(device); labels = labels.to(device)\n",
    "            with torch.cuda.amp.autocast():\n",
    "                logits = model(imgs)\n",
    "                loss = criterion(logits, labels)\n",
    "            running_loss += loss.item()\n",
    "            _, preds = torch.max(logits, dim=1)\n",
    "            all_preds.extend(preds.detach().cpu().numpy())\n",
    "            all_labels.extend(labels.detach().cpu().numpy())\n",
    "    avg_loss = running_loss / len(dataloader)\n",
    "    acc = accuracy_score(all_labels, all_preds)\n",
    "    return avg_loss, acc\n"
   ]
  },
  {
   "cell_type": "code",
   "execution_count": 6,
   "id": "b397bd5d",
   "metadata": {},
   "outputs": [
    {
     "name": "stdout",
     "output_type": "stream",
     "text": [
      "Loading GFT checkpoint (strict=False)...\n",
      "GFT weights loaded (strict=False).\n",
      "Creating CoAtNet: coatnet_0_rw_224 (pretrained=True)\n",
      "Model created.\n",
      "\n",
      "HEAD PHASE Epoch 1/6\n"
     ]
    },
    {
     "data": {
      "application/vnd.jupyter.widget-view+json": {
       "model_id": "95256c0ce00f429196881cd6029bfd1a",
       "version_major": 2,
       "version_minor": 0
      },
      "text/plain": [
       "Train:   0%|          | 0/252 [00:00<?, ?it/s]"
      ]
     },
     "metadata": {},
     "output_type": "display_data"
    },
    {
     "data": {
      "application/vnd.jupyter.widget-view+json": {
       "model_id": "8384f170e5b9428682af4ba62911935c",
       "version_major": 2,
       "version_minor": 0
      },
      "text/plain": [
       "Val:   0%|          | 0/5 [00:00<?, ?it/s]"
      ]
     },
     "metadata": {},
     "output_type": "display_data"
    },
    {
     "name": "stdout",
     "output_type": "stream",
     "text": [
      "Train Loss 0.0781 Acc 0.8754 | Val Loss 0.1434 Acc 0.7671\n",
      "Saved best head: checkpoints_fusion_v2\\best_head_fusion_v2.pth\n",
      "\n",
      "HEAD PHASE Epoch 2/6\n"
     ]
    },
    {
     "data": {
      "application/vnd.jupyter.widget-view+json": {
       "model_id": "c8152625a25e4652b8dd345982278664",
       "version_major": 2,
       "version_minor": 0
      },
      "text/plain": [
       "Train:   0%|          | 0/252 [00:00<?, ?it/s]"
      ]
     },
     "metadata": {},
     "output_type": "display_data"
    },
    {
     "data": {
      "application/vnd.jupyter.widget-view+json": {
       "model_id": "e45d48c846af4f0fb65fa85c616373f4",
       "version_major": 2,
       "version_minor": 0
      },
      "text/plain": [
       "Val:   0%|          | 0/5 [00:00<?, ?it/s]"
      ]
     },
     "metadata": {},
     "output_type": "display_data"
    },
    {
     "name": "stdout",
     "output_type": "stream",
     "text": [
      "Train Loss 0.0626 Acc 0.8834 | Val Loss 0.1402 Acc 0.8493\n",
      "Saved best head: checkpoints_fusion_v2\\best_head_fusion_v2.pth\n",
      "\n",
      "HEAD PHASE Epoch 3/6\n"
     ]
    },
    {
     "data": {
      "application/vnd.jupyter.widget-view+json": {
       "model_id": "3d9ab97a8e0c4deaa88d8cedbbf415bc",
       "version_major": 2,
       "version_minor": 0
      },
      "text/plain": [
       "Train:   0%|          | 0/252 [00:00<?, ?it/s]"
      ]
     },
     "metadata": {},
     "output_type": "display_data"
    },
    {
     "data": {
      "application/vnd.jupyter.widget-view+json": {
       "model_id": "54c84498eea0473aa2c8967e0cf926e4",
       "version_major": 2,
       "version_minor": 0
      },
      "text/plain": [
       "Val:   0%|          | 0/5 [00:00<?, ?it/s]"
      ]
     },
     "metadata": {},
     "output_type": "display_data"
    },
    {
     "name": "stdout",
     "output_type": "stream",
     "text": [
      "Train Loss 0.0565 Acc 0.8946 | Val Loss 0.1144 Acc 0.8219\n",
      "\n",
      "HEAD PHASE Epoch 4/6\n"
     ]
    },
    {
     "data": {
      "application/vnd.jupyter.widget-view+json": {
       "model_id": "f7cc3a4098344d6890d84150a2a87a8b",
       "version_major": 2,
       "version_minor": 0
      },
      "text/plain": [
       "Train:   0%|          | 0/252 [00:00<?, ?it/s]"
      ]
     },
     "metadata": {},
     "output_type": "display_data"
    },
    {
     "data": {
      "application/vnd.jupyter.widget-view+json": {
       "model_id": "794eb85b0b8d41a7a83baae83e642f62",
       "version_major": 2,
       "version_minor": 0
      },
      "text/plain": [
       "Val:   0%|          | 0/5 [00:00<?, ?it/s]"
      ]
     },
     "metadata": {},
     "output_type": "display_data"
    },
    {
     "name": "stdout",
     "output_type": "stream",
     "text": [
      "Train Loss 0.0535 Acc 0.9003 | Val Loss 0.1142 Acc 0.8219\n",
      "\n",
      "HEAD PHASE Epoch 5/6\n"
     ]
    },
    {
     "data": {
      "application/vnd.jupyter.widget-view+json": {
       "model_id": "1b48aaa33ca241bb941fb246c01eceff",
       "version_major": 2,
       "version_minor": 0
      },
      "text/plain": [
       "Train:   0%|          | 0/252 [00:00<?, ?it/s]"
      ]
     },
     "metadata": {},
     "output_type": "display_data"
    },
    {
     "data": {
      "application/vnd.jupyter.widget-view+json": {
       "model_id": "a9c6ece83255460e9fd89e29600fd41b",
       "version_major": 2,
       "version_minor": 0
      },
      "text/plain": [
       "Val:   0%|          | 0/5 [00:00<?, ?it/s]"
      ]
     },
     "metadata": {},
     "output_type": "display_data"
    },
    {
     "name": "stdout",
     "output_type": "stream",
     "text": [
      "Train Loss 0.0526 Acc 0.8988 | Val Loss 0.1104 Acc 0.8219\n",
      "\n",
      "HEAD PHASE Epoch 6/6\n"
     ]
    },
    {
     "data": {
      "application/vnd.jupyter.widget-view+json": {
       "model_id": "007f06fdd64e40a3b96879a736108296",
       "version_major": 2,
       "version_minor": 0
      },
      "text/plain": [
       "Train:   0%|          | 0/252 [00:00<?, ?it/s]"
      ]
     },
     "metadata": {},
     "output_type": "display_data"
    },
    {
     "data": {
      "application/vnd.jupyter.widget-view+json": {
       "model_id": "2f0ab4a8e3584736a9c38a28461cd1f4",
       "version_major": 2,
       "version_minor": 0
      },
      "text/plain": [
       "Val:   0%|          | 0/5 [00:00<?, ?it/s]"
      ]
     },
     "metadata": {},
     "output_type": "display_data"
    },
    {
     "name": "stdout",
     "output_type": "stream",
     "text": [
      "Train Loss 0.0630 Acc 0.8796 | Val Loss 0.1428 Acc 0.8082\n",
      "Head training done. Best val: 0.8493150684931506\n"
     ]
    }
   ],
   "source": [
    "# Cell 7 — Phase 1: Train Fusion Head\n",
    "# Creates model, freezes large parts, trains only projection heads + fusion head.\n",
    "\n",
    "model = GFT_CoAtNet_Fusion_v2(\n",
    "    gft_checkpoint_path=config.GFT_MODEL_PATH,\n",
    "    num_classes=num_classes,\n",
    "    coatnet_name=config.COATNET_MODEL,\n",
    "    coatnet_pretrained=config.PRETRAINED_COATNET\n",
    ").to(config.DEVICE)\n",
    "print(\"Model created.\")\n",
    "\n",
    "# Freeze both branches initially\n",
    "for p in model.gft_branch.parameters(): p.requires_grad = False\n",
    "for p in model.coatnet.parameters(): p.requires_grad = False\n",
    "\n",
    "# Enable projections + fusion head\n",
    "for p in model.gft_proj.parameters(): p.requires_grad = True\n",
    "for p in model.coat_proj.parameters(): p.requires_grad = True\n",
    "for p in model.cross.parameters(): p.requires_grad = True\n",
    "for p in model.fusion_head.parameters(): p.requires_grad = True\n",
    "\n",
    "# Prepare optimizer and criterion\n",
    "criterion = GradientFocalLoss(alpha=0.25, gamma=2.0)\n",
    "opt_params = filter(lambda p: p.requires_grad, model.parameters())\n",
    "optimizer = optim.AdamW(opt_params, lr=config.HEAD_LR, weight_decay=config.WEIGHT_DECAY)\n",
    "scheduler = optim.lr_scheduler.CosineAnnealingLR(optimizer, T_max=max(1, config.HEAD_EPOCHS - config.LR_WARMUP_EPOCHS))\n",
    "\n",
    "best_val = 0.0\n",
    "for epoch in range(config.HEAD_EPOCHS):\n",
    "    print(f\"\\nHEAD PHASE Epoch {epoch+1}/{config.HEAD_EPOCHS}\")\n",
    "    train_loss, train_acc = train_epoch(model, train_loader, criterion, optimizer, config.DEVICE, mixup_alpha=0.0, spec_aug=True)\n",
    "    val_loss, val_acc = validate_epoch(model, val_loader, criterion, config.DEVICE)\n",
    "    scheduler.step()\n",
    "    print(f\"Train Loss {train_loss:.4f} Acc {train_acc:.4f} | Val Loss {val_loss:.4f} Acc {val_acc:.4f}\")\n",
    "    if val_acc > best_val:\n",
    "        best_val = val_acc\n",
    "        save_path = os.path.join(config.SAVE_DIR, \"best_head_fusion_v2.pth\")\n",
    "        torch.save(model.state_dict(), save_path)\n",
    "        print(\"Saved best head:\", save_path)\n",
    "\n",
    "print(\"Head training done. Best val:\", best_val)\n"
   ]
  },
  {
   "cell_type": "code",
   "execution_count": 7,
   "id": "656b36d3",
   "metadata": {},
   "outputs": [
    {
     "name": "stdout",
     "output_type": "stream",
     "text": [
      "Loaded head checkpoint.\n",
      "\n",
      "PARTIAL PHASE Epoch 1/18\n"
     ]
    },
    {
     "data": {
      "application/vnd.jupyter.widget-view+json": {
       "model_id": "6187ae40db3448bc80417b4a19b655a1",
       "version_major": 2,
       "version_minor": 0
      },
      "text/plain": [
       "Train:   0%|          | 0/252 [00:00<?, ?it/s]"
      ]
     },
     "metadata": {},
     "output_type": "display_data"
    },
    {
     "data": {
      "application/vnd.jupyter.widget-view+json": {
       "model_id": "b3b9d9ce24fb4e28838eca03eef303d4",
       "version_major": 2,
       "version_minor": 0
      },
      "text/plain": [
       "Val:   0%|          | 0/5 [00:00<?, ?it/s]"
      ]
     },
     "metadata": {},
     "output_type": "display_data"
    },
    {
     "name": "stdout",
     "output_type": "stream",
     "text": [
      "Train Loss 0.1913 Acc 0.5633 | Val Loss 0.1216 Acc 0.7945\n",
      "Saved best partial: checkpoints_fusion_v2\\best_partial_fusion_v2.pth\n",
      "\n",
      "PARTIAL PHASE Epoch 2/18\n"
     ]
    },
    {
     "data": {
      "application/vnd.jupyter.widget-view+json": {
       "model_id": "0bbf877f14f04a4cae282f8bd272037a",
       "version_major": 2,
       "version_minor": 0
      },
      "text/plain": [
       "Train:   0%|          | 0/252 [00:00<?, ?it/s]"
      ]
     },
     "metadata": {},
     "output_type": "display_data"
    },
    {
     "data": {
      "application/vnd.jupyter.widget-view+json": {
       "model_id": "5734c63f75d443c2b5d57864420d6eaa",
       "version_major": 2,
       "version_minor": 0
      },
      "text/plain": [
       "Val:   0%|          | 0/5 [00:00<?, ?it/s]"
      ]
     },
     "metadata": {},
     "output_type": "display_data"
    },
    {
     "name": "stdout",
     "output_type": "stream",
     "text": [
      "Train Loss 0.1685 Acc 0.5315 | Val Loss 0.1151 Acc 0.8219\n",
      "Saved best partial: checkpoints_fusion_v2\\best_partial_fusion_v2.pth\n",
      "\n",
      "PARTIAL PHASE Epoch 3/18\n"
     ]
    },
    {
     "data": {
      "application/vnd.jupyter.widget-view+json": {
       "model_id": "2f139a9cc5424df8b68c67451ac6969f",
       "version_major": 2,
       "version_minor": 0
      },
      "text/plain": [
       "Train:   0%|          | 0/252 [00:00<?, ?it/s]"
      ]
     },
     "metadata": {},
     "output_type": "display_data"
    },
    {
     "data": {
      "application/vnd.jupyter.widget-view+json": {
       "model_id": "33e9f4c1041f44c6ae93e1c87f0dbaee",
       "version_major": 2,
       "version_minor": 0
      },
      "text/plain": [
       "Val:   0%|          | 0/5 [00:00<?, ?it/s]"
      ]
     },
     "metadata": {},
     "output_type": "display_data"
    },
    {
     "name": "stdout",
     "output_type": "stream",
     "text": [
      "Train Loss 0.1691 Acc 0.5715 | Val Loss 0.1138 Acc 0.8082\n",
      "\n",
      "PARTIAL PHASE Epoch 4/18\n"
     ]
    },
    {
     "data": {
      "application/vnd.jupyter.widget-view+json": {
       "model_id": "ad9cbf77922a49eab7fa32782f6d2031",
       "version_major": 2,
       "version_minor": 0
      },
      "text/plain": [
       "Train:   0%|          | 0/252 [00:00<?, ?it/s]"
      ]
     },
     "metadata": {},
     "output_type": "display_data"
    },
    {
     "data": {
      "application/vnd.jupyter.widget-view+json": {
       "model_id": "4835d3cce2f04ff2bd18bdb8617f4c9f",
       "version_major": 2,
       "version_minor": 0
      },
      "text/plain": [
       "Val:   0%|          | 0/5 [00:00<?, ?it/s]"
      ]
     },
     "metadata": {},
     "output_type": "display_data"
    },
    {
     "name": "stdout",
     "output_type": "stream",
     "text": [
      "Train Loss 0.1648 Acc 0.5106 | Val Loss 0.1119 Acc 0.8082\n",
      "\n",
      "PARTIAL PHASE Epoch 5/18\n"
     ]
    },
    {
     "data": {
      "application/vnd.jupyter.widget-view+json": {
       "model_id": "3e9f7f9580084d25a796fc5721ce8583",
       "version_major": 2,
       "version_minor": 0
      },
      "text/plain": [
       "Train:   0%|          | 0/252 [00:00<?, ?it/s]"
      ]
     },
     "metadata": {},
     "output_type": "display_data"
    },
    {
     "data": {
      "application/vnd.jupyter.widget-view+json": {
       "model_id": "68bc83d54bc44e9a8582bdf4a1937958",
       "version_major": 2,
       "version_minor": 0
      },
      "text/plain": [
       "Val:   0%|          | 0/5 [00:00<?, ?it/s]"
      ]
     },
     "metadata": {},
     "output_type": "display_data"
    },
    {
     "name": "stdout",
     "output_type": "stream",
     "text": [
      "Train Loss 0.1617 Acc 0.5429 | Val Loss 0.1083 Acc 0.8356\n",
      "Saved best partial: checkpoints_fusion_v2\\best_partial_fusion_v2.pth\n",
      "\n",
      "PARTIAL PHASE Epoch 6/18\n"
     ]
    },
    {
     "data": {
      "application/vnd.jupyter.widget-view+json": {
       "model_id": "fe7a05c4ad1049c18b5232e2675c77db",
       "version_major": 2,
       "version_minor": 0
      },
      "text/plain": [
       "Train:   0%|          | 0/252 [00:00<?, ?it/s]"
      ]
     },
     "metadata": {},
     "output_type": "display_data"
    },
    {
     "data": {
      "application/vnd.jupyter.widget-view+json": {
       "model_id": "5520c04ccf1c4d61aaecc079b276dbad",
       "version_major": 2,
       "version_minor": 0
      },
      "text/plain": [
       "Val:   0%|          | 0/5 [00:00<?, ?it/s]"
      ]
     },
     "metadata": {},
     "output_type": "display_data"
    },
    {
     "name": "stdout",
     "output_type": "stream",
     "text": [
      "Train Loss 0.1601 Acc 0.5531 | Val Loss 0.1123 Acc 0.8219\n",
      "\n",
      "PARTIAL PHASE Epoch 7/18\n"
     ]
    },
    {
     "data": {
      "application/vnd.jupyter.widget-view+json": {
       "model_id": "73f066f0914a457dbda5f940f2a4346f",
       "version_major": 2,
       "version_minor": 0
      },
      "text/plain": [
       "Train:   0%|          | 0/252 [00:00<?, ?it/s]"
      ]
     },
     "metadata": {},
     "output_type": "display_data"
    },
    {
     "data": {
      "application/vnd.jupyter.widget-view+json": {
       "model_id": "f973a7d842da4559ad90a6efb0759a5a",
       "version_major": 2,
       "version_minor": 0
      },
      "text/plain": [
       "Val:   0%|          | 0/5 [00:00<?, ?it/s]"
      ]
     },
     "metadata": {},
     "output_type": "display_data"
    },
    {
     "name": "stdout",
     "output_type": "stream",
     "text": [
      "Train Loss 0.1650 Acc 0.5526 | Val Loss 0.1048 Acc 0.8082\n",
      "\n",
      "PARTIAL PHASE Epoch 8/18\n"
     ]
    },
    {
     "data": {
      "application/vnd.jupyter.widget-view+json": {
       "model_id": "13054d8e785544659cdd83083954ea33",
       "version_major": 2,
       "version_minor": 0
      },
      "text/plain": [
       "Train:   0%|          | 0/252 [00:00<?, ?it/s]"
      ]
     },
     "metadata": {},
     "output_type": "display_data"
    },
    {
     "data": {
      "application/vnd.jupyter.widget-view+json": {
       "model_id": "ac88e7d50eb340e1b1f95a6f093349c6",
       "version_major": 2,
       "version_minor": 0
      },
      "text/plain": [
       "Val:   0%|          | 0/5 [00:00<?, ?it/s]"
      ]
     },
     "metadata": {},
     "output_type": "display_data"
    },
    {
     "name": "stdout",
     "output_type": "stream",
     "text": [
      "Train Loss 0.1659 Acc 0.5603 | Val Loss 0.1074 Acc 0.8356\n",
      "\n",
      "PARTIAL PHASE Epoch 9/18\n"
     ]
    },
    {
     "data": {
      "application/vnd.jupyter.widget-view+json": {
       "model_id": "b0961f3a1a7b4086a105ac46124e14fb",
       "version_major": 2,
       "version_minor": 0
      },
      "text/plain": [
       "Train:   0%|          | 0/252 [00:00<?, ?it/s]"
      ]
     },
     "metadata": {},
     "output_type": "display_data"
    },
    {
     "data": {
      "application/vnd.jupyter.widget-view+json": {
       "model_id": "76167c3ad64845b0b05958b2c6115b6a",
       "version_major": 2,
       "version_minor": 0
      },
      "text/plain": [
       "Val:   0%|          | 0/5 [00:00<?, ?it/s]"
      ]
     },
     "metadata": {},
     "output_type": "display_data"
    },
    {
     "name": "stdout",
     "output_type": "stream",
     "text": [
      "Train Loss 0.1566 Acc 0.5374 | Val Loss 0.1123 Acc 0.8356\n",
      "\n",
      "PARTIAL PHASE Epoch 10/18\n"
     ]
    },
    {
     "data": {
      "application/vnd.jupyter.widget-view+json": {
       "model_id": "f36246b5cfaa49789590f46adb859179",
       "version_major": 2,
       "version_minor": 0
      },
      "text/plain": [
       "Train:   0%|          | 0/252 [00:00<?, ?it/s]"
      ]
     },
     "metadata": {},
     "output_type": "display_data"
    },
    {
     "data": {
      "application/vnd.jupyter.widget-view+json": {
       "model_id": "291d709f43d043bfa239537826713f4e",
       "version_major": 2,
       "version_minor": 0
      },
      "text/plain": [
       "Val:   0%|          | 0/5 [00:00<?, ?it/s]"
      ]
     },
     "metadata": {},
     "output_type": "display_data"
    },
    {
     "name": "stdout",
     "output_type": "stream",
     "text": [
      "Train Loss 0.1608 Acc 0.5265 | Val Loss 0.1167 Acc 0.8630\n",
      "Saved best partial: checkpoints_fusion_v2\\best_partial_fusion_v2.pth\n",
      "\n",
      "PARTIAL PHASE Epoch 11/18\n"
     ]
    },
    {
     "data": {
      "application/vnd.jupyter.widget-view+json": {
       "model_id": "b8cde684650746dc865f49166ad254d9",
       "version_major": 2,
       "version_minor": 0
      },
      "text/plain": [
       "Train:   0%|          | 0/252 [00:00<?, ?it/s]"
      ]
     },
     "metadata": {},
     "output_type": "display_data"
    },
    {
     "data": {
      "application/vnd.jupyter.widget-view+json": {
       "model_id": "9cc065c19ec4465cb3c0a003f22aa143",
       "version_major": 2,
       "version_minor": 0
      },
      "text/plain": [
       "Val:   0%|          | 0/5 [00:00<?, ?it/s]"
      ]
     },
     "metadata": {},
     "output_type": "display_data"
    },
    {
     "name": "stdout",
     "output_type": "stream",
     "text": [
      "Train Loss 0.1599 Acc 0.5292 | Val Loss 0.1060 Acc 0.8356\n",
      "\n",
      "PARTIAL PHASE Epoch 12/18\n"
     ]
    },
    {
     "data": {
      "application/vnd.jupyter.widget-view+json": {
       "model_id": "958582a82a794396990ade31a097aaf8",
       "version_major": 2,
       "version_minor": 0
      },
      "text/plain": [
       "Train:   0%|          | 0/252 [00:00<?, ?it/s]"
      ]
     },
     "metadata": {},
     "output_type": "display_data"
    },
    {
     "data": {
      "application/vnd.jupyter.widget-view+json": {
       "model_id": "1d9e6b7519c04ac29b6d5616d7b72f86",
       "version_major": 2,
       "version_minor": 0
      },
      "text/plain": [
       "Val:   0%|          | 0/5 [00:00<?, ?it/s]"
      ]
     },
     "metadata": {},
     "output_type": "display_data"
    },
    {
     "name": "stdout",
     "output_type": "stream",
     "text": [
      "Train Loss 0.1517 Acc 0.5655 | Val Loss 0.1132 Acc 0.8356\n",
      "\n",
      "PARTIAL PHASE Epoch 13/18\n"
     ]
    },
    {
     "data": {
      "application/vnd.jupyter.widget-view+json": {
       "model_id": "0452c2b821414b369332e7563c128f45",
       "version_major": 2,
       "version_minor": 0
      },
      "text/plain": [
       "Train:   0%|          | 0/252 [00:00<?, ?it/s]"
      ]
     },
     "metadata": {},
     "output_type": "display_data"
    },
    {
     "data": {
      "application/vnd.jupyter.widget-view+json": {
       "model_id": "ac0763db6f1a4d1f8d14664378c8c7e6",
       "version_major": 2,
       "version_minor": 0
      },
      "text/plain": [
       "Val:   0%|          | 0/5 [00:00<?, ?it/s]"
      ]
     },
     "metadata": {},
     "output_type": "display_data"
    },
    {
     "name": "stdout",
     "output_type": "stream",
     "text": [
      "Train Loss 0.1515 Acc 0.5581 | Val Loss 0.1126 Acc 0.8493\n",
      "\n",
      "PARTIAL PHASE Epoch 14/18\n"
     ]
    },
    {
     "data": {
      "application/vnd.jupyter.widget-view+json": {
       "model_id": "d16a92ab53594157a87765208b41971f",
       "version_major": 2,
       "version_minor": 0
      },
      "text/plain": [
       "Train:   0%|          | 0/252 [00:00<?, ?it/s]"
      ]
     },
     "metadata": {},
     "output_type": "display_data"
    },
    {
     "data": {
      "application/vnd.jupyter.widget-view+json": {
       "model_id": "deb44837efbd4e818f219d4b1c185cfd",
       "version_major": 2,
       "version_minor": 0
      },
      "text/plain": [
       "Val:   0%|          | 0/5 [00:00<?, ?it/s]"
      ]
     },
     "metadata": {},
     "output_type": "display_data"
    },
    {
     "name": "stdout",
     "output_type": "stream",
     "text": [
      "Train Loss 0.1564 Acc 0.5680 | Val Loss 0.1128 Acc 0.8356\n",
      "\n",
      "PARTIAL PHASE Epoch 15/18\n"
     ]
    },
    {
     "data": {
      "application/vnd.jupyter.widget-view+json": {
       "model_id": "a0083fce217e47c7abd5b626daf34ca6",
       "version_major": 2,
       "version_minor": 0
      },
      "text/plain": [
       "Train:   0%|          | 0/252 [00:00<?, ?it/s]"
      ]
     },
     "metadata": {},
     "output_type": "display_data"
    },
    {
     "data": {
      "application/vnd.jupyter.widget-view+json": {
       "model_id": "3a958a8e7a424e4f94deedefaf85dced",
       "version_major": 2,
       "version_minor": 0
      },
      "text/plain": [
       "Val:   0%|          | 0/5 [00:00<?, ?it/s]"
      ]
     },
     "metadata": {},
     "output_type": "display_data"
    },
    {
     "name": "stdout",
     "output_type": "stream",
     "text": [
      "Train Loss 0.1454 Acc 0.5735 | Val Loss 0.1099 Acc 0.8356\n",
      "\n",
      "PARTIAL PHASE Epoch 16/18\n"
     ]
    },
    {
     "data": {
      "application/vnd.jupyter.widget-view+json": {
       "model_id": "0cc9b9ac2d46477593d33c23498856c7",
       "version_major": 2,
       "version_minor": 0
      },
      "text/plain": [
       "Train:   0%|          | 0/252 [00:00<?, ?it/s]"
      ]
     },
     "metadata": {},
     "output_type": "display_data"
    },
    {
     "data": {
      "application/vnd.jupyter.widget-view+json": {
       "model_id": "bfcf27ca8a544d7fa9d53a6f43329d88",
       "version_major": 2,
       "version_minor": 0
      },
      "text/plain": [
       "Val:   0%|          | 0/5 [00:00<?, ?it/s]"
      ]
     },
     "metadata": {},
     "output_type": "display_data"
    },
    {
     "name": "stdout",
     "output_type": "stream",
     "text": [
      "Train Loss 0.1478 Acc 0.5663 | Val Loss 0.1120 Acc 0.8493\n",
      "\n",
      "PARTIAL PHASE Epoch 17/18\n"
     ]
    },
    {
     "data": {
      "application/vnd.jupyter.widget-view+json": {
       "model_id": "a1b6244af086442785984cd79b1d010b",
       "version_major": 2,
       "version_minor": 0
      },
      "text/plain": [
       "Train:   0%|          | 0/252 [00:00<?, ?it/s]"
      ]
     },
     "metadata": {},
     "output_type": "display_data"
    },
    {
     "data": {
      "application/vnd.jupyter.widget-view+json": {
       "model_id": "2500b94238cf4d7e894790845e5e4d32",
       "version_major": 2,
       "version_minor": 0
      },
      "text/plain": [
       "Val:   0%|          | 0/5 [00:00<?, ?it/s]"
      ]
     },
     "metadata": {},
     "output_type": "display_data"
    },
    {
     "name": "stdout",
     "output_type": "stream",
     "text": [
      "Train Loss 0.1538 Acc 0.5359 | Val Loss 0.1111 Acc 0.8493\n",
      "\n",
      "PARTIAL PHASE Epoch 18/18\n"
     ]
    },
    {
     "data": {
      "application/vnd.jupyter.widget-view+json": {
       "model_id": "8333a40d93d540639cd98e5d76492f96",
       "version_major": 2,
       "version_minor": 0
      },
      "text/plain": [
       "Train:   0%|          | 0/252 [00:00<?, ?it/s]"
      ]
     },
     "metadata": {},
     "output_type": "display_data"
    },
    {
     "data": {
      "application/vnd.jupyter.widget-view+json": {
       "model_id": "1d83799946b24e6a88c998612924efc4",
       "version_major": 2,
       "version_minor": 0
      },
      "text/plain": [
       "Val:   0%|          | 0/5 [00:00<?, ?it/s]"
      ]
     },
     "metadata": {},
     "output_type": "display_data"
    },
    {
     "name": "stdout",
     "output_type": "stream",
     "text": [
      "Train Loss 0.1607 Acc 0.5608 | Val Loss 0.1125 Acc 0.8356\n",
      "Early stopping (partial) triggered.\n",
      "Partial training done. Best val: 0.863013698630137\n"
     ]
    }
   ],
   "source": [
    "# Cell 8 — Phase 2: Partial fine-tune\n",
    "# Load best head and unfreeze selective parts of coatnet and last GFT stage\n",
    "\n",
    "# load best head checkpoint if available\n",
    "head_ckpt = os.path.join(config.SAVE_DIR, \"best_head_fusion_v2.pth\")\n",
    "if os.path.exists(head_ckpt):\n",
    "    model.load_state_dict(torch.load(head_ckpt, map_location=config.DEVICE), strict=False)\n",
    "    print(\"Loaded head checkpoint.\")\n",
    "else:\n",
    "    print(\"Head checkpoint not found; continuing with current model state.\")\n",
    "\n",
    "# Unfreeze coatnet (option: selectively unfreeze last blocks)\n",
    "for name, p in model.coatnet.named_parameters():\n",
    "    # heuristics: if you know block names you can target them; here we unfreeze all coatnet params\n",
    "    p.requires_grad = True\n",
    "\n",
    "# Unfreeze last GFT stage parameters (approx: stages[-1])\n",
    "for name, p in model.gft_branch.named_parameters():\n",
    "    # enable last stage (stages.N-1)\n",
    "    if \"stages.2\" in name or \"stages.{}\".format(len(model.gft_branch.gft_encoder.stages)-1) in name:\n",
    "        p.requires_grad = True\n",
    "    else:\n",
    "        # keep earlier gft stages frozen\n",
    "        if \"gft_encoder\" in name:\n",
    "            p.requires_grad = False\n",
    "\n",
    "# ensure projection & fusion remain trainable\n",
    "for p in model.gft_proj.parameters(): p.requires_grad = True\n",
    "for p in model.coat_proj.parameters(): p.requires_grad = True\n",
    "for p in model.cross.parameters(): p.requires_grad = True\n",
    "for p in model.fusion_head.parameters(): p.requires_grad = True\n",
    "\n",
    "# Prepare optimizer with LR groups\n",
    "param_groups = [\n",
    "    {\"params\": model.fusion_head.parameters(), \"lr\": config.PARTIAL_LR},\n",
    "    {\"params\": model.gft_proj.parameters(), \"lr\": config.PARTIAL_LR},\n",
    "    {\"params\": model.coat_proj.parameters(), \"lr\": config.PARTIAL_LR},\n",
    "    {\"params\": [p for n,p in model.gft_branch.named_parameters() if p.requires_grad], \"lr\": config.PARTIAL_LR * 0.5},\n",
    "    {\"params\": model.coatnet.parameters(), \"lr\": config.PARTIAL_LR * 0.5}\n",
    "]\n",
    "optimizer = optim.AdamW(param_groups, weight_decay=config.WEIGHT_DECAY)\n",
    "scheduler = optim.lr_scheduler.CosineAnnealingLR(optimizer, T_max=max(1, config.PARTIAL_EPOCHS - config.LR_WARMUP_EPOCHS))\n",
    "\n",
    "best_val = 0.0\n",
    "epochs_no_improve = 0\n",
    "for epoch in range(config.PARTIAL_EPOCHS):\n",
    "    print(f\"\\nPARTIAL PHASE Epoch {epoch+1}/{config.PARTIAL_EPOCHS}\")\n",
    "    train_loss, train_acc = train_epoch(model, train_loader, criterion, optimizer, config.DEVICE, mixup_alpha=config.MIXUP_ALPHA, spec_aug=True)\n",
    "    val_loss, val_acc = validate_epoch(model, val_loader, criterion, config.DEVICE)\n",
    "    scheduler.step()\n",
    "    print(f\"Train Loss {train_loss:.4f} Acc {train_acc:.4f} | Val Loss {val_loss:.4f} Acc {val_acc:.4f}\")\n",
    "    if val_acc > best_val:\n",
    "        best_val = val_acc\n",
    "        epochs_no_improve = 0\n",
    "        save_path = os.path.join(config.SAVE_DIR, \"best_partial_fusion_v2.pth\")\n",
    "        torch.save(model.state_dict(), save_path)\n",
    "        print(\"Saved best partial:\", save_path)\n",
    "    else:\n",
    "        epochs_no_improve += 1\n",
    "    if epochs_no_improve >= config.PATIENCE:\n",
    "        print(\"Early stopping (partial) triggered.\")\n",
    "        break\n",
    "\n",
    "print(\"Partial training done. Best val:\", best_val)\n"
   ]
  },
  {
   "cell_type": "code",
   "execution_count": 8,
   "id": "546b90a3",
   "metadata": {},
   "outputs": [
    {
     "name": "stdout",
     "output_type": "stream",
     "text": [
      "Loaded partial checkpoint.\n",
      "\n",
      "FULL PHASE Epoch 1/12\n"
     ]
    },
    {
     "data": {
      "application/vnd.jupyter.widget-view+json": {
       "model_id": "143b770c2b064e5bb4ad6f86f134b662",
       "version_major": 2,
       "version_minor": 0
      },
      "text/plain": [
       "Train:   0%|          | 0/252 [00:00<?, ?it/s]"
      ]
     },
     "metadata": {},
     "output_type": "display_data"
    },
    {
     "data": {
      "application/vnd.jupyter.widget-view+json": {
       "model_id": "dd6617bab75e4c2e8eb8354a74fe72fb",
       "version_major": 2,
       "version_minor": 0
      },
      "text/plain": [
       "Val:   0%|          | 0/5 [00:00<?, ?it/s]"
      ]
     },
     "metadata": {},
     "output_type": "display_data"
    },
    {
     "name": "stdout",
     "output_type": "stream",
     "text": [
      "Train Loss 0.1590 Acc 0.5613 | Val Loss 0.1229 Acc 0.8493\n",
      "Saved best full: checkpoints_fusion_v2\\best_full_fusion_v2.pth\n",
      "\n",
      "FULL PHASE Epoch 2/12\n"
     ]
    },
    {
     "data": {
      "application/vnd.jupyter.widget-view+json": {
       "model_id": "d1a0271326a54658a6312cbf9e986a09",
       "version_major": 2,
       "version_minor": 0
      },
      "text/plain": [
       "Train:   0%|          | 0/252 [00:00<?, ?it/s]"
      ]
     },
     "metadata": {},
     "output_type": "display_data"
    },
    {
     "data": {
      "application/vnd.jupyter.widget-view+json": {
       "model_id": "76837f0dd08b4ea48463d3977aacb379",
       "version_major": 2,
       "version_minor": 0
      },
      "text/plain": [
       "Val:   0%|          | 0/5 [00:00<?, ?it/s]"
      ]
     },
     "metadata": {},
     "output_type": "display_data"
    },
    {
     "name": "stdout",
     "output_type": "stream",
     "text": [
      "Train Loss 0.1470 Acc 0.5454 | Val Loss 0.1473 Acc 0.8082\n",
      "\n",
      "FULL PHASE Epoch 3/12\n"
     ]
    },
    {
     "data": {
      "application/vnd.jupyter.widget-view+json": {
       "model_id": "5c2812d21e414d7fb5f01d2ca969df82",
       "version_major": 2,
       "version_minor": 0
      },
      "text/plain": [
       "Train:   0%|          | 0/252 [00:00<?, ?it/s]"
      ]
     },
     "metadata": {},
     "output_type": "display_data"
    },
    {
     "data": {
      "application/vnd.jupyter.widget-view+json": {
       "model_id": "c3de48145d9f40ff8bf5f8be960c8376",
       "version_major": 2,
       "version_minor": 0
      },
      "text/plain": [
       "Val:   0%|          | 0/5 [00:00<?, ?it/s]"
      ]
     },
     "metadata": {},
     "output_type": "display_data"
    },
    {
     "name": "stdout",
     "output_type": "stream",
     "text": [
      "Train Loss 0.1510 Acc 0.5655 | Val Loss 0.1337 Acc 0.8493\n",
      "\n",
      "FULL PHASE Epoch 4/12\n"
     ]
    },
    {
     "data": {
      "application/vnd.jupyter.widget-view+json": {
       "model_id": "b433ea21d0d24aff9ef644ec984d047d",
       "version_major": 2,
       "version_minor": 0
      },
      "text/plain": [
       "Train:   0%|          | 0/252 [00:00<?, ?it/s]"
      ]
     },
     "metadata": {},
     "output_type": "display_data"
    },
    {
     "data": {
      "application/vnd.jupyter.widget-view+json": {
       "model_id": "46fa9f078c1f420dac5015d86eaa8575",
       "version_major": 2,
       "version_minor": 0
      },
      "text/plain": [
       "Val:   0%|          | 0/5 [00:00<?, ?it/s]"
      ]
     },
     "metadata": {},
     "output_type": "display_data"
    },
    {
     "name": "stdout",
     "output_type": "stream",
     "text": [
      "Train Loss 0.1436 Acc 0.5553 | Val Loss 0.1442 Acc 0.8356\n",
      "\n",
      "FULL PHASE Epoch 5/12\n"
     ]
    },
    {
     "data": {
      "application/vnd.jupyter.widget-view+json": {
       "model_id": "719426ca151b4aaea903eecfeb81e26c",
       "version_major": 2,
       "version_minor": 0
      },
      "text/plain": [
       "Train:   0%|          | 0/252 [00:00<?, ?it/s]"
      ]
     },
     "metadata": {},
     "output_type": "display_data"
    },
    {
     "data": {
      "application/vnd.jupyter.widget-view+json": {
       "model_id": "6841e98cbba4483e9e95b9b1a6b320c9",
       "version_major": 2,
       "version_minor": 0
      },
      "text/plain": [
       "Val:   0%|          | 0/5 [00:00<?, ?it/s]"
      ]
     },
     "metadata": {},
     "output_type": "display_data"
    },
    {
     "name": "stdout",
     "output_type": "stream",
     "text": [
      "Train Loss 0.1370 Acc 0.5277 | Val Loss 0.1496 Acc 0.8493\n",
      "\n",
      "FULL PHASE Epoch 6/12\n"
     ]
    },
    {
     "data": {
      "application/vnd.jupyter.widget-view+json": {
       "model_id": "8bb4e9fedde24ea8add663f94d432ea4",
       "version_major": 2,
       "version_minor": 0
      },
      "text/plain": [
       "Train:   0%|          | 0/252 [00:00<?, ?it/s]"
      ]
     },
     "metadata": {},
     "output_type": "display_data"
    },
    {
     "data": {
      "application/vnd.jupyter.widget-view+json": {
       "model_id": "9c450bc7f4494eaba75ce4b16c64a046",
       "version_major": 2,
       "version_minor": 0
      },
      "text/plain": [
       "Val:   0%|          | 0/5 [00:00<?, ?it/s]"
      ]
     },
     "metadata": {},
     "output_type": "display_data"
    },
    {
     "name": "stdout",
     "output_type": "stream",
     "text": [
      "Train Loss 0.1474 Acc 0.5979 | Val Loss 0.1400 Acc 0.8356\n",
      "\n",
      "FULL PHASE Epoch 7/12\n"
     ]
    },
    {
     "data": {
      "application/vnd.jupyter.widget-view+json": {
       "model_id": "ee46de492bb34109aa4d52aabc4ff168",
       "version_major": 2,
       "version_minor": 0
      },
      "text/plain": [
       "Train:   0%|          | 0/252 [00:00<?, ?it/s]"
      ]
     },
     "metadata": {},
     "output_type": "display_data"
    },
    {
     "data": {
      "application/vnd.jupyter.widget-view+json": {
       "model_id": "16a7530a472f4648a5cb5ce840eaca86",
       "version_major": 2,
       "version_minor": 0
      },
      "text/plain": [
       "Val:   0%|          | 0/5 [00:00<?, ?it/s]"
      ]
     },
     "metadata": {},
     "output_type": "display_data"
    },
    {
     "name": "stdout",
     "output_type": "stream",
     "text": [
      "Train Loss 0.1423 Acc 0.5362 | Val Loss 0.1229 Acc 0.8356\n",
      "\n",
      "FULL PHASE Epoch 8/12\n"
     ]
    },
    {
     "data": {
      "application/vnd.jupyter.widget-view+json": {
       "model_id": "0f5dda9e84e84e328c37a08645ac7f79",
       "version_major": 2,
       "version_minor": 0
      },
      "text/plain": [
       "Train:   0%|          | 0/252 [00:00<?, ?it/s]"
      ]
     },
     "metadata": {},
     "output_type": "display_data"
    },
    {
     "data": {
      "application/vnd.jupyter.widget-view+json": {
       "model_id": "a8f16f876c324b569dfddaca40f7ccc0",
       "version_major": 2,
       "version_minor": 0
      },
      "text/plain": [
       "Val:   0%|          | 0/5 [00:00<?, ?it/s]"
      ]
     },
     "metadata": {},
     "output_type": "display_data"
    },
    {
     "name": "stdout",
     "output_type": "stream",
     "text": [
      "Train Loss 0.1301 Acc 0.5904 | Val Loss 0.1326 Acc 0.8082\n",
      "\n",
      "FULL PHASE Epoch 9/12\n"
     ]
    },
    {
     "data": {
      "application/vnd.jupyter.widget-view+json": {
       "model_id": "58a28a8c05744bf39e997c7c41bd106f",
       "version_major": 2,
       "version_minor": 0
      },
      "text/plain": [
       "Train:   0%|          | 0/252 [00:00<?, ?it/s]"
      ]
     },
     "metadata": {},
     "output_type": "display_data"
    },
    {
     "data": {
      "application/vnd.jupyter.widget-view+json": {
       "model_id": "6a8a88551e264396a36383dad5a098aa",
       "version_major": 2,
       "version_minor": 0
      },
      "text/plain": [
       "Val:   0%|          | 0/5 [00:00<?, ?it/s]"
      ]
     },
     "metadata": {},
     "output_type": "display_data"
    },
    {
     "name": "stdout",
     "output_type": "stream",
     "text": [
      "Train Loss 0.1340 Acc 0.5533 | Val Loss 0.1293 Acc 0.8082\n",
      "Early stopping (full) triggered.\n",
      "Full training done. Best val: 0.8493150684931506\n",
      "Saved history: checkpoints_fusion_v2\\history_fusion_v2.npy\n"
     ]
    }
   ],
   "source": [
    "# Cell 9 — Phase 3: Full fine-tune (unfreeze everything and train)\n",
    "# Load best partial if exists\n",
    "partial_ckpt = os.path.join(config.SAVE_DIR, \"best_partial_fusion_v2.pth\")\n",
    "if os.path.exists(partial_ckpt):\n",
    "    model.load_state_dict(torch.load(partial_ckpt, map_location=config.DEVICE), strict=False)\n",
    "    print(\"Loaded partial checkpoint.\")\n",
    "else:\n",
    "    print(\"Partial checkpoint not found; continuing from current model.\")\n",
    "\n",
    "# Unfreeze all params\n",
    "for p in model.parameters(): p.requires_grad = True\n",
    "\n",
    "# optimizer and scheduler (lower LR)\n",
    "optimizer = optim.AdamW(model.parameters(), lr=config.FULL_LR, weight_decay=config.WEIGHT_DECAY*0.5)\n",
    "scheduler = optim.lr_scheduler.CosineAnnealingLR(optimizer, T_max=max(1, config.FULL_EPOCHS - config.LR_WARMUP_EPOCHS))\n",
    "\n",
    "best_val = 0.0\n",
    "epochs_no_improve = 0\n",
    "history = {\"train_loss\": [], \"train_acc\": [], \"val_loss\": [], \"val_acc\": []}\n",
    "for epoch in range(config.FULL_EPOCHS):\n",
    "    print(f\"\\nFULL PHASE Epoch {epoch+1}/{config.FULL_EPOCHS}\")\n",
    "    train_loss, train_acc = train_epoch(model, train_loader, criterion, optimizer, config.DEVICE, mixup_alpha=config.MIXUP_ALPHA, spec_aug=True)\n",
    "    val_loss, val_acc = validate_epoch(model, val_loader, criterion, config.DEVICE)\n",
    "    scheduler.step()\n",
    "    history[\"train_loss\"].append(train_loss); history[\"train_acc\"].append(train_acc)\n",
    "    history[\"val_loss\"].append(val_loss); history[\"val_acc\"].append(val_acc)\n",
    "    print(f\"Train Loss {train_loss:.4f} Acc {train_acc:.4f} | Val Loss {val_loss:.4f} Acc {val_acc:.4f}\")\n",
    "    if val_acc > best_val:\n",
    "        best_val = val_acc\n",
    "        epochs_no_improve = 0\n",
    "        save_path = os.path.join(config.SAVE_DIR, \"best_full_fusion_v2.pth\")\n",
    "        torch.save(model.state_dict(), save_path)\n",
    "        print(\"Saved best full:\", save_path)\n",
    "    else:\n",
    "        epochs_no_improve += 1\n",
    "    if epochs_no_improve >= config.PATIENCE:\n",
    "        print(\"Early stopping (full) triggered.\")\n",
    "        break\n",
    "\n",
    "print(\"Full training done. Best val:\", best_val)\n",
    "# optional: save training history\n",
    "hist_path = os.path.join(config.SAVE_DIR, \"history_fusion_v2.npy\")\n",
    "np.save(hist_path, history)\n",
    "print(\"Saved history:\", hist_path)\n"
   ]
  },
  {
   "cell_type": "code",
   "execution_count": 9,
   "id": "c1a2d538",
   "metadata": {},
   "outputs": [
    {
     "name": "stdout",
     "output_type": "stream",
     "text": [
      "Evaluating checkpoint: checkpoints_fusion_v2\\best_full_fusion_v2.pth\n",
      "Loading GFT checkpoint (strict=False)...\n",
      "GFT weights loaded (strict=False).\n",
      "Creating CoAtNet: coatnet_0_rw_224 (pretrained=True)\n"
     ]
    },
    {
     "data": {
      "application/vnd.jupyter.widget-view+json": {
       "model_id": "cd1c12a8643648d384a7860d2b2d72db",
       "version_major": 2,
       "version_minor": 0
      },
      "text/plain": [
       "Testing:   0%|          | 0/5 [00:00<?, ?it/s]"
      ]
     },
     "metadata": {},
     "output_type": "display_data"
    },
    {
     "name": "stdout",
     "output_type": "stream",
     "text": [
      "\n",
      "Test Accuracy: 0.8514 (85.14%)\n",
      "\n",
      "Classification Report:\n",
      "                        precision    recall  f1-score   support\n",
      "\n",
      "             Dysarthia     1.0000    1.0000    1.0000        13\n",
      "            Laryngitis     0.6154    0.6154    0.6154        13\n",
      "           Laryngozele     0.8000    0.8889    0.8421         9\n",
      "           Vox senilis     0.8462    0.8462    0.8462        13\n",
      "             parkinson     1.0000    1.0000    1.0000        13\n",
      "spasmodische_dysphonie     0.8333    0.7692    0.8000        13\n",
      "\n",
      "              accuracy                         0.8514        74\n",
      "             macro avg     0.8491    0.8533    0.8506        74\n",
      "          weighted avg     0.8518    0.8514    0.8511        74\n",
      "\n"
     ]
    },
    {
     "data": {
      "image/png": "[encoded data removed]",
      "text/plain": [
       "<Figure size 1200x1000 with 2 Axes>"
      ]
     },
     "metadata": {},
     "output_type": "display_data"
    }
   ],
   "source": [
    "# Cell 10 — Testing + classification report + confusion matrix\n",
    "ckpt_candidate = os.path.join(config.SAVE_DIR, \"best_full_fusion_v2.pth\")\n",
    "if not os.path.exists(ckpt_candidate):\n",
    "    # fallback options\n",
    "    for f in [\"best_partial_fusion_v2.pth\", \"best_head_fusion_v2.pth\"]:\n",
    "        p = os.path.join(config.SAVE_DIR, f)\n",
    "        if os.path.exists(p):\n",
    "            ckpt_candidate = p\n",
    "            break\n",
    "\n",
    "print(\"Evaluating checkpoint:\", ckpt_candidate)\n",
    "\n",
    "# instantiate model skeleton and load weights\n",
    "eval_model = GFT_CoAtNet_Fusion_v2(\n",
    "    gft_checkpoint_path=config.GFT_MODEL_PATH,\n",
    "    num_classes=num_classes,\n",
    "    coatnet_name=config.COATNET_MODEL,\n",
    "    coatnet_pretrained=config.PRETRAINED_COATNET\n",
    ").to(config.DEVICE)\n",
    "\n",
    "eval_state = torch.load(ckpt_candidate, map_location=config.DEVICE)\n",
    "eval_model.load_state_dict(eval_state, strict=False)\n",
    "eval_model.eval()\n",
    "\n",
    "all_preds, all_labels = [], []\n",
    "with torch.no_grad():\n",
    "    pbar = tqdm(test_loader, desc=\"Testing\")\n",
    "    for imgs, labels in pbar:\n",
    "        imgs = imgs.to(config.DEVICE)\n",
    "        labels = labels.to(config.DEVICE)\n",
    "        logits = eval_model(imgs)\n",
    "        _, preds = torch.max(logits, dim=1)\n",
    "        all_preds.extend(preds.cpu().numpy()); all_labels.extend(labels.cpu().numpy())\n",
    "\n",
    "acc = accuracy_score(all_labels, all_preds)\n",
    "print(f\"\\nTest Accuracy: {acc:.4f} ({acc*100:.2f}%)\")\n",
    "print(\"\\nClassification Report:\")\n",
    "print(classification_report(all_labels, all_preds, target_names=test_dataset.classes, digits=4))\n",
    "\n",
    "cm = confusion_matrix(all_labels, all_preds)\n",
    "plt.figure(figsize=(12,10))\n",
    "sns.heatmap(cm, annot=True, fmt=\"d\", cmap=\"Blues\",\n",
    "            xticklabels=test_dataset.classes, yticklabels=test_dataset.classes)\n",
    "plt.xlabel(\"Predicted\"); plt.ylabel(\"True\"); plt.title(f\"Confusion Matrix - Acc {acc*100:.2f}%\")\n",
    "plt.xticks(rotation=45, ha=\"right\")\n",
    "plt.tight_layout()\n",
    "plt.show()\n"
   ]
  }
 ],
 "metadata": {
  "kernelspec": {
   "display_name": "Python 3",
   "language": "python",
   "name": "python3"
  },
  "language_info": {
   "codemirror_mode": {
    "name": "ipython",
    "version": 3
   },
   "file_extension": ".py",
   "mimetype": "text/x-python",
   "name": "python",
   "nbconvert_exporter": "python",
   "pygments_lexer": "ipython3",
   "version": "3.12.10"
  }
 },
 "nbformat": 4,
 "nbformat_minor": 5
}
