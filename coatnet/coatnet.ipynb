{
 "cells": [
  {
   "cell_type": "code",
   "execution_count": 1,
   "id": "d1eb45c1",
   "metadata": {},
   "outputs": [
    {
     "name": "stdout",
     "output_type": "stream",
     "text": [
      "Using device: cuda\n",
      "Training model: coatnet_0_rw_224\n",
      "Found 4021 images in 'train' set.\n",
      "Found 73 images in 'validation' set.\n",
      "\n",
      "======================================================================\n",
      "🎯 PHASE 1: Training Classifier Head\n",
      "======================================================================\n"
     ]
    },
    {
     "data": {
      "application/vnd.jupyter.widget-view+json": {
       "model_id": "1e0dc1faba98486fb39b06e31c271774",
       "version_major": 2,
       "version_minor": 0
      },
      "text/plain": [
       "Training:   0%|          | 0/126 [00:00<?, ?it/s]"
      ]
     },
     "metadata": {},
     "output_type": "display_data"
    },
    {
     "name": "stdout",
     "output_type": "stream",
     "text": [
      "Head Epoch 1/10 | Train Loss: 1.5978 | Val Acc: 0.6027\n",
      "💾 New best model saved with accuracy: 0.6027\n"
     ]
    },
    {
     "data": {
      "application/vnd.jupyter.widget-view+json": {
       "model_id": "68648cc8085f45f7a66c498d6639f384",
       "version_major": 2,
       "version_minor": 0
      },
      "text/plain": [
       "Training:   0%|          | 0/126 [00:00<?, ?it/s]"
      ]
     },
     "metadata": {},
     "output_type": "display_data"
    },
    {
     "name": "stdout",
     "output_type": "stream",
     "text": [
      "Head Epoch 2/10 | Train Loss: 1.4228 | Val Acc: 0.6301\n",
      "💾 New best model saved with accuracy: 0.6301\n"
     ]
    },
    {
     "data": {
      "application/vnd.jupyter.widget-view+json": {
       "model_id": "db29cc0821bc476c847107939d405fff",
       "version_major": 2,
       "version_minor": 0
      },
      "text/plain": [
       "Training:   0%|          | 0/126 [00:00<?, ?it/s]"
      ]
     },
     "metadata": {},
     "output_type": "display_data"
    },
    {
     "name": "stdout",
     "output_type": "stream",
     "text": [
      "Head Epoch 3/10 | Train Loss: 1.3867 | Val Acc: 0.6301\n"
     ]
    },
    {
     "data": {
      "application/vnd.jupyter.widget-view+json": {
       "model_id": "b4542089fb42479cbed2c63195e3e656",
       "version_major": 2,
       "version_minor": 0
      },
      "text/plain": [
       "Training:   0%|          | 0/126 [00:00<?, ?it/s]"
      ]
     },
     "metadata": {},
     "output_type": "display_data"
    },
    {
     "name": "stdout",
     "output_type": "stream",
     "text": [
      "Head Epoch 4/10 | Train Loss: 1.3530 | Val Acc: 0.6164\n"
     ]
    },
    {
     "data": {
      "application/vnd.jupyter.widget-view+json": {
       "model_id": "d7e165c2d4824fbdbf8cb4eb76051b9e",
       "version_major": 2,
       "version_minor": 0
      },
      "text/plain": [
       "Training:   0%|          | 0/126 [00:00<?, ?it/s]"
      ]
     },
     "metadata": {},
     "output_type": "display_data"
    },
    {
     "name": "stdout",
     "output_type": "stream",
     "text": [
      "Head Epoch 5/10 | Train Loss: 1.3464 | Val Acc: 0.6164\n"
     ]
    },
    {
     "data": {
      "application/vnd.jupyter.widget-view+json": {
       "model_id": "d8842d8b99f04753bc945219ce18d21d",
       "version_major": 2,
       "version_minor": 0
      },
      "text/plain": [
       "Training:   0%|          | 0/126 [00:00<?, ?it/s]"
      ]
     },
     "metadata": {},
     "output_type": "display_data"
    },
    {
     "name": "stdout",
     "output_type": "stream",
     "text": [
      "Head Epoch 6/10 | Train Loss: 1.3288 | Val Acc: 0.6575\n",
      "💾 New best model saved with accuracy: 0.6575\n"
     ]
    },
    {
     "data": {
      "application/vnd.jupyter.widget-view+json": {
       "model_id": "99322ed254c649168c7f47247d3fabf4",
       "version_major": 2,
       "version_minor": 0
      },
      "text/plain": [
       "Training:   0%|          | 0/126 [00:00<?, ?it/s]"
      ]
     },
     "metadata": {},
     "output_type": "display_data"
    },
    {
     "name": "stdout",
     "output_type": "stream",
     "text": [
      "Head Epoch 7/10 | Train Loss: 1.3491 | Val Acc: 0.6301\n"
     ]
    },
    {
     "data": {
      "application/vnd.jupyter.widget-view+json": {
       "model_id": "7adc3f49dcbb44cb83b9d6deb93ae2a7",
       "version_major": 2,
       "version_minor": 0
      },
      "text/plain": [
       "Training:   0%|          | 0/126 [00:00<?, ?it/s]"
      ]
     },
     "metadata": {},
     "output_type": "display_data"
    },
    {
     "name": "stdout",
     "output_type": "stream",
     "text": [
      "Head Epoch 8/10 | Train Loss: 1.3324 | Val Acc: 0.6301\n"
     ]
    },
    {
     "data": {
      "application/vnd.jupyter.widget-view+json": {
       "model_id": "d724fc321c814c5ca809edb649aee622",
       "version_major": 2,
       "version_minor": 0
      },
      "text/plain": [
       "Training:   0%|          | 0/126 [00:00<?, ?it/s]"
      ]
     },
     "metadata": {},
     "output_type": "display_data"
    },
    {
     "name": "stdout",
     "output_type": "stream",
     "text": [
      "Head Epoch 9/10 | Train Loss: 1.3150 | Val Acc: 0.6164\n"
     ]
    },
    {
     "data": {
      "application/vnd.jupyter.widget-view+json": {
       "model_id": "e6a0a8875809409c967152f30fc336ed",
       "version_major": 2,
       "version_minor": 0
      },
      "text/plain": [
       "Training:   0%|          | 0/126 [00:00<?, ?it/s]"
      ]
     },
     "metadata": {},
     "output_type": "display_data"
    },
    {
     "name": "stdout",
     "output_type": "stream",
     "text": [
      "Head Epoch 10/10 | Train Loss: 1.3204 | Val Acc: 0.6438\n",
      "\n",
      "======================================================================\n",
      "🚀 PHASE 2: Full Model Fine-Tuning\n",
      "======================================================================\n"
     ]
    },
    {
     "data": {
      "application/vnd.jupyter.widget-view+json": {
       "model_id": "027fea479b1e4f8bb54020d9d6babe89",
       "version_major": 2,
       "version_minor": 0
      },
      "text/plain": [
       "Training:   0%|          | 0/126 [00:00<?, ?it/s]"
      ]
     },
     "metadata": {},
     "output_type": "display_data"
    },
    {
     "name": "stdout",
     "output_type": "stream",
     "text": [
      "Full Epoch 1/40 | Train Loss: 1.3162 | Val Acc: 0.6438 | LR: 9.98e-06\n"
     ]
    },
    {
     "data": {
      "application/vnd.jupyter.widget-view+json": {
       "model_id": "4af130d767234ada8e66c7969b25b9cd",
       "version_major": 2,
       "version_minor": 0
      },
      "text/plain": [
       "Training:   0%|          | 0/126 [00:00<?, ?it/s]"
      ]
     },
     "metadata": {},
     "output_type": "display_data"
    },
    {
     "name": "stdout",
     "output_type": "stream",
     "text": [
      "Full Epoch 2/40 | Train Loss: 1.2023 | Val Acc: 0.7123 | LR: 9.94e-06\n",
      "🚀 New best model saved with accuracy: 0.7123\n"
     ]
    },
    {
     "data": {
      "application/vnd.jupyter.widget-view+json": {
       "model_id": "5ee12f53235d49c5abacf0dc35bca0b0",
       "version_major": 2,
       "version_minor": 0
      },
      "text/plain": [
       "Training:   0%|          | 0/126 [00:00<?, ?it/s]"
      ]
     },
     "metadata": {},
     "output_type": "display_data"
    },
    {
     "name": "stdout",
     "output_type": "stream",
     "text": [
      "Full Epoch 3/40 | Train Loss: 1.1987 | Val Acc: 0.7397 | LR: 9.86e-06\n",
      "🚀 New best model saved with accuracy: 0.7397\n"
     ]
    },
    {
     "data": {
      "application/vnd.jupyter.widget-view+json": {
       "model_id": "16b34e4f9ec14509a07c839bccc80f06",
       "version_major": 2,
       "version_minor": 0
      },
      "text/plain": [
       "Training:   0%|          | 0/126 [00:00<?, ?it/s]"
      ]
     },
     "metadata": {},
     "output_type": "display_data"
    },
    {
     "name": "stdout",
     "output_type": "stream",
     "text": [
      "Full Epoch 4/40 | Train Loss: 1.1473 | Val Acc: 0.7671 | LR: 9.76e-06\n",
      "🚀 New best model saved with accuracy: 0.7671\n"
     ]
    },
    {
     "data": {
      "application/vnd.jupyter.widget-view+json": {
       "model_id": "f6fad6a4f2b14ef9bd26ae52c1afae2c",
       "version_major": 2,
       "version_minor": 0
      },
      "text/plain": [
       "Training:   0%|          | 0/126 [00:00<?, ?it/s]"
      ]
     },
     "metadata": {},
     "output_type": "display_data"
    },
    {
     "name": "stdout",
     "output_type": "stream",
     "text": [
      "Full Epoch 5/40 | Train Loss: 1.1125 | Val Acc: 0.7671 | LR: 9.62e-06\n"
     ]
    },
    {
     "data": {
      "application/vnd.jupyter.widget-view+json": {
       "model_id": "e53699346ad94181bc608c7723f9dc39",
       "version_major": 2,
       "version_minor": 0
      },
      "text/plain": [
       "Training:   0%|          | 0/126 [00:00<?, ?it/s]"
      ]
     },
     "metadata": {},
     "output_type": "display_data"
    },
    {
     "name": "stdout",
     "output_type": "stream",
     "text": [
      "Full Epoch 6/40 | Train Loss: 1.0657 | Val Acc: 0.7397 | LR: 9.46e-06\n"
     ]
    },
    {
     "data": {
      "application/vnd.jupyter.widget-view+json": {
       "model_id": "b3032861f3384ece8048f6418fbff764",
       "version_major": 2,
       "version_minor": 0
      },
      "text/plain": [
       "Training:   0%|          | 0/126 [00:00<?, ?it/s]"
      ]
     },
     "metadata": {},
     "output_type": "display_data"
    },
    {
     "name": "stdout",
     "output_type": "stream",
     "text": [
      "Full Epoch 7/40 | Train Loss: 1.0860 | Val Acc: 0.7671 | LR: 9.26e-06\n"
     ]
    },
    {
     "data": {
      "application/vnd.jupyter.widget-view+json": {
       "model_id": "f96c49e5923845b583d28104b5627b3a",
       "version_major": 2,
       "version_minor": 0
      },
      "text/plain": [
       "Training:   0%|          | 0/126 [00:00<?, ?it/s]"
      ]
     },
     "metadata": {},
     "output_type": "display_data"
    },
    {
     "name": "stdout",
     "output_type": "stream",
     "text": [
      "Full Epoch 8/40 | Train Loss: 1.0348 | Val Acc: 0.8219 | LR: 9.05e-06\n",
      "🚀 New best model saved with accuracy: 0.8219\n"
     ]
    },
    {
     "data": {
      "application/vnd.jupyter.widget-view+json": {
       "model_id": "bcc2062981f941d0bbc3c9157d2bd257",
       "version_major": 2,
       "version_minor": 0
      },
      "text/plain": [
       "Training:   0%|          | 0/126 [00:00<?, ?it/s]"
      ]
     },
     "metadata": {},
     "output_type": "display_data"
    },
    {
     "name": "stdout",
     "output_type": "stream",
     "text": [
      "Full Epoch 9/40 | Train Loss: 1.0414 | Val Acc: 0.8082 | LR: 8.80e-06\n"
     ]
    },
    {
     "data": {
      "application/vnd.jupyter.widget-view+json": {
       "model_id": "f895bf0821224e06a73eed99ad9dc9ee",
       "version_major": 2,
       "version_minor": 0
      },
      "text/plain": [
       "Training:   0%|          | 0/126 [00:00<?, ?it/s]"
      ]
     },
     "metadata": {},
     "output_type": "display_data"
    },
    {
     "name": "stdout",
     "output_type": "stream",
     "text": [
      "Full Epoch 10/40 | Train Loss: 0.9853 | Val Acc: 0.8082 | LR: 8.54e-06\n"
     ]
    },
    {
     "data": {
      "application/vnd.jupyter.widget-view+json": {
       "model_id": "6c1d2b1cb09b4503b10bab93c71dc19a",
       "version_major": 2,
       "version_minor": 0
      },
      "text/plain": [
       "Training:   0%|          | 0/126 [00:00<?, ?it/s]"
      ]
     },
     "metadata": {},
     "output_type": "display_data"
    },
    {
     "name": "stdout",
     "output_type": "stream",
     "text": [
      "Full Epoch 11/40 | Train Loss: 0.9817 | Val Acc: 0.7808 | LR: 8.25e-06\n"
     ]
    },
    {
     "data": {
      "application/vnd.jupyter.widget-view+json": {
       "model_id": "9d65d4920709404484242adbd7045dd4",
       "version_major": 2,
       "version_minor": 0
      },
      "text/plain": [
       "Training:   0%|          | 0/126 [00:00<?, ?it/s]"
      ]
     },
     "metadata": {},
     "output_type": "display_data"
    },
    {
     "name": "stdout",
     "output_type": "stream",
     "text": [
      "Full Epoch 12/40 | Train Loss: 0.9584 | Val Acc: 0.8219 | LR: 7.94e-06\n"
     ]
    },
    {
     "data": {
      "application/vnd.jupyter.widget-view+json": {
       "model_id": "e694abda828441558ae9ac745cbad2ce",
       "version_major": 2,
       "version_minor": 0
      },
      "text/plain": [
       "Training:   0%|          | 0/126 [00:00<?, ?it/s]"
      ]
     },
     "metadata": {},
     "output_type": "display_data"
    },
    {
     "name": "stdout",
     "output_type": "stream",
     "text": [
      "Full Epoch 13/40 | Train Loss: 0.9310 | Val Acc: 0.8493 | LR: 7.61e-06\n",
      "🚀 New best model saved with accuracy: 0.8493\n"
     ]
    },
    {
     "data": {
      "application/vnd.jupyter.widget-view+json": {
       "model_id": "ddf37d1d5347487a97d5edadd9a777f4",
       "version_major": 2,
       "version_minor": 0
      },
      "text/plain": [
       "Training:   0%|          | 0/126 [00:00<?, ?it/s]"
      ]
     },
     "metadata": {},
     "output_type": "display_data"
    },
    {
     "name": "stdout",
     "output_type": "stream",
     "text": [
      "Full Epoch 14/40 | Train Loss: 0.9244 | Val Acc: 0.8356 | LR: 7.27e-06\n"
     ]
    },
    {
     "data": {
      "application/vnd.jupyter.widget-view+json": {
       "model_id": "608ba38df0064db092df93c7d0275df4",
       "version_major": 2,
       "version_minor": 0
      },
      "text/plain": [
       "Training:   0%|          | 0/126 [00:00<?, ?it/s]"
      ]
     },
     "metadata": {},
     "output_type": "display_data"
    },
    {
     "name": "stdout",
     "output_type": "stream",
     "text": [
      "Full Epoch 15/40 | Train Loss: 0.9312 | Val Acc: 0.8219 | LR: 6.91e-06\n"
     ]
    },
    {
     "data": {
      "application/vnd.jupyter.widget-view+json": {
       "model_id": "80ff6ef390ca44c3a671d362e35d4060",
       "version_major": 2,
       "version_minor": 0
      },
      "text/plain": [
       "Training:   0%|          | 0/126 [00:00<?, ?it/s]"
      ]
     },
     "metadata": {},
     "output_type": "display_data"
    },
    {
     "name": "stdout",
     "output_type": "stream",
     "text": [
      "Full Epoch 16/40 | Train Loss: 0.9190 | Val Acc: 0.8493 | LR: 6.55e-06\n"
     ]
    },
    {
     "data": {
      "application/vnd.jupyter.widget-view+json": {
       "model_id": "1dd59d4421374ca4aa7d345bc972b6ea",
       "version_major": 2,
       "version_minor": 0
      },
      "text/plain": [
       "Training:   0%|          | 0/126 [00:00<?, ?it/s]"
      ]
     },
     "metadata": {},
     "output_type": "display_data"
    },
    {
     "name": "stdout",
     "output_type": "stream",
     "text": [
      "Full Epoch 17/40 | Train Loss: 0.9420 | Val Acc: 0.8493 | LR: 6.17e-06\n"
     ]
    },
    {
     "data": {
      "application/vnd.jupyter.widget-view+json": {
       "model_id": "0c0ac640e2af4378ad47a9d5605d2853",
       "version_major": 2,
       "version_minor": 0
      },
      "text/plain": [
       "Training:   0%|          | 0/126 [00:00<?, ?it/s]"
      ]
     },
     "metadata": {},
     "output_type": "display_data"
    },
    {
     "name": "stdout",
     "output_type": "stream",
     "text": [
      "Full Epoch 18/40 | Train Loss: 0.9238 | Val Acc: 0.7945 | LR: 5.78e-06\n"
     ]
    },
    {
     "data": {
      "application/vnd.jupyter.widget-view+json": {
       "model_id": "d9928c8cf0c545ce9634b5a12406854e",
       "version_major": 2,
       "version_minor": 0
      },
      "text/plain": [
       "Training:   0%|          | 0/126 [00:00<?, ?it/s]"
      ]
     },
     "metadata": {},
     "output_type": "display_data"
    },
    {
     "name": "stdout",
     "output_type": "stream",
     "text": [
      "Full Epoch 19/40 | Train Loss: 0.9378 | Val Acc: 0.8082 | LR: 5.39e-06\n"
     ]
    },
    {
     "data": {
      "application/vnd.jupyter.widget-view+json": {
       "model_id": "3cc0313dda544f979848d9e12c544168",
       "version_major": 2,
       "version_minor": 0
      },
      "text/plain": [
       "Training:   0%|          | 0/126 [00:00<?, ?it/s]"
      ]
     },
     "metadata": {},
     "output_type": "display_data"
    },
    {
     "name": "stdout",
     "output_type": "stream",
     "text": [
      "Full Epoch 20/40 | Train Loss: 0.8433 | Val Acc: 0.8356 | LR: 5.00e-06\n"
     ]
    },
    {
     "data": {
      "application/vnd.jupyter.widget-view+json": {
       "model_id": "db602e7eeb9c41ffb952818ff94a0db7",
       "version_major": 2,
       "version_minor": 0
      },
      "text/plain": [
       "Training:   0%|          | 0/126 [00:00<?, ?it/s]"
      ]
     },
     "metadata": {},
     "output_type": "display_data"
    },
    {
     "name": "stdout",
     "output_type": "stream",
     "text": [
      "Full Epoch 21/40 | Train Loss: 0.9254 | Val Acc: 0.8082 | LR: 4.61e-06\n"
     ]
    },
    {
     "data": {
      "application/vnd.jupyter.widget-view+json": {
       "model_id": "7d538084bcca4f79913a6d8dbab71751",
       "version_major": 2,
       "version_minor": 0
      },
      "text/plain": [
       "Training:   0%|          | 0/126 [00:00<?, ?it/s]"
      ]
     },
     "metadata": {},
     "output_type": "display_data"
    },
    {
     "name": "stdout",
     "output_type": "stream",
     "text": [
      "Full Epoch 22/40 | Train Loss: 0.8860 | Val Acc: 0.7945 | LR: 4.22e-06\n"
     ]
    },
    {
     "data": {
      "application/vnd.jupyter.widget-view+json": {
       "model_id": "a5849980245546be9a23195ad811d25b",
       "version_major": 2,
       "version_minor": 0
      },
      "text/plain": [
       "Training:   0%|          | 0/126 [00:00<?, ?it/s]"
      ]
     },
     "metadata": {},
     "output_type": "display_data"
    },
    {
     "name": "stdout",
     "output_type": "stream",
     "text": [
      "Full Epoch 23/40 | Train Loss: 0.8979 | Val Acc: 0.8356 | LR: 3.83e-06\n",
      "⚠️ Early stopping triggered.\n",
      "\n",
      "======================================================================\n",
      "🏆 FINAL EVALUATION ON TEST SET\n",
      "======================================================================\n",
      "Found 74 images in 'test' set.\n"
     ]
    },
    {
     "data": {
      "application/vnd.jupyter.widget-view+json": {
       "model_id": "7caaa57ce3bf4ed5901d29850f3f82bf",
       "version_major": 2,
       "version_minor": 0
      },
      "text/plain": [
       "Testing:   0%|          | 0/3 [00:00<?, ?it/s]"
      ]
     },
     "metadata": {},
     "output_type": "display_data"
    },
    {
     "name": "stdout",
     "output_type": "stream",
     "text": [
      "\n",
      "🎯 Final Test Accuracy: 0.7973 (79.73%)\n",
      "\n",
      "📋 Classification Report:\n",
      "                        precision    recall  f1-score   support\n",
      "\n",
      "             Dysarthia     1.0000    1.0000    1.0000        13\n",
      "            Laryngitis     0.6000    0.4615    0.5217        13\n",
      "           Laryngozele     0.6667    0.8889    0.7619         9\n",
      "           Vox senilis     0.7143    0.7692    0.7407        13\n",
      "             parkinson     1.0000    1.0000    1.0000        13\n",
      "spasmodische_dysphonie     0.7500    0.6923    0.7200        13\n",
      "\n",
      "              accuracy                         0.7973        74\n",
      "             macro avg     0.7885    0.8020    0.7907        74\n",
      "          weighted avg     0.7951    0.7973    0.7923        74\n",
      "\n",
      "\n",
      "🖼️ Confusion Matrix:\n"
     ]
    },
    {
     "data": {
      "image/png": "[encoded data removed]",
      "text/plain": [
       "<Figure size 1000x800 with 2 Axes>"
      ]
     },
     "metadata": {},
     "output_type": "display_data"
    }
   ],
   "source": [
    "# %%\n",
    "# =============================================================================\n",
    "# STANDALONE SCRIPT FOR TRAINING A STANDARD COATNET MODEL\n",
    "# =============================================================================\n",
    "import torch\n",
    "import torch.nn as nn\n",
    "import torch.optim as optim\n",
    "from torch.utils.data import DataLoader, Dataset\n",
    "import torchvision.transforms as transforms\n",
    "from transformers import AutoImageProcessor\n",
    "import timm\n",
    "import os\n",
    "from PIL import Image\n",
    "import numpy as np\n",
    "from sklearn.metrics import accuracy_score, classification_report, confusion_matrix\n",
    "import matplotlib.pyplot as plt\n",
    "from tqdm.auto import tqdm\n",
    "import warnings\n",
    "import seaborn as sns\n",
    "\n",
    "warnings.filterwarnings('ignore')\n",
    "\n",
    "# =============================================================================\n",
    "# 1. CONFIGURATION\n",
    "# =============================================================================\n",
    "class Config:\n",
    "    # --- Paths & Model ---\n",
    "    BASE_DIR = 'melspectrograms_dataset/'\n",
    "    MODEL_NAME = 'coatnet_0_rw_224'\n",
    "    SAVE_PATH = 'best_coatnet_model.pth'\n",
    "    \n",
    "    # --- Dataloader ---\n",
    "    BATCH_SIZE = 32\n",
    "    IMG_SIZE = 224\n",
    "    NUM_WORKERS = 0\n",
    "    \n",
    "    # --- Training Phases ---\n",
    "    HEAD_EPOCHS = 10\n",
    "    FULL_EPOCHS = 40\n",
    "    \n",
    "    # --- Optimizer & Scheduler ---\n",
    "    HEAD_LR = 3e-4\n",
    "    FULL_LR = 1e-5\n",
    "    WEIGHT_DECAY = 0.05\n",
    "    LR_WARMUP_EPOCHS = 3\n",
    "    PATIENCE = 10\n",
    "\n",
    "    # --- Augmentation & Loss ---\n",
    "    MIXUP_ALPHA = 0.4\n",
    "    \n",
    "    # --- System ---\n",
    "    DEVICE = torch.device('cuda' if torch.cuda.is_available() else 'cpu')\n",
    "\n",
    "config = Config()\n",
    "print(f\"Using device: {config.DEVICE}\")\n",
    "print(f\"Training model: {config.MODEL_NAME}\")\n",
    "\n",
    "# =============================================================================\n",
    "# 2. DATASET, AUGMENTATION, AND TRANSFORMS\n",
    "# =============================================================================\n",
    "class MelSpectrogramDataset(Dataset):\n",
    "    def __init__(self, base_dir, split='train', transform=None):\n",
    "        self.transform = transform\n",
    "        self.data_dir = os.path.join(base_dir, split)\n",
    "        if not os.path.isdir(self.data_dir): raise FileNotFoundError(f\"Dir not found: {self.data_dir}\")\n",
    "        self.classes = sorted([d for d in os.listdir(self.data_dir) if os.path.isdir(os.path.join(self.data_dir, d))])\n",
    "        self.class_to_idx = {c: i for i, c in enumerate(self.classes)}\n",
    "        self.image_paths = [os.path.join(r, f) for r, _, fs in os.walk(self.data_dir) for f in fs if f.lower().endswith(('.png', '.jpg'))]\n",
    "        self.labels = [self.class_to_idx[os.path.basename(os.path.dirname(p))] for p in self.image_paths]\n",
    "        print(f\"Found {len(self.image_paths)} images in '{split}' set.\")\n",
    "    def __len__(self): return len(self.image_paths)\n",
    "    def __getitem__(self, idx):\n",
    "        img = Image.open(self.image_paths[idx]).convert('RGB')\n",
    "        return self.transform(img), self.labels[idx]\n",
    "\n",
    "def mixup_data(x, y, alpha=1.0, device='cuda'):\n",
    "    lam = np.random.beta(alpha, alpha) if alpha > 0 else 1.0\n",
    "    index = torch.randperm(x.size(0)).to(device)\n",
    "    mixed_x = lam * x + (1 - lam) * x[index, :]\n",
    "    return mixed_x, y, y[index], lam\n",
    "\n",
    "def mixup_criterion(criterion, pred, y_a, y_b, lam):\n",
    "    return lam * criterion(pred, y_a) + (1 - lam) * criterion(pred, y_b)\n",
    "\n",
    "def get_transforms(config):\n",
    "    # Use standard ImageNet normalization for timm models\n",
    "    train_transform = transforms.Compose([\n",
    "        transforms.Resize((config.IMG_SIZE, config.IMG_SIZE)),\n",
    "        transforms.TrivialAugmentWide(),\n",
    "        transforms.ToTensor(),\n",
    "        transforms.Normalize(mean=[0.485, 0.456, 0.406], std=[0.229, 0.224, 0.225]),\n",
    "        transforms.RandomErasing(p=0.2, scale=(0.02, 0.25))])\n",
    "    val_transform = transforms.Compose([\n",
    "        transforms.Resize((config.IMG_SIZE, config.IMG_SIZE)),\n",
    "        transforms.ToTensor(),\n",
    "        transforms.Normalize(mean=[0.485, 0.456, 0.406], std=[0.229, 0.224, 0.225])])\n",
    "    return train_transform, val_transform\n",
    "\n",
    "# =============================================================================\n",
    "# 3. TRAINING AND VALIDATION LOOPS\n",
    "# =============================================================================\n",
    "scaler = torch.cuda.amp.GradScaler()\n",
    "\n",
    "def train_epoch(model, dataloader, criterion, optimizer, device):\n",
    "    model.train(); running_loss = 0.0\n",
    "    for images, labels in tqdm(dataloader, desc='Training'):\n",
    "        images, labels = images.to(device), labels.to(device)\n",
    "        images, targets_a, targets_b, lam = mixup_data(images, labels, config.MIXUP_ALPHA, device)\n",
    "        optimizer.zero_grad(set_to_none=True)\n",
    "        with torch.cuda.amp.autocast():\n",
    "            outputs = model(images)\n",
    "            loss = mixup_criterion(criterion, outputs, targets_a, targets_b, lam)\n",
    "        scaler.scale(loss).backward(); scaler.step(optimizer); scaler.update()\n",
    "        running_loss += loss.item()\n",
    "    return running_loss / len(dataloader)\n",
    "\n",
    "def validate_epoch(model, dataloader, criterion, device):\n",
    "    model.eval(); running_loss = 0.0; all_preds, all_labels = [], []\n",
    "    with torch.no_grad():\n",
    "        for images, labels in dataloader:\n",
    "            images, labels = images.to(device), labels.to(device)\n",
    "            with torch.cuda.amp.autocast():\n",
    "                outputs = model(images)\n",
    "                loss = criterion(outputs, labels)\n",
    "            running_loss += loss.item()\n",
    "            _, preds = torch.max(outputs, 1)\n",
    "            all_preds.extend(preds.cpu().numpy()); all_labels.extend(labels.cpu().numpy())\n",
    "    return running_loss / len(dataloader), accuracy_score(all_labels, all_preds)\n",
    "\n",
    "# =============================================================================\n",
    "# 4. MAIN TRAINING SCRIPT\n",
    "# =============================================================================\n",
    "if __name__ == \"__main__\":\n",
    "    # --- 1. Data ---\n",
    "    train_transform, val_transform = get_transforms(config)\n",
    "    train_dataset = MelSpectrogramDataset(config.BASE_DIR, 'train', train_transform)\n",
    "    val_dataset = MelSpectrogramDataset(config.BASE_DIR, 'validation', val_transform)\n",
    "    train_loader = DataLoader(train_dataset, batch_size=config.BATCH_SIZE, shuffle=True, num_workers=config.NUM_WORKERS)\n",
    "    val_loader = DataLoader(val_dataset, batch_size=config.BATCH_SIZE, shuffle=False, num_workers=config.NUM_WORKERS)\n",
    "    num_classes = len(train_dataset.classes)\n",
    "    \n",
    "    # --- 2. Model ---\n",
    "    model = timm.create_model(config.MODEL_NAME, pretrained=True, num_classes=num_classes).to(config.DEVICE)\n",
    "    criterion = nn.CrossEntropyLoss(label_smoothing=0.1)\n",
    "    best_val_acc = 0.0\n",
    "    \n",
    "    # --- PHASE 1: Train Head ---\n",
    "    print(\"\\n\" + \"=\"*70 + \"\\n🎯 PHASE 1: Training Classifier Head\\n\" + \"=\"*70)\n",
    "    for param in model.parameters(): param.requires_grad = False\n",
    "    # Unfreeze the final classification layer\n",
    "    for param in model.head.fc.parameters(): param.requires_grad = True\n",
    "    \n",
    "    optimizer = optim.AdamW(model.head.fc.parameters(), lr=config.HEAD_LR, weight_decay=config.WEIGHT_DECAY)\n",
    "    for epoch in range(config.HEAD_EPOCHS):\n",
    "        train_loss = train_epoch(model, train_loader, criterion, optimizer, config.DEVICE)\n",
    "        val_loss, val_acc = validate_epoch(model, val_loader, criterion, config.DEVICE)\n",
    "        print(f\"Head Epoch {epoch+1}/{config.HEAD_EPOCHS} | Train Loss: {train_loss:.4f} | Val Acc: {val_acc:.4f}\")\n",
    "        if val_acc > best_val_acc:\n",
    "            best_val_acc = val_acc\n",
    "            torch.save(model.state_dict(), config.SAVE_PATH)\n",
    "            print(f\"💾 New best model saved with accuracy: {best_val_acc:.4f}\")\n",
    "\n",
    "    # --- PHASE 2: Full Fine-Tuning ---\n",
    "    print(\"\\n\" + \"=\"*70 + \"\\n🚀 PHASE 2: Full Model Fine-Tuning\\n\" + \"=\"*70)\n",
    "    model.load_state_dict(torch.load(config.SAVE_PATH))\n",
    "    for param in model.parameters(): param.requires_grad = True # Unfreeze all layers\n",
    "    \n",
    "    optimizer = optim.AdamW(model.parameters(), lr=config.FULL_LR, weight_decay=config.WEIGHT_DECAY)\n",
    "    scheduler = optim.lr_scheduler.CosineAnnealingLR(optimizer, T_max=config.FULL_EPOCHS)\n",
    "    epochs_no_improve = 0\n",
    "    \n",
    "    for epoch in range(config.FULL_EPOCHS):\n",
    "        train_loss = train_epoch(model, train_loader, criterion, optimizer, config.DEVICE)\n",
    "        val_loss, val_acc = validate_epoch(model, val_loader, criterion, config.DEVICE)\n",
    "        scheduler.step()\n",
    "        print(f\"Full Epoch {epoch+1}/{config.FULL_EPOCHS} | Train Loss: {train_loss:.4f} | Val Acc: {val_acc:.4f} | LR: {optimizer.param_groups[0]['lr']:.2e}\")\n",
    "        if val_acc > best_val_acc:\n",
    "            best_val_acc = val_acc\n",
    "            epochs_no_improve = 0\n",
    "            torch.save(model.state_dict(), config.SAVE_PATH)\n",
    "            print(f\"🚀 New best model saved with accuracy: {best_val_acc:.4f}\")\n",
    "        else:\n",
    "            epochs_no_improve += 1\n",
    "        if epochs_no_improve >= config.PATIENCE:\n",
    "            print(f\"⚠️ Early stopping triggered.\"); break\n",
    "    \n",
    "    # --- FINAL EVALUATION ---\n",
    "    print(\"\\n\" + \"=\"*70 + \"\\n🏆 FINAL EVALUATION ON TEST SET\\n\" + \"=\"*70)\n",
    "    model.load_state_dict(torch.load(config.SAVE_PATH))\n",
    "    test_dataset = MelSpectrogramDataset(config.BASE_DIR, 'test', val_transform)\n",
    "    test_loader = DataLoader(test_dataset, batch_size=config.BATCH_SIZE, shuffle=False)\n",
    "    \n",
    "    model.eval(); all_preds, all_labels = [], []\n",
    "    with torch.no_grad():\n",
    "        for images, labels in tqdm(test_loader, desc=\"Testing\"):\n",
    "            outputs = model(images.to(config.DEVICE))\n",
    "            _, preds = torch.max(outputs, 1)\n",
    "            all_preds.extend(preds.cpu().numpy()); all_labels.extend(labels.cpu().numpy())\n",
    "            \n",
    "    test_acc = accuracy_score(all_labels, all_preds)\n",
    "    print(f\"\\n🎯 Final Test Accuracy: {test_acc:.4f} ({test_acc*100:.2f}%)\")\n",
    "    print(\"\\n📋 Classification Report:\")\n",
    "    print(classification_report(all_labels, all_preds, target_names=test_dataset.classes, digits=4))\n",
    "    \n",
    "    print(\"\\n🖼️ Confusion Matrix:\")\n",
    "    cm = confusion_matrix(all_labels, all_preds)\n",
    "    plt.figure(figsize=(10, 8)); sns.heatmap(cm, annot=True, fmt='d', cmap='Blues', xticklabels=test_dataset.classes, yticklabels=test_dataset.classes)\n",
    "    plt.title(f'Confusion Matrix - {config.MODEL_NAME}\\nTest Accuracy: {test_acc:.2%}'); plt.xlabel('Predicted'); plt.ylabel('True'); plt.show()"
   ]
  }
 ],
 "metadata": {
  "kernelspec": {
   "display_name": "Python 3",
   "language": "python",
   "name": "python3"
  },
  "language_info": {
   "codemirror_mode": {
    "name": "ipython",
    "version": 3
   },
   "file_extension": ".py",
   "mimetype": "text/x-python",
   "name": "python",
   "nbconvert_exporter": "python",
   "pygments_lexer": "ipython3",
   "version": "3.12.10"
  }
 },
 "nbformat": 4,
 "nbformat_minor": 5
}
