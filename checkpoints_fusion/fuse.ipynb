{
 "cells": [
  {
   "cell_type": "code",
   "execution_count": 1,
   "id": "e3a512e0",
   "metadata": {},
   "outputs": [
    {
     "name": "stdout",
     "output_type": "stream",
     "text": [
      "Device: cuda\n",
      "Loading GFT checkpoint from: A:\\journal V2\\gft\\best_full_gft_gala_pps.pth\n"
     ]
    }
   ],
   "source": [
    "# =============================================================================\n",
    "# Train: Fuse saved GFT (DINOv2+GALA+PPS) with CoAtNet and fine-tune the fusion\n",
    "# =============================================================================\n",
    "import os\n",
    "import math\n",
    "import numpy as np\n",
    "from tqdm.auto import tqdm\n",
    "from PIL import Image\n",
    "import warnings\n",
    "warnings.filterwarnings(\"ignore\")\n",
    "\n",
    "import torch\n",
    "import torch.nn as nn\n",
    "import torch.optim as optim\n",
    "from torch.utils.data import DataLoader, Dataset\n",
    "import torchvision.transforms as transforms\n",
    "from transformers import AutoModel, AutoImageProcessor\n",
    "import timm\n",
    "\n",
    "from sklearn.metrics import accuracy_score, classification_report, confusion_matrix\n",
    "import matplotlib.pyplot as plt\n",
    "import seaborn as sns\n",
    "\n",
    "# =============================================================================\n",
    "# 0. CONFIG\n",
    "# =============================================================================\n",
    "class Config:\n",
    "    # dataset\n",
    "    BASE_DIR = r\"A:\\journal V2\\melspectrograms_dataset\"   # <--- set your dataset base dir\n",
    "    IMG_SIZE = 224\n",
    "    BATCH_SIZE = 16      # reduce if OOM\n",
    "    NUM_WORKERS = 0\n",
    "\n",
    "    # model / checkpoints\n",
    "    GFT_MODEL_PATH = r\"A:\\journal V2\\gft\\best_full_gft_gala_pps.pth\"  # <--- path to your saved GFT model\n",
    "    COATNET_MODEL = \"coatnet_0_rw_224\"   # timm model name; change if you prefer other CoAtNet variants\n",
    "    PRETRAINED_COATNET = True\n",
    "    SAVE_DIR = r\"A:\\journal V2\\checkpoints_fusion\"\n",
    "    os.makedirs(SAVE_DIR, exist_ok=True)\n",
    "\n",
    "    # training phases and hyperparams\n",
    "    HEAD_EPOCHS = 8\n",
    "    PARTIAL_EPOCHS = 30\n",
    "    FULL_EPOCHS = 20\n",
    "\n",
    "    HEAD_LR = 3e-4\n",
    "    PARTIAL_LR = 5e-5\n",
    "    FULL_LR = 5e-6\n",
    "    WEIGHT_DECAY = 0.05\n",
    "    LR_WARMUP_EPOCHS = 3\n",
    "    PATIENCE = 12\n",
    "\n",
    "    # augment/reg\n",
    "    MIXUP_ALPHA = 0.4\n",
    "    SPEC_AUG_FREQ = 25\n",
    "    SPEC_AUG_TIME = 40\n",
    "    DROP_RATE = 0.4\n",
    "\n",
    "    # device\n",
    "    DEVICE = torch.device(\"cuda\" if torch.cuda.is_available() else \"cpu\")\n",
    "\n",
    "config = Config()\n",
    "print(\"Device:\", config.DEVICE)\n",
    "print(\"Loading GFT checkpoint from:\", config.GFT_MODEL_PATH)\n"
   ]
  },
  {
   "cell_type": "code",
   "execution_count": 2,
   "id": "9595bb61",
   "metadata": {},
   "outputs": [
    {
     "data": {
      "application/vnd.jupyter.widget-view+json": {
       "model_id": "c25878f8f0754d35a0f524aff4e0f736",
       "version_major": 2,
       "version_minor": 0
      },
      "text/plain": [
       "Fetching 1 files:   0%|          | 0/1 [00:00<?, ?it/s]"
      ]
     },
     "metadata": {},
     "output_type": "display_data"
    },
    {
     "name": "stderr",
     "output_type": "stream",
     "text": [
      "Using a slow image processor as `use_fast` is unset and a slow processor was saved with this model. `use_fast=True` will be the default behavior in v4.52, even if the model was saved with a slow processor. This will result in minor differences in outputs. You'll still be able to use a slow processor with `use_fast=False`.\n"
     ]
    },
    {
     "name": "stdout",
     "output_type": "stream",
     "text": [
      "Found 4021 images in train with 6 classes.\n",
      "Found 73 images in validation with 6 classes.\n",
      "Num classes: 6\n",
      "Loading GFT checkpoint into gft_branch (strict=False)...\n",
      "Loaded checkpoint (strict=False).\n",
      "Creating CoAtNet (coatnet_0_rw_224, pretrained=True)\n",
      "Fusion model created and moved to device.\n",
      "\n",
      "HEAD PHASE - Epoch 1/8\n"
     ]
    },
    {
     "data": {
      "application/vnd.jupyter.widget-view+json": {
       "model_id": "f1fbd4c044094de2b18c66640f731b28",
       "version_major": 2,
       "version_minor": 0
      },
      "text/plain": [
       "Train:   0%|          | 0/252 [00:00<?, ?it/s]"
      ]
     },
     "metadata": {},
     "output_type": "display_data"
    },
    {
     "data": {
      "application/vnd.jupyter.widget-view+json": {
       "model_id": "adc5e38f278146a4800393d775d7b072",
       "version_major": 2,
       "version_minor": 0
      },
      "text/plain": [
       "Val:   0%|          | 0/5 [00:00<?, ?it/s]"
      ]
     },
     "metadata": {},
     "output_type": "display_data"
    },
    {
     "name": "stdout",
     "output_type": "stream",
     "text": [
      "Train Loss 0.0867 Acc 0.8724 | Val Loss 0.0962 Acc 0.8630\n",
      "Saved best head model.\n",
      "\n",
      "HEAD PHASE - Epoch 2/8\n"
     ]
    },
    {
     "data": {
      "application/vnd.jupyter.widget-view+json": {
       "model_id": "ce3744374a9b4beb85c2ecf738d576f8",
       "version_major": 2,
       "version_minor": 0
      },
      "text/plain": [
       "Train:   0%|          | 0/252 [00:00<?, ?it/s]"
      ]
     },
     "metadata": {},
     "output_type": "display_data"
    },
    {
     "data": {
      "application/vnd.jupyter.widget-view+json": {
       "model_id": "a55253be3fbe46ec97f4b5be282dce63",
       "version_major": 2,
       "version_minor": 0
      },
      "text/plain": [
       "Val:   0%|          | 0/5 [00:00<?, ?it/s]"
      ]
     },
     "metadata": {},
     "output_type": "display_data"
    },
    {
     "name": "stdout",
     "output_type": "stream",
     "text": [
      "Train Loss 0.0604 Acc 0.8846 | Val Loss 0.1281 Acc 0.7808\n",
      "\n",
      "HEAD PHASE - Epoch 3/8\n"
     ]
    },
    {
     "data": {
      "application/vnd.jupyter.widget-view+json": {
       "model_id": "1f7bd592aab646ea887c9e97a7fba571",
       "version_major": 2,
       "version_minor": 0
      },
      "text/plain": [
       "Train:   0%|          | 0/252 [00:00<?, ?it/s]"
      ]
     },
     "metadata": {},
     "output_type": "display_data"
    },
    {
     "data": {
      "application/vnd.jupyter.widget-view+json": {
       "model_id": "b5fba2ab99d84d79bedca2d1c10cab2a",
       "version_major": 2,
       "version_minor": 0
      },
      "text/plain": [
       "Val:   0%|          | 0/5 [00:00<?, ?it/s]"
      ]
     },
     "metadata": {},
     "output_type": "display_data"
    },
    {
     "name": "stdout",
     "output_type": "stream",
     "text": [
      "Train Loss 0.0570 Acc 0.8936 | Val Loss 0.1338 Acc 0.8356\n",
      "\n",
      "HEAD PHASE - Epoch 4/8\n"
     ]
    },
    {
     "data": {
      "application/vnd.jupyter.widget-view+json": {
       "model_id": "6c6e91d199bd46f4b1e2f79e1a61f8d6",
       "version_major": 2,
       "version_minor": 0
      },
      "text/plain": [
       "Train:   0%|          | 0/252 [00:00<?, ?it/s]"
      ]
     },
     "metadata": {},
     "output_type": "display_data"
    },
    {
     "data": {
      "application/vnd.jupyter.widget-view+json": {
       "model_id": "51312053ee8e4ad7be9f9e26fa8a1b5d",
       "version_major": 2,
       "version_minor": 0
      },
      "text/plain": [
       "Val:   0%|          | 0/5 [00:00<?, ?it/s]"
      ]
     },
     "metadata": {},
     "output_type": "display_data"
    },
    {
     "name": "stdout",
     "output_type": "stream",
     "text": [
      "Train Loss 0.0539 Acc 0.8928 | Val Loss 0.1320 Acc 0.7945\n",
      "\n",
      "HEAD PHASE - Epoch 5/8\n"
     ]
    },
    {
     "data": {
      "application/vnd.jupyter.widget-view+json": {
       "model_id": "eaa2849de0454303a14a407065227ca0",
       "version_major": 2,
       "version_minor": 0
      },
      "text/plain": [
       "Train:   0%|          | 0/252 [00:00<?, ?it/s]"
      ]
     },
     "metadata": {},
     "output_type": "display_data"
    },
    {
     "data": {
      "application/vnd.jupyter.widget-view+json": {
       "model_id": "67a6ca04db90422399437ab5b4a568b7",
       "version_major": 2,
       "version_minor": 0
      },
      "text/plain": [
       "Val:   0%|          | 0/5 [00:00<?, ?it/s]"
      ]
     },
     "metadata": {},
     "output_type": "display_data"
    },
    {
     "name": "stdout",
     "output_type": "stream",
     "text": [
      "Train Loss 0.0517 Acc 0.8963 | Val Loss 0.1258 Acc 0.8219\n",
      "\n",
      "HEAD PHASE - Epoch 6/8\n"
     ]
    },
    {
     "data": {
      "application/vnd.jupyter.widget-view+json": {
       "model_id": "dc76644e0d664e659887c6a39a405c5a",
       "version_major": 2,
       "version_minor": 0
      },
      "text/plain": [
       "Train:   0%|          | 0/252 [00:00<?, ?it/s]"
      ]
     },
     "metadata": {},
     "output_type": "display_data"
    },
    {
     "data": {
      "application/vnd.jupyter.widget-view+json": {
       "model_id": "038c9d6fb8d54e2b98f2c12686ebedb7",
       "version_major": 2,
       "version_minor": 0
      },
      "text/plain": [
       "Val:   0%|          | 0/5 [00:00<?, ?it/s]"
      ]
     },
     "metadata": {},
     "output_type": "display_data"
    },
    {
     "name": "stdout",
     "output_type": "stream",
     "text": [
      "Train Loss 0.0493 Acc 0.9028 | Val Loss 0.1253 Acc 0.8082\n",
      "\n",
      "HEAD PHASE - Epoch 7/8\n"
     ]
    },
    {
     "data": {
      "application/vnd.jupyter.widget-view+json": {
       "model_id": "da059f01519a4201a79e5f0667c3f336",
       "version_major": 2,
       "version_minor": 0
      },
      "text/plain": [
       "Train:   0%|          | 0/252 [00:00<?, ?it/s]"
      ]
     },
     "metadata": {},
     "output_type": "display_data"
    },
    {
     "data": {
      "application/vnd.jupyter.widget-view+json": {
       "model_id": "21af4cec9990424592f9575363429211",
       "version_major": 2,
       "version_minor": 0
      },
      "text/plain": [
       "Val:   0%|          | 0/5 [00:00<?, ?it/s]"
      ]
     },
     "metadata": {},
     "output_type": "display_data"
    },
    {
     "name": "stdout",
     "output_type": "stream",
     "text": [
      "Train Loss 0.0486 Acc 0.9015 | Val Loss 0.1307 Acc 0.8219\n",
      "\n",
      "HEAD PHASE - Epoch 8/8\n"
     ]
    },
    {
     "data": {
      "application/vnd.jupyter.widget-view+json": {
       "model_id": "6389484ee3054f64b56be7129954d809",
       "version_major": 2,
       "version_minor": 0
      },
      "text/plain": [
       "Train:   0%|          | 0/252 [00:00<?, ?it/s]"
      ]
     },
     "metadata": {},
     "output_type": "display_data"
    },
    {
     "data": {
      "application/vnd.jupyter.widget-view+json": {
       "model_id": "eeb073f544ba471d982baea9189740a5",
       "version_major": 2,
       "version_minor": 0
      },
      "text/plain": [
       "Val:   0%|          | 0/5 [00:00<?, ?it/s]"
      ]
     },
     "metadata": {},
     "output_type": "display_data"
    },
    {
     "name": "stdout",
     "output_type": "stream",
     "text": [
      "Train Loss 0.0518 Acc 0.8886 | Val Loss 0.1139 Acc 0.8630\n",
      "\n",
      "Partial unfreeze: unfreeze coatnet last layers and last GFT stage\n",
      "\n",
      "PARTIAL PHASE - Epoch 1/30\n"
     ]
    },
    {
     "data": {
      "application/vnd.jupyter.widget-view+json": {
       "model_id": "5611becf7cf44f5ca440a818b5c1e824",
       "version_major": 2,
       "version_minor": 0
      },
      "text/plain": [
       "Train:   0%|          | 0/252 [00:00<?, ?it/s]"
      ]
     },
     "metadata": {},
     "output_type": "display_data"
    },
    {
     "data": {
      "application/vnd.jupyter.widget-view+json": {
       "model_id": "55dcaacae8e340fd852d6d1e28afca06",
       "version_major": 2,
       "version_minor": 0
      },
      "text/plain": [
       "Val:   0%|          | 0/5 [00:00<?, ?it/s]"
      ]
     },
     "metadata": {},
     "output_type": "display_data"
    },
    {
     "name": "stdout",
     "output_type": "stream",
     "text": [
      "Train Loss 0.1971 Acc 0.5379 | Val Loss 0.1202 Acc 0.8219\n",
      "\n",
      "PARTIAL PHASE - Epoch 2/30\n"
     ]
    },
    {
     "data": {
      "application/vnd.jupyter.widget-view+json": {
       "model_id": "235c6478a7de49ef9d59f0069b66e575",
       "version_major": 2,
       "version_minor": 0
      },
      "text/plain": [
       "Train:   0%|          | 0/252 [00:00<?, ?it/s]"
      ]
     },
     "metadata": {},
     "output_type": "display_data"
    },
    {
     "data": {
      "application/vnd.jupyter.widget-view+json": {
       "model_id": "dc83e481e1574cccbbbd1425b7b69f7b",
       "version_major": 2,
       "version_minor": 0
      },
      "text/plain": [
       "Val:   0%|          | 0/5 [00:00<?, ?it/s]"
      ]
     },
     "metadata": {},
     "output_type": "display_data"
    },
    {
     "name": "stdout",
     "output_type": "stream",
     "text": [
      "Train Loss 0.1794 Acc 0.5678 | Val Loss 0.1108 Acc 0.8219\n",
      "\n",
      "PARTIAL PHASE - Epoch 3/30\n"
     ]
    },
    {
     "data": {
      "application/vnd.jupyter.widget-view+json": {
       "model_id": "7a5cd20051f6486d998ff8bfd789077e",
       "version_major": 2,
       "version_minor": 0
      },
      "text/plain": [
       "Train:   0%|          | 0/252 [00:00<?, ?it/s]"
      ]
     },
     "metadata": {},
     "output_type": "display_data"
    },
    {
     "data": {
      "application/vnd.jupyter.widget-view+json": {
       "model_id": "4396f8fb969944618e4de191eaa512cd",
       "version_major": 2,
       "version_minor": 0
      },
      "text/plain": [
       "Val:   0%|          | 0/5 [00:00<?, ?it/s]"
      ]
     },
     "metadata": {},
     "output_type": "display_data"
    },
    {
     "name": "stdout",
     "output_type": "stream",
     "text": [
      "Train Loss 0.1786 Acc 0.5519 | Val Loss 0.1150 Acc 0.8082\n",
      "\n",
      "PARTIAL PHASE - Epoch 4/30\n"
     ]
    },
    {
     "data": {
      "application/vnd.jupyter.widget-view+json": {
       "model_id": "82e19cffab9b4ba49b15ebc883fa2dfc",
       "version_major": 2,
       "version_minor": 0
      },
      "text/plain": [
       "Train:   0%|          | 0/252 [00:00<?, ?it/s]"
      ]
     },
     "metadata": {},
     "output_type": "display_data"
    },
    {
     "data": {
      "application/vnd.jupyter.widget-view+json": {
       "model_id": "b97c0a0a6cd84fafa9f433b32422ded7",
       "version_major": 2,
       "version_minor": 0
      },
      "text/plain": [
       "Val:   0%|          | 0/5 [00:00<?, ?it/s]"
      ]
     },
     "metadata": {},
     "output_type": "display_data"
    },
    {
     "name": "stdout",
     "output_type": "stream",
     "text": [
      "Train Loss 0.1825 Acc 0.5571 | Val Loss 0.1127 Acc 0.8356\n",
      "\n",
      "PARTIAL PHASE - Epoch 5/30\n"
     ]
    },
    {
     "data": {
      "application/vnd.jupyter.widget-view+json": {
       "model_id": "ca195b45732f405d869be5991dc1ebb0",
       "version_major": 2,
       "version_minor": 0
      },
      "text/plain": [
       "Train:   0%|          | 0/252 [00:00<?, ?it/s]"
      ]
     },
     "metadata": {},
     "output_type": "display_data"
    },
    {
     "data": {
      "application/vnd.jupyter.widget-view+json": {
       "model_id": "bab9a7b07ea943e6992220c920ca4811",
       "version_major": 2,
       "version_minor": 0
      },
      "text/plain": [
       "Val:   0%|          | 0/5 [00:00<?, ?it/s]"
      ]
     },
     "metadata": {},
     "output_type": "display_data"
    },
    {
     "name": "stdout",
     "output_type": "stream",
     "text": [
      "Train Loss 0.1853 Acc 0.5558 | Val Loss 0.1130 Acc 0.8356\n",
      "\n",
      "PARTIAL PHASE - Epoch 6/30\n"
     ]
    },
    {
     "data": {
      "application/vnd.jupyter.widget-view+json": {
       "model_id": "6c7917e2f0bb4c45a72176aadfdcb55c",
       "version_major": 2,
       "version_minor": 0
      },
      "text/plain": [
       "Train:   0%|          | 0/252 [00:00<?, ?it/s]"
      ]
     },
     "metadata": {},
     "output_type": "display_data"
    },
    {
     "data": {
      "application/vnd.jupyter.widget-view+json": {
       "model_id": "a2e25ac066fd4fa289f78752eee52cb1",
       "version_major": 2,
       "version_minor": 0
      },
      "text/plain": [
       "Val:   0%|          | 0/5 [00:00<?, ?it/s]"
      ]
     },
     "metadata": {},
     "output_type": "display_data"
    },
    {
     "name": "stdout",
     "output_type": "stream",
     "text": [
      "Train Loss 0.1834 Acc 0.5404 | Val Loss 0.1238 Acc 0.8356\n",
      "\n",
      "PARTIAL PHASE - Epoch 7/30\n"
     ]
    },
    {
     "data": {
      "application/vnd.jupyter.widget-view+json": {
       "model_id": "c3edbb9861384f1ca787e86e5cf7aa2a",
       "version_major": 2,
       "version_minor": 0
      },
      "text/plain": [
       "Train:   0%|          | 0/252 [00:00<?, ?it/s]"
      ]
     },
     "metadata": {},
     "output_type": "display_data"
    },
    {
     "data": {
      "application/vnd.jupyter.widget-view+json": {
       "model_id": "7d4f39a18d914ffab7d6e1f2df967590",
       "version_major": 2,
       "version_minor": 0
      },
      "text/plain": [
       "Val:   0%|          | 0/5 [00:00<?, ?it/s]"
      ]
     },
     "metadata": {},
     "output_type": "display_data"
    },
    {
     "name": "stdout",
     "output_type": "stream",
     "text": [
      "Train Loss 0.1936 Acc 0.5359 | Val Loss 0.1062 Acc 0.8493\n",
      "\n",
      "PARTIAL PHASE - Epoch 8/30\n"
     ]
    },
    {
     "data": {
      "application/vnd.jupyter.widget-view+json": {
       "model_id": "79eafb5713b74f92ac451339ec09a3af",
       "version_major": 2,
       "version_minor": 0
      },
      "text/plain": [
       "Train:   0%|          | 0/252 [00:00<?, ?it/s]"
      ]
     },
     "metadata": {},
     "output_type": "display_data"
    },
    {
     "data": {
      "application/vnd.jupyter.widget-view+json": {
       "model_id": "174ed631054e4fb5b54f87cf171fc14a",
       "version_major": 2,
       "version_minor": 0
      },
      "text/plain": [
       "Val:   0%|          | 0/5 [00:00<?, ?it/s]"
      ]
     },
     "metadata": {},
     "output_type": "display_data"
    },
    {
     "name": "stdout",
     "output_type": "stream",
     "text": [
      "Train Loss 0.1758 Acc 0.5280 | Val Loss 0.1200 Acc 0.7671\n",
      "\n",
      "PARTIAL PHASE - Epoch 9/30\n"
     ]
    },
    {
     "data": {
      "application/vnd.jupyter.widget-view+json": {
       "model_id": "88e3fa138f58412a8d48b5414a344a0c",
       "version_major": 2,
       "version_minor": 0
      },
      "text/plain": [
       "Train:   0%|          | 0/252 [00:00<?, ?it/s]"
      ]
     },
     "metadata": {},
     "output_type": "display_data"
    },
    {
     "data": {
      "application/vnd.jupyter.widget-view+json": {
       "model_id": "4bdef0de166c4378903a23839d93ac08",
       "version_major": 2,
       "version_minor": 0
      },
      "text/plain": [
       "Val:   0%|          | 0/5 [00:00<?, ?it/s]"
      ]
     },
     "metadata": {},
     "output_type": "display_data"
    },
    {
     "name": "stdout",
     "output_type": "stream",
     "text": [
      "Train Loss 0.1692 Acc 0.5675 | Val Loss 0.1053 Acc 0.8356\n",
      "\n",
      "PARTIAL PHASE - Epoch 10/30\n"
     ]
    },
    {
     "data": {
      "application/vnd.jupyter.widget-view+json": {
       "model_id": "ac87c33d48014270af4b974c7ac845a0",
       "version_major": 2,
       "version_minor": 0
      },
      "text/plain": [
       "Train:   0%|          | 0/252 [00:00<?, ?it/s]"
      ]
     },
     "metadata": {},
     "output_type": "display_data"
    },
    {
     "data": {
      "application/vnd.jupyter.widget-view+json": {
       "model_id": "c994f25defec4400925eac07575a0ddb",
       "version_major": 2,
       "version_minor": 0
      },
      "text/plain": [
       "Val:   0%|          | 0/5 [00:00<?, ?it/s]"
      ]
     },
     "metadata": {},
     "output_type": "display_data"
    },
    {
     "name": "stdout",
     "output_type": "stream",
     "text": [
      "Train Loss 0.1779 Acc 0.5608 | Val Loss 0.1014 Acc 0.8219\n",
      "\n",
      "PARTIAL PHASE - Epoch 11/30\n"
     ]
    },
    {
     "data": {
      "application/vnd.jupyter.widget-view+json": {
       "model_id": "c13ad58e157c482f84ba06331846a3e6",
       "version_major": 2,
       "version_minor": 0
      },
      "text/plain": [
       "Train:   0%|          | 0/252 [00:00<?, ?it/s]"
      ]
     },
     "metadata": {},
     "output_type": "display_data"
    },
    {
     "data": {
      "application/vnd.jupyter.widget-view+json": {
       "model_id": "a4760601c1c64a9bbdf377d5db1b3078",
       "version_major": 2,
       "version_minor": 0
      },
      "text/plain": [
       "Val:   0%|          | 0/5 [00:00<?, ?it/s]"
      ]
     },
     "metadata": {},
     "output_type": "display_data"
    },
    {
     "name": "stdout",
     "output_type": "stream",
     "text": [
      "Train Loss 0.1660 Acc 0.5143 | Val Loss 0.1113 Acc 0.8219\n",
      "\n",
      "PARTIAL PHASE - Epoch 12/30\n"
     ]
    },
    {
     "data": {
      "application/vnd.jupyter.widget-view+json": {
       "model_id": "06429e172f8e4ecfb1e467c63ed3bf85",
       "version_major": 2,
       "version_minor": 0
      },
      "text/plain": [
       "Train:   0%|          | 0/252 [00:00<?, ?it/s]"
      ]
     },
     "metadata": {},
     "output_type": "display_data"
    },
    {
     "data": {
      "application/vnd.jupyter.widget-view+json": {
       "model_id": "134f659a559d403fb7cdd2178e85b4d3",
       "version_major": 2,
       "version_minor": 0
      },
      "text/plain": [
       "Val:   0%|          | 0/5 [00:00<?, ?it/s]"
      ]
     },
     "metadata": {},
     "output_type": "display_data"
    },
    {
     "name": "stdout",
     "output_type": "stream",
     "text": [
      "Train Loss 0.1745 Acc 0.5456 | Val Loss 0.1005 Acc 0.8493\n",
      "Early stopping (partial) triggered.\n",
      "\n",
      "FULL FINETUNE - Unfreezing all parameters\n",
      "\n",
      "FULL PHASE - Epoch 1/20\n"
     ]
    },
    {
     "data": {
      "application/vnd.jupyter.widget-view+json": {
       "model_id": "fac268aa67d74b138761b7e082f8fe2f",
       "version_major": 2,
       "version_minor": 0
      },
      "text/plain": [
       "Train:   0%|          | 0/252 [00:00<?, ?it/s]"
      ]
     },
     "metadata": {},
     "output_type": "display_data"
    },
    {
     "data": {
      "application/vnd.jupyter.widget-view+json": {
       "model_id": "919a71e9d5074ba18faf1013feadb187",
       "version_major": 2,
       "version_minor": 0
      },
      "text/plain": [
       "Val:   0%|          | 0/5 [00:00<?, ?it/s]"
      ]
     },
     "metadata": {},
     "output_type": "display_data"
    },
    {
     "name": "stdout",
     "output_type": "stream",
     "text": [
      "Train Loss 0.1729 Acc 0.5685 | Val Loss 0.1085 Acc 0.8356\n",
      "\n",
      "FULL PHASE - Epoch 2/20\n"
     ]
    },
    {
     "data": {
      "application/vnd.jupyter.widget-view+json": {
       "model_id": "a1d0783401cd46ac9ef697f6b6408f7d",
       "version_major": 2,
       "version_minor": 0
      },
      "text/plain": [
       "Train:   0%|          | 0/252 [00:00<?, ?it/s]"
      ]
     },
     "metadata": {},
     "output_type": "display_data"
    },
    {
     "data": {
      "application/vnd.jupyter.widget-view+json": {
       "model_id": "73dfd7f6c75d40b585fb13cff9536201",
       "version_major": 2,
       "version_minor": 0
      },
      "text/plain": [
       "Val:   0%|          | 0/5 [00:00<?, ?it/s]"
      ]
     },
     "metadata": {},
     "output_type": "display_data"
    },
    {
     "name": "stdout",
     "output_type": "stream",
     "text": [
      "Train Loss 0.1528 Acc 0.5491 | Val Loss 0.1375 Acc 0.7671\n",
      "\n",
      "FULL PHASE - Epoch 3/20\n"
     ]
    },
    {
     "data": {
      "application/vnd.jupyter.widget-view+json": {
       "model_id": "43751f1d4dfa420898c6af08e3db1e4f",
       "version_major": 2,
       "version_minor": 0
      },
      "text/plain": [
       "Train:   0%|          | 0/252 [00:00<?, ?it/s]"
      ]
     },
     "metadata": {},
     "output_type": "display_data"
    },
    {
     "data": {
      "application/vnd.jupyter.widget-view+json": {
       "model_id": "f232327c5fdc4728b9b32e6443032715",
       "version_major": 2,
       "version_minor": 0
      },
      "text/plain": [
       "Val:   0%|          | 0/5 [00:00<?, ?it/s]"
      ]
     },
     "metadata": {},
     "output_type": "display_data"
    },
    {
     "name": "stdout",
     "output_type": "stream",
     "text": [
      "Train Loss 0.1590 Acc 0.5484 | Val Loss 0.1512 Acc 0.7945\n",
      "\n",
      "FULL PHASE - Epoch 4/20\n"
     ]
    },
    {
     "data": {
      "application/vnd.jupyter.widget-view+json": {
       "model_id": "e399d7d900c74ee9b54b4780da57ebf1",
       "version_major": 2,
       "version_minor": 0
      },
      "text/plain": [
       "Train:   0%|          | 0/252 [00:00<?, ?it/s]"
      ]
     },
     "metadata": {},
     "output_type": "display_data"
    },
    {
     "data": {
      "application/vnd.jupyter.widget-view+json": {
       "model_id": "a557da27d1084bad961eb9f59bd919af",
       "version_major": 2,
       "version_minor": 0
      },
      "text/plain": [
       "Val:   0%|          | 0/5 [00:00<?, ?it/s]"
      ]
     },
     "metadata": {},
     "output_type": "display_data"
    },
    {
     "name": "stdout",
     "output_type": "stream",
     "text": [
      "Train Loss 0.1613 Acc 0.5847 | Val Loss 0.1243 Acc 0.8767\n",
      "Saved best full fusion model.\n",
      "\n",
      "FULL PHASE - Epoch 5/20\n"
     ]
    },
    {
     "data": {
      "application/vnd.jupyter.widget-view+json": {
       "model_id": "55250ebf1acf4eaa8eb844bf9ab8d6bc",
       "version_major": 2,
       "version_minor": 0
      },
      "text/plain": [
       "Train:   0%|          | 0/252 [00:00<?, ?it/s]"
      ]
     },
     "metadata": {},
     "output_type": "display_data"
    },
    {
     "data": {
      "application/vnd.jupyter.widget-view+json": {
       "model_id": "5d8d3a022efd4922800d1201a587f08d",
       "version_major": 2,
       "version_minor": 0
      },
      "text/plain": [
       "Val:   0%|          | 0/5 [00:00<?, ?it/s]"
      ]
     },
     "metadata": {},
     "output_type": "display_data"
    },
    {
     "name": "stdout",
     "output_type": "stream",
     "text": [
      "Train Loss 0.1533 Acc 0.5986 | Val Loss 0.1455 Acc 0.7534\n",
      "\n",
      "FULL PHASE - Epoch 6/20\n"
     ]
    },
    {
     "data": {
      "application/vnd.jupyter.widget-view+json": {
       "model_id": "ea4009afa89440e1955ccfe65141a17b",
       "version_major": 2,
       "version_minor": 0
      },
      "text/plain": [
       "Train:   0%|          | 0/252 [00:00<?, ?it/s]"
      ]
     },
     "metadata": {},
     "output_type": "display_data"
    },
    {
     "data": {
      "application/vnd.jupyter.widget-view+json": {
       "model_id": "581d3ad1191c4a8e88e503c67b084d46",
       "version_major": 2,
       "version_minor": 0
      },
      "text/plain": [
       "Val:   0%|          | 0/5 [00:00<?, ?it/s]"
      ]
     },
     "metadata": {},
     "output_type": "display_data"
    },
    {
     "name": "stdout",
     "output_type": "stream",
     "text": [
      "Train Loss 0.1624 Acc 0.5678 | Val Loss 0.1390 Acc 0.8219\n",
      "\n",
      "FULL PHASE - Epoch 7/20\n"
     ]
    },
    {
     "data": {
      "application/vnd.jupyter.widget-view+json": {
       "model_id": "ad1e485cf0524710a45a5aa8c35d522e",
       "version_major": 2,
       "version_minor": 0
      },
      "text/plain": [
       "Train:   0%|          | 0/252 [00:00<?, ?it/s]"
      ]
     },
     "metadata": {},
     "output_type": "display_data"
    },
    {
     "data": {
      "application/vnd.jupyter.widget-view+json": {
       "model_id": "8e6e62de475147c6be8ad1ab9d54441d",
       "version_major": 2,
       "version_minor": 0
      },
      "text/plain": [
       "Val:   0%|          | 0/5 [00:00<?, ?it/s]"
      ]
     },
     "metadata": {},
     "output_type": "display_data"
    },
    {
     "name": "stdout",
     "output_type": "stream",
     "text": [
      "Train Loss 0.1578 Acc 0.5593 | Val Loss 0.1420 Acc 0.8356\n",
      "\n",
      "FULL PHASE - Epoch 8/20\n"
     ]
    },
    {
     "data": {
      "application/vnd.jupyter.widget-view+json": {
       "model_id": "94f6db80dcb04c1085306d4e49d28358",
       "version_major": 2,
       "version_minor": 0
      },
      "text/plain": [
       "Train:   0%|          | 0/252 [00:00<?, ?it/s]"
      ]
     },
     "metadata": {},
     "output_type": "display_data"
    },
    {
     "data": {
      "application/vnd.jupyter.widget-view+json": {
       "model_id": "61d22f4b1dd243f0ad002917ec410b94",
       "version_major": 2,
       "version_minor": 0
      },
      "text/plain": [
       "Val:   0%|          | 0/5 [00:00<?, ?it/s]"
      ]
     },
     "metadata": {},
     "output_type": "display_data"
    },
    {
     "name": "stdout",
     "output_type": "stream",
     "text": [
      "Train Loss 0.1479 Acc 0.5531 | Val Loss 0.1325 Acc 0.8356\n",
      "\n",
      "FULL PHASE - Epoch 9/20\n"
     ]
    },
    {
     "data": {
      "application/vnd.jupyter.widget-view+json": {
       "model_id": "4b47dd1b540b40e888d6d1961ec949ca",
       "version_major": 2,
       "version_minor": 0
      },
      "text/plain": [
       "Train:   0%|          | 0/252 [00:00<?, ?it/s]"
      ]
     },
     "metadata": {},
     "output_type": "display_data"
    },
    {
     "data": {
      "application/vnd.jupyter.widget-view+json": {
       "model_id": "80e182a7027e4d96a8166323c2e9c18b",
       "version_major": 2,
       "version_minor": 0
      },
      "text/plain": [
       "Val:   0%|          | 0/5 [00:00<?, ?it/s]"
      ]
     },
     "metadata": {},
     "output_type": "display_data"
    },
    {
     "name": "stdout",
     "output_type": "stream",
     "text": [
      "Train Loss 0.1538 Acc 0.5790 | Val Loss 0.1425 Acc 0.8082\n",
      "\n",
      "FULL PHASE - Epoch 10/20\n"
     ]
    },
    {
     "data": {
      "application/vnd.jupyter.widget-view+json": {
       "model_id": "f54047bda14645a1934a43f07a0e6448",
       "version_major": 2,
       "version_minor": 0
      },
      "text/plain": [
       "Train:   0%|          | 0/252 [00:00<?, ?it/s]"
      ]
     },
     "metadata": {},
     "output_type": "display_data"
    },
    {
     "data": {
      "application/vnd.jupyter.widget-view+json": {
       "model_id": "17b5e7f71ec4482ba7627fcadc9b3365",
       "version_major": 2,
       "version_minor": 0
      },
      "text/plain": [
       "Val:   0%|          | 0/5 [00:00<?, ?it/s]"
      ]
     },
     "metadata": {},
     "output_type": "display_data"
    },
    {
     "name": "stdout",
     "output_type": "stream",
     "text": [
      "Train Loss 0.1431 Acc 0.5098 | Val Loss 0.1235 Acc 0.8356\n",
      "\n",
      "FULL PHASE - Epoch 11/20\n"
     ]
    },
    {
     "data": {
      "application/vnd.jupyter.widget-view+json": {
       "model_id": "59bcdf5b6d5144cfa8827b099e3e6448",
       "version_major": 2,
       "version_minor": 0
      },
      "text/plain": [
       "Train:   0%|          | 0/252 [00:00<?, ?it/s]"
      ]
     },
     "metadata": {},
     "output_type": "display_data"
    },
    {
     "data": {
      "application/vnd.jupyter.widget-view+json": {
       "model_id": "280b7fb7f0db4ee4b1e378354d3789fc",
       "version_major": 2,
       "version_minor": 0
      },
      "text/plain": [
       "Val:   0%|          | 0/5 [00:00<?, ?it/s]"
      ]
     },
     "metadata": {},
     "output_type": "display_data"
    },
    {
     "name": "stdout",
     "output_type": "stream",
     "text": [
      "Train Loss 0.1522 Acc 0.5802 | Val Loss 0.1253 Acc 0.8082\n",
      "\n",
      "FULL PHASE - Epoch 12/20\n"
     ]
    },
    {
     "data": {
      "application/vnd.jupyter.widget-view+json": {
       "model_id": "ff7f5a45d71d411d92524e6d017f4dc6",
       "version_major": 2,
       "version_minor": 0
      },
      "text/plain": [
       "Train:   0%|          | 0/252 [00:00<?, ?it/s]"
      ]
     },
     "metadata": {},
     "output_type": "display_data"
    },
    {
     "data": {
      "application/vnd.jupyter.widget-view+json": {
       "model_id": "53ed836445a340979bee152e5f49c824",
       "version_major": 2,
       "version_minor": 0
      },
      "text/plain": [
       "Val:   0%|          | 0/5 [00:00<?, ?it/s]"
      ]
     },
     "metadata": {},
     "output_type": "display_data"
    },
    {
     "name": "stdout",
     "output_type": "stream",
     "text": [
      "Train Loss 0.1346 Acc 0.5760 | Val Loss 0.1253 Acc 0.8493\n",
      "\n",
      "FULL PHASE - Epoch 13/20\n"
     ]
    },
    {
     "data": {
      "application/vnd.jupyter.widget-view+json": {
       "model_id": "ab931b9d18b14f8587730b4e954dfbc6",
       "version_major": 2,
       "version_minor": 0
      },
      "text/plain": [
       "Train:   0%|          | 0/252 [00:00<?, ?it/s]"
      ]
     },
     "metadata": {},
     "output_type": "display_data"
    },
    {
     "data": {
      "application/vnd.jupyter.widget-view+json": {
       "model_id": "5ce599cfd05b46478f2901b02a5d263d",
       "version_major": 2,
       "version_minor": 0
      },
      "text/plain": [
       "Val:   0%|          | 0/5 [00:00<?, ?it/s]"
      ]
     },
     "metadata": {},
     "output_type": "display_data"
    },
    {
     "name": "stdout",
     "output_type": "stream",
     "text": [
      "Train Loss 0.1405 Acc 0.5924 | Val Loss 0.1229 Acc 0.8356\n",
      "\n",
      "FULL PHASE - Epoch 14/20\n"
     ]
    },
    {
     "data": {
      "application/vnd.jupyter.widget-view+json": {
       "model_id": "d2219e7e3df84f24b669d4ebb9e68a14",
       "version_major": 2,
       "version_minor": 0
      },
      "text/plain": [
       "Train:   0%|          | 0/252 [00:00<?, ?it/s]"
      ]
     },
     "metadata": {},
     "output_type": "display_data"
    },
    {
     "data": {
      "application/vnd.jupyter.widget-view+json": {
       "model_id": "b9b8eb5b456f47be9ed5ef1f70bc1f65",
       "version_major": 2,
       "version_minor": 0
      },
      "text/plain": [
       "Val:   0%|          | 0/5 [00:00<?, ?it/s]"
      ]
     },
     "metadata": {},
     "output_type": "display_data"
    },
    {
     "name": "stdout",
     "output_type": "stream",
     "text": [
      "Train Loss 0.1520 Acc 0.6260 | Val Loss 0.1256 Acc 0.8356\n",
      "\n",
      "FULL PHASE - Epoch 15/20\n"
     ]
    },
    {
     "data": {
      "application/vnd.jupyter.widget-view+json": {
       "model_id": "32b5599153a8495f93bb97ce5a95924b",
       "version_major": 2,
       "version_minor": 0
      },
      "text/plain": [
       "Train:   0%|          | 0/252 [00:00<?, ?it/s]"
      ]
     },
     "metadata": {},
     "output_type": "display_data"
    },
    {
     "data": {
      "application/vnd.jupyter.widget-view+json": {
       "model_id": "cbecea6dbdbb4a828ec7588840b3e92a",
       "version_major": 2,
       "version_minor": 0
      },
      "text/plain": [
       "Val:   0%|          | 0/5 [00:00<?, ?it/s]"
      ]
     },
     "metadata": {},
     "output_type": "display_data"
    },
    {
     "name": "stdout",
     "output_type": "stream",
     "text": [
      "Train Loss 0.1521 Acc 0.5511 | Val Loss 0.1244 Acc 0.8493\n",
      "\n",
      "FULL PHASE - Epoch 16/20\n"
     ]
    },
    {
     "data": {
      "application/vnd.jupyter.widget-view+json": {
       "model_id": "4ce61948275340cda64aa5a13f67bd31",
       "version_major": 2,
       "version_minor": 0
      },
      "text/plain": [
       "Train:   0%|          | 0/252 [00:00<?, ?it/s]"
      ]
     },
     "metadata": {},
     "output_type": "display_data"
    },
    {
     "data": {
      "application/vnd.jupyter.widget-view+json": {
       "model_id": "f23dfd31fb9345d0860555aba78d85a4",
       "version_major": 2,
       "version_minor": 0
      },
      "text/plain": [
       "Val:   0%|          | 0/5 [00:00<?, ?it/s]"
      ]
     },
     "metadata": {},
     "output_type": "display_data"
    },
    {
     "name": "stdout",
     "output_type": "stream",
     "text": [
      "Train Loss 0.1425 Acc 0.5685 | Val Loss 0.1233 Acc 0.8493\n",
      "Early stopping (full) triggered.\n"
     ]
    },
    {
     "data": {
      "image/png": "[encoded data removed]",
      "text/plain": [
       "<Figure size 1200x1000 with 2 Axes>"
      ]
     },
     "metadata": {},
     "output_type": "display_data"
    },
    {
     "name": "stdout",
     "output_type": "stream",
     "text": [
      "\n",
      "Final evaluation - Fusion model\n"
     ]
    },
    {
     "data": {
      "application/vnd.jupyter.widget-view+json": {
       "model_id": "e37732b763f2487e850de0b70f6a4119",
       "version_major": 2,
       "version_minor": 0
      },
      "text/plain": [
       "Fetching 1 files:   0%|          | 0/1 [00:00<?, ?it/s]"
      ]
     },
     "metadata": {},
     "output_type": "display_data"
    },
    {
     "name": "stdout",
     "output_type": "stream",
     "text": [
      "Found 74 images in test with 6 classes.\n",
      "Loading GFT checkpoint into gft_branch (strict=False)...\n",
      "Loaded checkpoint (strict=False).\n",
      "Creating CoAtNet (coatnet_0_rw_224, pretrained=True)\n"
     ]
    },
    {
     "data": {
      "application/vnd.jupyter.widget-view+json": {
       "model_id": "bca503dd29d84bc2bd13d2261a828a6c",
       "version_major": 2,
       "version_minor": 0
      },
      "text/plain": [
       "Testing:   0%|          | 0/5 [00:00<?, ?it/s]"
      ]
     },
     "metadata": {},
     "output_type": "display_data"
    },
    {
     "name": "stdout",
     "output_type": "stream",
     "text": [
      "Test Accuracy: 0.8378 (83.78%)\n",
      "\n",
      "Classification Report:\n",
      "                        precision    recall  f1-score   support\n",
      "\n",
      "             Dysarthia     1.0000    1.0000    1.0000        13\n",
      "            Laryngitis     0.6154    0.6154    0.6154        13\n",
      "           Laryngozele     0.8000    0.8889    0.8421         9\n",
      "           Vox senilis     0.7857    0.8462    0.8148        13\n",
      "             parkinson     1.0000    1.0000    1.0000        13\n",
      "spasmodische_dysphonie     0.8182    0.6923    0.7500        13\n",
      "\n",
      "              accuracy                         0.8378        74\n",
      "             macro avg     0.8365    0.8405    0.8371        74\n",
      "          weighted avg     0.8385    0.8378    0.8368        74\n",
      "\n"
     ]
    },
    {
     "data": {
      "image/png": "[encoded data removed]",
      "text/plain": [
       "<Figure size 1200x1000 with 2 Axes>"
      ]
     },
     "metadata": {},
     "output_type": "display_data"
    }
   ],
   "source": [
    "\n",
    "# =============================================================================\n",
    "# 1. LOSS: Gradient Focal Loss (same as before)\n",
    "# =============================================================================\n",
    "class GradientFocalLoss(nn.Module):\n",
    "    def __init__(self, alpha=0.25, gamma=2.0, reduction=\"mean\"):\n",
    "        super().__init__()\n",
    "        self.alpha = alpha\n",
    "        self.gamma = gamma\n",
    "        self.reduction = reduction\n",
    "    def forward(self, logits, targets):\n",
    "        ce = nn.functional.cross_entropy(logits, targets, reduction=\"none\")\n",
    "        p = torch.exp(-ce)\n",
    "        probs = torch.softmax(logits, dim=1)\n",
    "        target_probs = probs.gather(1, targets.unsqueeze(1)).squeeze(1)\n",
    "        grad_weight = torch.abs(target_probs - 1.0)\n",
    "        focal = self.alpha * (1 - p) ** self.gamma * (1 + grad_weight)\n",
    "        loss = focal * ce\n",
    "        if self.reduction == \"mean\":\n",
    "            return loss.mean()\n",
    "        elif self.reduction == \"sum\":\n",
    "            return loss.sum()\n",
    "        return loss\n",
    "\n",
    "# =============================================================================\n",
    "# 2. (Minimal) GFT modules needed to load the saved checkpoint\n",
    "#    NOTE: these are kept compact; we don't re-implement full two-pass GALA here.\n",
    "# =============================================================================\n",
    "class GALA_Attention(nn.Module):\n",
    "    def __init__(self, dim, n_heads=8, qkv_bias=True, attn_drop=0., proj_drop=0.):\n",
    "        super().__init__()\n",
    "        self.n_heads = n_heads\n",
    "        self.head_dim = dim // n_heads\n",
    "        self.scale = self.head_dim ** -0.5\n",
    "        self.qkv = nn.Linear(dim, dim * 3, bias=qkv_bias)\n",
    "        self.attn_drop = nn.Dropout(attn_drop)\n",
    "        self.proj = nn.Linear(dim, dim)\n",
    "        self.proj_drop = nn.Dropout(proj_drop)\n",
    "        self.focal_gamma = nn.Parameter(torch.ones(n_heads, 1, 1))\n",
    "    def forward(self, x):\n",
    "        B, N, C = x.shape\n",
    "        qkv = self.qkv(x).reshape(B, N, 3, self.n_heads, self.head_dim).permute(2, 0, 3, 1, 4)\n",
    "        q, k, v = qkv[0], qkv[1], qkv[2]\n",
    "        attn = (q @ k.transpose(-2, -1)) * self.scale\n",
    "        attn_weights = torch.softmax(attn, dim=-1)\n",
    "        focal = torch.pow(1.0 - attn_weights, self.focal_gamma)\n",
    "        attn = attn_weights * focal\n",
    "        attn = attn / (attn.sum(dim=-1, keepdim=True) + 1e-6)\n",
    "        out = (self.attn_drop(attn) @ v).transpose(1, 2).reshape(B, N, C)\n",
    "        return self.proj_drop(self.proj(out))\n",
    "\n",
    "class GFT_Encoder_Minimal(nn.Module):\n",
    "    def __init__(self, embed_dim, num_stages=3, n_heads=6, drop_rate=0.3):\n",
    "        super().__init__()\n",
    "        self.stages = nn.ModuleList([\n",
    "            nn.Sequential(\n",
    "                nn.LayerNorm(embed_dim),\n",
    "                GALA_Attention(embed_dim, n_heads=n_heads,\n",
    "                               attn_drop=drop_rate*0.5, proj_drop=drop_rate*0.5),\n",
    "                nn.LayerNorm(embed_dim),\n",
    "                nn.Linear(embed_dim, embed_dim),\n",
    "                nn.GELU(),\n",
    "                nn.Dropout(drop_rate)\n",
    "            ) for _ in range(num_stages)\n",
    "        ])\n",
    "    def forward(self, x):\n",
    "        for stage in self.stages:\n",
    "            x = stage(x)\n",
    "        return x\n",
    "\n",
    "# Minimal wrapper model to load the GFT checkpoint into\n",
    "class DinoV2_GFT_Minimal(nn.Module):\n",
    "    def __init__(self, model_name, num_classes, gft_stages=3, n_heads=6, drop_rate=0.3):\n",
    "        super().__init__()\n",
    "        self.backbone = AutoModel.from_pretrained(model_name)\n",
    "        embed_dim = self.backbone.config.hidden_size\n",
    "        self.embed_dim = embed_dim\n",
    "        self.gft_encoder = GFT_Encoder_Minimal(embed_dim, num_stages=gft_stages, n_heads=n_heads, drop_rate=drop_rate)\n",
    "        self.pool_norm = nn.LayerNorm(embed_dim)\n",
    "        # classifier head (may differ from checkpoint; load with strict=False)\n",
    "        self.classifier = nn.Sequential(\n",
    "            nn.Linear(embed_dim, 512),\n",
    "            nn.GELU(),\n",
    "            nn.Dropout(drop_rate),\n",
    "            nn.Linear(512, 256),\n",
    "            nn.GELU(),\n",
    "            nn.Dropout(drop_rate*0.5),\n",
    "            nn.Linear(256, num_classes)\n",
    "        )\n",
    "    def forward(self, pixel_values, token_mask=None):\n",
    "        outputs = self.backbone(pixel_values=pixel_values)\n",
    "        tokens = outputs.last_hidden_state\n",
    "        if token_mask is not None:\n",
    "            tokens = tokens * token_mask.unsqueeze(-1)\n",
    "        features = self.gft_encoder(tokens)\n",
    "        pooled = torch.mean(features, dim=1)\n",
    "        pooled = self.pool_norm(pooled)\n",
    "        logits = self.classifier(pooled)\n",
    "        return logits\n",
    "\n",
    "# =============================================================================\n",
    "# 3. Fusion model: loads GFT checkpoint into the gft_branch, and builds CoAtNet branch\n",
    "# =============================================================================\n",
    "class GFT_CoAtNet_Fusion(nn.Module):\n",
    "    def __init__(self, gft_checkpoint_path, num_classes, coatnet_name=\"coatnet_0_rw_224\", coatnet_pretrained=True,\n",
    "                 gft_model_name=\"facebook/dinov2-small\", gft_stages=3, gft_heads=6, drop_rate=0.3):\n",
    "        super().__init__()\n",
    "        # build the GFT branch (architecture should match the saved GFT structure sufficiently)\n",
    "        self.gft_branch = DinoV2_GFT_Minimal(gft_model_name, num_classes, gft_stages=gft_stages,\n",
    "                                             n_heads=gft_heads, drop_rate=drop_rate)\n",
    "\n",
    "        # load weights from saved GFT checkpoint into gft_branch\n",
    "        if gft_checkpoint_path and os.path.exists(gft_checkpoint_path):\n",
    "            print(\"Loading GFT checkpoint into gft_branch (strict=False)...\")\n",
    "            state = torch.load(gft_checkpoint_path, map_location=\"cpu\")\n",
    "            # attempt to load top-level if checkpoint matches\n",
    "            try:\n",
    "                self.gft_branch.load_state_dict(state, strict=False)\n",
    "                print(\"Loaded checkpoint (strict=False).\")\n",
    "            except Exception as e:\n",
    "                # if state is dict with keys like 'model_state_dict' or nested, try to smartly extract\n",
    "                if isinstance(state, dict):\n",
    "                    # common key names:\n",
    "                    possible_keys = [\"state_dict\", \"model_state_dict\", \"model\"]\n",
    "                    found = False\n",
    "                    for k in possible_keys:\n",
    "                        if k in state and isinstance(state[k], dict):\n",
    "                            self.gft_branch.load_state_dict(state[k], strict=False)\n",
    "                            print(f\"Loaded state from checkpoint['{k}'] (strict=False).\")\n",
    "                            found = True\n",
    "                            break\n",
    "                    if not found:\n",
    "                        # try partial load: match keys\n",
    "                        sd = state if all(isinstance(v, torch.Tensor) for v in state.values()) else state.get(\"state_dict\", state)\n",
    "                        if isinstance(sd, dict):\n",
    "                            self.gft_branch.load_state_dict(sd, strict=False)\n",
    "                            print(\"Attempted partial load from checkpoint dict (strict=False).\")\n",
    "                        else:\n",
    "                            print(\"Warning: checkpoint format not recognized; gft_branch init with pretrained HF weights only.\")\n",
    "                else:\n",
    "                    print(\"Warning: checkpoint format unknown; gft_branch init with pretrained HF weights only.\")\n",
    "        else:\n",
    "            print(\"GFT checkpoint path not found. Initializing gft_branch with backbone pretrained weights only.\")\n",
    "\n",
    "        # CoAtNet branch (global avg pool to get feature vector)\n",
    "        print(f\"Creating CoAtNet ({coatnet_name}, pretrained={coatnet_pretrained})\")\n",
    "        self.coatnet = timm.create_model(coatnet_name, pretrained=coatnet_pretrained, num_classes=0, global_pool=\"avg\")\n",
    "        # coatnet's output feature dim:\n",
    "        coat_dim = self.coatnet.num_features\n",
    "\n",
    "        # projection heads to align embeddings\n",
    "        gft_dim = self.gft_branch.embed_dim\n",
    "        proj_dim = 768  # common projection dim (tunable)\n",
    "\n",
    "        self.gft_proj = nn.Sequential(\n",
    "            nn.Linear(gft_dim, proj_dim),\n",
    "            nn.GELU(),\n",
    "            nn.LayerNorm(proj_dim)\n",
    "        )\n",
    "        self.coat_proj = nn.Sequential(\n",
    "            nn.Linear(coat_dim, proj_dim),\n",
    "            nn.GELU(),\n",
    "            nn.LayerNorm(proj_dim)\n",
    "        )\n",
    "\n",
    "        # fusion classifier (concat of projections)\n",
    "        fusion_in = proj_dim * 2\n",
    "        self.fusion_head = nn.Sequential(\n",
    "            nn.Linear(fusion_in, 1024),\n",
    "            nn.GELU(),\n",
    "            nn.Dropout(drop_rate),\n",
    "            nn.Linear(1024, 512),\n",
    "            nn.GELU(),\n",
    "            nn.Dropout(drop_rate*0.5),\n",
    "            nn.Linear(512, num_classes)\n",
    "        )\n",
    "\n",
    "    def forward(self, x, token_mask=None):\n",
    "        # x: pixel_values tensor (B, C, H, W) already normalized\n",
    "        # GFT branch yields logits normally; but we want intermediate pooled features\n",
    "        with torch.no_grad():\n",
    "            # temporarily run gft backbone/backbone encoders in eval if frozen; training loop will control requires_grad\n",
    "            pass\n",
    "\n",
    "        # get gft tokens outputs by calling backbone + gft_encoder path (re-using gft_branch forward but we need pooled features pre-classifier)\n",
    "        outputs = self.gft_branch.backbone(pixel_values=x)\n",
    "        tokens = outputs.last_hidden_state  # (B, N, C)\n",
    "        if token_mask is not None:\n",
    "            tokens = tokens * token_mask.unsqueeze(-1)\n",
    "        gft_features = self.gft_branch.gft_encoder(tokens)  # (B, N, C)\n",
    "        gft_pooled = torch.mean(gft_features, dim=1)        # (B, C)\n",
    "        gft_proj = self.gft_proj(gft_pooled)                # (B, proj_dim)\n",
    "\n",
    "        # CoAtNet branch\n",
    "        coat_feats = self.coatnet(x)                        # (B, coat_dim)\n",
    "        coat_proj = self.coat_proj(coat_feats)              # (B, proj_dim)\n",
    "\n",
    "        # fusion & classifier\n",
    "        fused = torch.cat([gft_proj, coat_proj], dim=1)     # (B, 2*proj_dim)\n",
    "        logits = self.fusion_head(fused)\n",
    "        return logits\n",
    "\n",
    "# =============================================================================\n",
    "# 4. Dataset + transforms (reuse your MelSpectrogramDataset style)\n",
    "# =============================================================================\n",
    "class MelSpectrogramDataset(Dataset):\n",
    "    def __init__(self, base_dir, split=\"train\", transform=None):\n",
    "        self.transform = transform\n",
    "        self.data_dir = os.path.join(base_dir, split)\n",
    "        if not os.path.isdir(self.data_dir):\n",
    "            raise FileNotFoundError(f\"Directory not found: {self.data_dir}\")\n",
    "        self.classes = sorted([d for d in os.listdir(self.data_dir) if os.path.isdir(os.path.join(self.data_dir, d))])\n",
    "        self.class_to_idx = {c:i for i,c in enumerate(self.classes)}\n",
    "        self.paths = []\n",
    "        self.labels = []\n",
    "        for cls in self.classes:\n",
    "            cls_dir = os.path.join(self.data_dir, cls)\n",
    "            for f in os.listdir(cls_dir):\n",
    "                if f.lower().endswith((\".png\", \".jpg\", \".jpeg\")):\n",
    "                    self.paths.append(os.path.join(cls_dir, f))\n",
    "                    self.labels.append(self.class_to_idx[cls])\n",
    "        print(f\"Found {len(self.paths)} images in {split} with {len(self.classes)} classes.\")\n",
    "    def __len__(self): return len(self.paths)\n",
    "    def __getitem__(self, idx):\n",
    "        img = Image.open(self.paths[idx]).convert(\"RGB\")\n",
    "        label = self.labels[idx]\n",
    "        if self.transform:\n",
    "            img = self.transform(img)\n",
    "        return img, label\n",
    "\n",
    "def get_transforms():\n",
    "    proc = AutoImageProcessor.from_pretrained(\"facebook/dinov2-small\")\n",
    "    mean, std = proc.image_mean, proc.image_std\n",
    "    train_transform = transforms.Compose([\n",
    "        transforms.Resize((config.IMG_SIZE, config.IMG_SIZE)),\n",
    "        transforms.TrivialAugmentWide(),\n",
    "        transforms.ToTensor(),\n",
    "        transforms.Normalize(mean=mean, std=std),\n",
    "    ])\n",
    "    val_transform = transforms.Compose([\n",
    "        transforms.Resize((config.IMG_SIZE, config.IMG_SIZE)),\n",
    "        transforms.ToTensor(),\n",
    "        transforms.Normalize(mean=mean, std=std),\n",
    "    ])\n",
    "    return train_transform, val_transform\n",
    "\n",
    "train_transform, val_transform = get_transforms()\n",
    "train_dataset = MelSpectrogramDataset(config.BASE_DIR, \"train\", train_transform)\n",
    "val_dataset = MelSpectrogramDataset(config.BASE_DIR, \"validation\", val_transform)\n",
    "train_loader = DataLoader(train_dataset, batch_size=config.BATCH_SIZE, shuffle=True, num_workers=config.NUM_WORKERS)\n",
    "val_loader = DataLoader(val_dataset, batch_size=config.BATCH_SIZE, shuffle=False, num_workers=config.NUM_WORKERS)\n",
    "num_classes = len(train_dataset.classes)\n",
    "print(\"Num classes:\", num_classes)\n",
    "\n",
    "# =============================================================================\n",
    "# 5. Mixup, SpecAugment helpers (optional)\n",
    "# =============================================================================\n",
    "class SpecAugment(nn.Module):\n",
    "    def __init__(self, freq_mask_param, time_mask_param, num_freq_masks=1, num_time_masks=1):\n",
    "        super().__init__()\n",
    "        self.F, self.T = freq_mask_param, time_mask_param\n",
    "        self.num_freq_masks, self.num_time_masks = num_freq_masks, num_time_masks\n",
    "    def forward(self, x):\n",
    "        sh = x.shape  # (B, C, H, W)\n",
    "        B,C,H,W = sh\n",
    "        for _ in range(self.num_freq_masks):\n",
    "            f = np.random.randint(0, min(self.F, H))\n",
    "            if H - f > 0:\n",
    "                f0 = np.random.randint(0, H - f)\n",
    "                x[:, :, f0:f0+f, :] = 0\n",
    "        for _ in range(self.num_time_masks):\n",
    "            t = np.random.randint(0, min(self.T, W))\n",
    "            if W - t > 0:\n",
    "                t0 = np.random.randint(0, W - t)\n",
    "                x[:, :, :, t0:t0+t] = 0\n",
    "        return x\n",
    "\n",
    "spec_augment = SpecAugment(freq_mask_param=config.SPEC_AUG_FREQ, time_mask_param=config.SPEC_AUG_TIME)\n",
    "\n",
    "def mixup_data(x, y, alpha=0.4, device=\"cuda\"):\n",
    "    if alpha > 0:\n",
    "        lam = np.random.beta(alpha, alpha)\n",
    "    else:\n",
    "        lam = 1.0\n",
    "    batch_size = x.size(0)\n",
    "    index = torch.randperm(batch_size).to(device)\n",
    "    mixed_x = lam * x + (1 - lam) * x[index]\n",
    "    y_a, y_b = y, y[index]\n",
    "    return mixed_x, y_a, y_b, lam\n",
    "\n",
    "def mixup_criterion(criterion, pred, y_a, y_b, lam):\n",
    "    return lam * criterion(pred, y_a) + (1 - lam) * criterion(pred, y_b)\n",
    "\n",
    "# =============================================================================\n",
    "# 6. Training & Validation loops (single-pass for fusion)\n",
    "# =============================================================================\n",
    "scaler = torch.cuda.amp.GradScaler()\n",
    "\n",
    "def train_epoch(model, dataloader, criterion, optimizer, device, mixup_alpha=0.0):\n",
    "    model.train()\n",
    "    running_loss = 0.0\n",
    "    all_preds, all_labels = [], []\n",
    "    pbar = tqdm(dataloader, desc=\"Train\")\n",
    "    for imgs, labels in pbar:\n",
    "        imgs = imgs.to(device); labels = labels.to(device)\n",
    "        imgs = spec_augment(imgs)\n",
    "        if mixup_alpha > 0:\n",
    "            inputs, targets_a, targets_b, lam = mixup_data(imgs, labels, mixup_alpha, device)\n",
    "        else:\n",
    "            inputs, targets_a, targets_b, lam = imgs, labels, labels, 1.0\n",
    "\n",
    "        optimizer.zero_grad(set_to_none=True)\n",
    "        with torch.cuda.amp.autocast():\n",
    "            logits = model(inputs)\n",
    "            loss = mixup_criterion(criterion, logits, targets_a, targets_b, lam)\n",
    "\n",
    "        scaler.scale(loss).backward()\n",
    "        scaler.step(optimizer)\n",
    "        scaler.update()\n",
    "\n",
    "        running_loss += loss.item()\n",
    "        _, preds = torch.max(logits, dim=1)\n",
    "        all_preds.extend(preds.detach().cpu().numpy())\n",
    "        all_labels.extend(labels.detach().cpu().numpy())\n",
    "        pbar.set_postfix({\"loss\": f\"{loss.item():.4f}\"})\n",
    "    avg_loss = running_loss / len(dataloader)\n",
    "    acc = accuracy_score(all_labels, all_preds)\n",
    "    return avg_loss, acc\n",
    "\n",
    "def validate_epoch(model, dataloader, criterion, device):\n",
    "    model.eval()\n",
    "    running_loss = 0.0\n",
    "    all_preds, all_labels = [], []\n",
    "    with torch.no_grad():\n",
    "        pbar = tqdm(dataloader, desc=\"Val\")\n",
    "        for imgs, labels in pbar:\n",
    "            imgs = imgs.to(device); labels = labels.to(device)\n",
    "            with torch.cuda.amp.autocast():\n",
    "                logits = model(imgs)\n",
    "                loss = criterion(logits, labels)\n",
    "            running_loss += loss.item()\n",
    "            _, preds = torch.max(logits, dim=1)\n",
    "            all_preds.extend(preds.detach().cpu().numpy())\n",
    "            all_labels.extend(labels.detach().cpu().numpy())\n",
    "    avg_loss = running_loss / len(dataloader)\n",
    "    acc = accuracy_score(all_labels, all_preds)\n",
    "    return avg_loss, acc\n",
    "\n",
    "# =============================================================================\n",
    "# 7. Full training pipeline (phased)\n",
    "# =============================================================================\n",
    "def run_fusion_training():\n",
    "    model = GFT_CoAtNet_Fusion(\n",
    "        gft_checkpoint_path=config.GFT_MODEL_PATH,\n",
    "        num_classes=num_classes,\n",
    "        coatnet_name=config.COATNET_MODEL,\n",
    "        coatnet_pretrained=config.PRETRAINED_COATNET\n",
    "    ).to(config.DEVICE)\n",
    "    print(\"Fusion model created and moved to device.\")\n",
    "\n",
    "    # Phase 1: Train fusion head only (freeze gft_branch & coatnet)\n",
    "    for p in model.gft_branch.parameters(): p.requires_grad = False\n",
    "    for p in model.coatnet.parameters(): p.requires_grad = False\n",
    "    for p in model.gft_proj.parameters(): p.requires_grad = True\n",
    "    for p in model.coat_proj.parameters(): p.requires_grad = True\n",
    "    for p in model.fusion_head.parameters(): p.requires_grad = True\n",
    "\n",
    "    criterion = GradientFocalLoss(alpha=0.25, gamma=2.0)\n",
    "    optimizer = optim.AdamW(filter(lambda p: p.requires_grad, model.parameters()), lr=config.HEAD_LR, weight_decay=config.WEIGHT_DECAY)\n",
    "    scheduler = optim.lr_scheduler.CosineAnnealingLR(optimizer, T_max=max(1, config.HEAD_EPOCHS - config.LR_WARMUP_EPOCHS))\n",
    "\n",
    "    best_val = 0.0\n",
    "    for epoch in range(config.HEAD_EPOCHS):\n",
    "        print(f\"\\nHEAD PHASE - Epoch {epoch+1}/{config.HEAD_EPOCHS}\")\n",
    "        train_loss, train_acc = train_epoch(model, train_loader, criterion, optimizer, config.DEVICE, mixup_alpha=0.0)\n",
    "        val_loss, val_acc = validate_epoch(model, val_loader, criterion, config.DEVICE)\n",
    "        scheduler.step()\n",
    "        print(f\"Train Loss {train_loss:.4f} Acc {train_acc:.4f} | Val Loss {val_loss:.4f} Acc {val_acc:.4f}\")\n",
    "        if val_acc > best_val:\n",
    "            best_val = val_acc\n",
    "            torch.save(model.state_dict(), os.path.join(config.SAVE_DIR, \"best_head_fusion.pth\"))\n",
    "            print(\"Saved best head model.\")\n",
    "\n",
    "    # Phase 2: Partial unfreeze (last blocks / proj / fusion)\n",
    "    print(\"\\nPartial unfreeze: unfreeze coatnet last layers and last GFT stage\")\n",
    "    # heuristic: unfreeze coatnet last stage layers (timms often expose layer names; here we unfreeze whole coatnet for simplicity but you can refine)\n",
    "    for p in model.coatnet.parameters(): p.requires_grad = True\n",
    "\n",
    "    # unfreeze last GFT stage parameters (approx: the last sequential in gft_branch)\n",
    "    for name, p in model.gft_branch.named_parameters():\n",
    "        if \"stages.2\" in name or \"gft_encoder.stages.2\" in name or \"stages\" in name and (\"2\" in name):\n",
    "            p.requires_grad = True\n",
    "        else:\n",
    "            p.requires_grad = False\n",
    "    # ensure projection heads & fusion head trainable\n",
    "    for p in model.gft_proj.parameters(): p.requires_grad = True\n",
    "    for p in model.coat_proj.parameters(): p.requires_grad = True\n",
    "    for p in model.fusion_head.parameters(): p.requires_grad = True\n",
    "\n",
    "    # prepare optimizer with different LR groups\n",
    "    param_groups = [\n",
    "        {\"params\": model.fusion_head.parameters(), \"lr\": config.PARTIAL_LR},\n",
    "        {\"params\": model.gft_proj.parameters(), \"lr\": config.PARTIAL_LR},\n",
    "        {\"params\": model.coat_proj.parameters(), \"lr\": config.PARTIAL_LR},\n",
    "        {\"params\": model.coatnet.parameters(), \"lr\": config.PARTIAL_LR * 0.5},  # smaller lr for pretrained coatnet\n",
    "        {\"params\": [p for n,p in model.gft_branch.named_parameters() if p.requires_grad], \"lr\": config.PARTIAL_LR * 0.5}\n",
    "    ]\n",
    "    optimizer = optim.AdamW(param_groups, weight_decay=config.WEIGHT_DECAY)\n",
    "    scheduler = optim.lr_scheduler.CosineAnnealingLR(optimizer, T_max=max(1, config.PARTIAL_EPOCHS - config.LR_WARMUP_EPOCHS))\n",
    "\n",
    "    best_partial = best_val\n",
    "    epochs_no_improve = 0\n",
    "    for epoch in range(config.PARTIAL_EPOCHS):\n",
    "        print(f\"\\nPARTIAL PHASE - Epoch {epoch+1}/{config.PARTIAL_EPOCHS}\")\n",
    "        train_loss, train_acc = train_epoch(model, train_loader, criterion, optimizer, config.DEVICE, mixup_alpha=config.MIXUP_ALPHA)\n",
    "        val_loss, val_acc = validate_epoch(model, val_loader, criterion, config.DEVICE)\n",
    "        scheduler.step()\n",
    "        print(f\"Train Loss {train_loss:.4f} Acc {train_acc:.4f} | Val Loss {val_loss:.4f} Acc {val_acc:.4f}\")\n",
    "        if val_acc > best_partial:\n",
    "            best_partial = val_acc\n",
    "            epochs_no_improve = 0\n",
    "            torch.save(model.state_dict(), os.path.join(config.SAVE_DIR, \"best_partial_fusion.pth\"))\n",
    "            print(\"Saved best partial model.\")\n",
    "        else:\n",
    "            epochs_no_improve += 1\n",
    "        if epochs_no_improve >= config.PATIENCE:\n",
    "            print(\"Early stopping (partial) triggered.\")\n",
    "            break\n",
    "\n",
    "    # Phase 3: Full fine-tune (unfreeze everything)\n",
    "    print(\"\\nFULL FINETUNE - Unfreezing all parameters\")\n",
    "    for p in model.parameters(): p.requires_grad = True\n",
    "    optimizer = optim.AdamW(model.parameters(), lr=config.FULL_LR, weight_decay=config.WEIGHT_DECAY * 0.5)\n",
    "    scheduler = optim.lr_scheduler.CosineAnnealingLR(optimizer, T_max=max(1, config.FULL_EPOCHS - config.LR_WARMUP_EPOCHS))\n",
    "\n",
    "    best_full = best_partial\n",
    "    epochs_no_improve = 0\n",
    "    history = {\"train_loss\": [], \"train_acc\": [], \"val_loss\": [], \"val_acc\": []}\n",
    "    for epoch in range(config.FULL_EPOCHS):\n",
    "        print(f\"\\nFULL PHASE - Epoch {epoch+1}/{config.FULL_EPOCHS}\")\n",
    "        train_loss, train_acc = train_epoch(model, train_loader, criterion, optimizer, config.DEVICE, mixup_alpha=config.MIXUP_ALPHA)\n",
    "        val_loss, val_acc = validate_epoch(model, val_loader, criterion, config.DEVICE)\n",
    "        scheduler.step()\n",
    "        history[\"train_loss\"].append(train_loss); history[\"train_acc\"].append(train_acc)\n",
    "        history[\"val_loss\"].append(val_loss); history[\"val_acc\"].append(val_acc)\n",
    "        print(f\"Train Loss {train_loss:.4f} Acc {train_acc:.4f} | Val Loss {val_loss:.4f} Acc {val_acc:.4f}\")\n",
    "        if val_acc > best_full:\n",
    "            best_full = val_acc\n",
    "            epochs_no_improve = 0\n",
    "            torch.save(model.state_dict(), os.path.join(config.SAVE_DIR, \"best_full_fusion.pth\"))\n",
    "            print(\"Saved best full fusion model.\")\n",
    "        else:\n",
    "            epochs_no_improve += 1\n",
    "        if epochs_no_improve >= config.PATIENCE:\n",
    "            print(\"Early stopping (full) triggered.\")\n",
    "            break\n",
    "\n",
    "    return model, history\n",
    "\n",
    "# =============================================================================\n",
    "# 8. plotting + final evaluation helpers\n",
    "# =============================================================================\n",
    "def plot_history(history):\n",
    "    plt.style.use(\"seaborn-v0_8-darkgrid\")\n",
    "    fig, (ax1, ax2) = plt.subplots(2,1, figsize=(12,10))\n",
    "    epochs = range(1, len(history[\"train_loss\"])+1)\n",
    "    ax1.plot(epochs, history[\"train_acc\"], \"o-\", label=\"train\")\n",
    "    ax1.plot(epochs, history[\"val_acc\"], \"o-\", label=\"val\")\n",
    "    ax1.set_title(\"Accuracy\")\n",
    "    ax1.legend()\n",
    "    ax2.plot(epochs, history[\"train_loss\"], \"o-\", label=\"train\")\n",
    "    ax2.plot(epochs, history[\"val_loss\"], \"o-\", label=\"val\")\n",
    "    ax2.set_title(\"Loss\")\n",
    "    ax2.legend()\n",
    "    plt.tight_layout(); plt.show()\n",
    "\n",
    "def final_evaluation(model_path):\n",
    "    print(\"\\nFinal evaluation - Fusion model\")\n",
    "    proc = AutoImageProcessor.from_pretrained(\"facebook/dinov2-small\")\n",
    "    test_transform = transforms.Compose([\n",
    "        transforms.Resize((config.IMG_SIZE, config.IMG_SIZE)),\n",
    "        transforms.ToTensor(),\n",
    "        transforms.Normalize(mean=proc.image_mean, std=proc.image_std)\n",
    "    ])\n",
    "    test_dataset = MelSpectrogramDataset(config.BASE_DIR, \"test\", test_transform)\n",
    "    test_loader = DataLoader(test_dataset, batch_size=config.BATCH_SIZE, shuffle=False, num_workers=config.NUM_WORKERS)\n",
    "\n",
    "    # instantiate model skeleton to load weights and run inference\n",
    "    model = GFT_CoAtNet_Fusion(\n",
    "        gft_checkpoint_path=config.GFT_MODEL_PATH,\n",
    "        num_classes=len(test_dataset.classes),\n",
    "        coatnet_name=config.COATNET_MODEL,\n",
    "        coatnet_pretrained=config.PRETRAINED_COATNET\n",
    "    ).to(config.DEVICE)\n",
    "    state = torch.load(model_path, map_location=config.DEVICE)\n",
    "    model.load_state_dict(state, strict=False)\n",
    "    model.eval()\n",
    "\n",
    "    all_preds, all_labels = [], []\n",
    "    with torch.no_grad():\n",
    "        for imgs, labels in tqdm(test_loader, desc=\"Testing\"):\n",
    "            imgs = imgs.to(config.DEVICE); labels = labels.to(config.DEVICE)\n",
    "            logits = model(imgs)\n",
    "            _, preds = torch.max(logits, dim=1)\n",
    "            all_preds.extend(preds.cpu().numpy()); all_labels.extend(labels.cpu().numpy())\n",
    "\n",
    "    acc = accuracy_score(all_labels, all_preds)\n",
    "    print(f\"Test Accuracy: {acc:.4f} ({acc*100:.2f}%)\")\n",
    "    print(\"\\nClassification Report:\")\n",
    "    print(classification_report(all_labels, all_preds, target_names=test_dataset.classes, digits=4))\n",
    "\n",
    "    cm = confusion_matrix(all_labels, all_preds)\n",
    "    plt.figure(figsize=(12,10))\n",
    "    sns.heatmap(cm, annot=True, fmt=\"d\", xticklabels=test_dataset.classes, yticklabels=test_dataset.classes, cmap=\"Blues\")\n",
    "    plt.xlabel(\"Predicted\"); plt.ylabel(\"True\"); plt.title(f\"Confusion Matrix - Acc {acc*100:.2f}%\")\n",
    "    plt.tight_layout(); plt.show()\n",
    "\n",
    "# =============================================================================\n",
    "# 9. run\n",
    "# =============================================================================\n",
    "if __name__ == \"__main__\":\n",
    "    fusion_model, history = run_fusion_training()\n",
    "    plot_history(history)\n",
    "    # evaluate final saved model if exists\n",
    "    candidate = os.path.join(config.SAVE_DIR, \"best_full_fusion.pth\")\n",
    "    if os.path.exists(candidate):\n",
    "        final_evaluation(candidate)\n",
    "    else:\n",
    "        # evaluate best_partial or best_head if full missing\n",
    "        for fallback in [\"best_partial_fusion.pth\", \"best_head_fusion.pth\"]:\n",
    "            p = os.path.join(config.SAVE_DIR, fallback)\n",
    "            if os.path.exists(p):\n",
    "                final_evaluation(p)\n",
    "                break\n",
    "        else:\n",
    "            print(\"No saved fusion checkpoint found to evaluate.\")\n"
   ]
  }
 ],
 "metadata": {
  "kernelspec": {
   "display_name": "Python 3",
   "language": "python",
   "name": "python3"
  },
  "language_info": {
   "codemirror_mode": {
    "name": "ipython",
    "version": 3
   },
   "file_extension": ".py",
   "mimetype": "text/x-python",
   "name": "python",
   "nbconvert_exporter": "python",
   "pygments_lexer": "ipython3",
   "version": "3.12.10"
  }
 },
 "nbformat": 4,
 "nbformat_minor": 5
}
