{
 "cells": [
  {
   "cell_type": "code",
   "execution_count": 1,
   "id": "575dc32d",
   "metadata": {},
   "outputs": [
    {
     "name": "stdout",
     "output_type": "stream",
     "text": [
      "Device: cuda\n"
     ]
    },
    {
     "data": {
      "application/vnd.jupyter.widget-view+json": {
       "model_id": "befbb368932d4e4b9e626e2ff11270b2",
       "version_major": 2,
       "version_minor": 0
      },
      "text/plain": [
       "Fetching 1 files:   0%|          | 0/1 [00:00<?, ?it/s]"
      ]
     },
     "metadata": {},
     "output_type": "display_data"
    },
    {
     "name": "stderr",
     "output_type": "stream",
     "text": [
      "Using a slow image processor as `use_fast` is unset and a slow processor was saved with this model. `use_fast=True` will be the default behavior in v4.52, even if the model was saved with a slow processor. This will result in minor differences in outputs. You'll still be able to use a slow processor with `use_fast=False`.\n"
     ]
    },
    {
     "name": "stdout",
     "output_type": "stream",
     "text": [
      "Found 4021 images in train with 6 classes.\n",
      "Found 73 images in validation with 6 classes.\n",
      "Model initialized.\n",
      "\n",
      "======================================================================\n",
      "PHASE 1: Head training\n",
      "======================================================================\n",
      "\n",
      "Epoch 1/10 - LR: 3.00e-10\n"
     ]
    },
    {
     "data": {
      "application/vnd.jupyter.widget-view+json": {
       "model_id": "d2bd95232fc848ff805731e55a84bf44",
       "version_major": 2,
       "version_minor": 0
      },
      "text/plain": [
       "Training (GALA, AMP):   0%|          | 0/252 [00:00<?, ?it/s]"
      ]
     },
     "metadata": {},
     "output_type": "display_data"
    },
    {
     "data": {
      "application/vnd.jupyter.widget-view+json": {
       "model_id": "ca287ee45d1345b08df4a5c7165259b1",
       "version_major": 2,
       "version_minor": 0
      },
      "text/plain": [
       "Validation:   0%|          | 0/5 [00:00<?, ?it/s]"
      ]
     },
     "metadata": {},
     "output_type": "display_data"
    },
    {
     "name": "stdout",
     "output_type": "stream",
     "text": [
      "Train Loss: 0.5724, Train Acc: 0.1602 | Val Loss: 0.5739, Val Acc: 0.1781\n",
      "Saved best head model.\n",
      "\n",
      "Epoch 2/10 - LR: 1.00e-04\n"
     ]
    },
    {
     "data": {
      "application/vnd.jupyter.widget-view+json": {
       "model_id": "5b16c273d964467aa78de9518a40c270",
       "version_major": 2,
       "version_minor": 0
      },
      "text/plain": [
       "Training (GALA, AMP):   0%|          | 0/252 [00:00<?, ?it/s]"
      ]
     },
     "metadata": {},
     "output_type": "display_data"
    },
    {
     "data": {
      "application/vnd.jupyter.widget-view+json": {
       "model_id": "0474496cedf64ed280eef63f2dada8b6",
       "version_major": 2,
       "version_minor": 0
      },
      "text/plain": [
       "Validation:   0%|          | 0/5 [00:00<?, ?it/s]"
      ]
     },
     "metadata": {},
     "output_type": "display_data"
    },
    {
     "name": "stdout",
     "output_type": "stream",
     "text": [
      "Train Loss: 0.3208, Train Acc: 0.4969 | Val Loss: 0.2124, Val Acc: 0.5342\n",
      "Saved best head model.\n",
      "\n",
      "Epoch 3/10 - LR: 2.00e-04\n"
     ]
    },
    {
     "data": {
      "application/vnd.jupyter.widget-view+json": {
       "model_id": "9f65071c4c8544b18f26437a1335881e",
       "version_major": 2,
       "version_minor": 0
      },
      "text/plain": [
       "Training (GALA, AMP):   0%|          | 0/252 [00:00<?, ?it/s]"
      ]
     },
     "metadata": {},
     "output_type": "display_data"
    },
    {
     "data": {
      "application/vnd.jupyter.widget-view+json": {
       "model_id": "54b24cf8195943d98c4278400e71b31c",
       "version_major": 2,
       "version_minor": 0
      },
      "text/plain": [
       "Validation:   0%|          | 0/5 [00:00<?, ?it/s]"
      ]
     },
     "metadata": {},
     "output_type": "display_data"
    },
    {
     "name": "stdout",
     "output_type": "stream",
     "text": [
      "Train Loss: 0.2771, Train Acc: 0.5384 | Val Loss: 0.2194, Val Acc: 0.6027\n",
      "Saved best head model.\n",
      "\n",
      "Epoch 4/10 - LR: 3.00e-04\n"
     ]
    },
    {
     "data": {
      "application/vnd.jupyter.widget-view+json": {
       "model_id": "d6191d1472c348149b6d92c3ce1a4a58",
       "version_major": 2,
       "version_minor": 0
      },
      "text/plain": [
       "Training (GALA, AMP):   0%|          | 0/252 [00:00<?, ?it/s]"
      ]
     },
     "metadata": {},
     "output_type": "display_data"
    },
    {
     "data": {
      "application/vnd.jupyter.widget-view+json": {
       "model_id": "db156341b95f424bb2e6e100b42b1d9b",
       "version_major": 2,
       "version_minor": 0
      },
      "text/plain": [
       "Validation:   0%|          | 0/5 [00:00<?, ?it/s]"
      ]
     },
     "metadata": {},
     "output_type": "display_data"
    },
    {
     "name": "stdout",
     "output_type": "stream",
     "text": [
      "Train Loss: 0.2510, Train Acc: 0.5581 | Val Loss: 0.2196, Val Acc: 0.6575\n",
      "Saved best head model.\n",
      "\n",
      "Epoch 5/10 - LR: 2.85e-04\n"
     ]
    },
    {
     "data": {
      "application/vnd.jupyter.widget-view+json": {
       "model_id": "727ea87eaa614c3dae82a48f6eef5d45",
       "version_major": 2,
       "version_minor": 0
      },
      "text/plain": [
       "Training (GALA, AMP):   0%|          | 0/252 [00:00<?, ?it/s]"
      ]
     },
     "metadata": {},
     "output_type": "display_data"
    },
    {
     "data": {
      "application/vnd.jupyter.widget-view+json": {
       "model_id": "7bbc1fb0d54f467d8242dde25743d081",
       "version_major": 2,
       "version_minor": 0
      },
      "text/plain": [
       "Validation:   0%|          | 0/5 [00:00<?, ?it/s]"
      ]
     },
     "metadata": {},
     "output_type": "display_data"
    },
    {
     "name": "stdout",
     "output_type": "stream",
     "text": [
      "Train Loss: 0.2388, Train Acc: 0.5785 | Val Loss: 0.1945, Val Acc: 0.5753\n",
      "\n",
      "Epoch 6/10 - LR: 2.44e-04\n"
     ]
    },
    {
     "data": {
      "application/vnd.jupyter.widget-view+json": {
       "model_id": "753c0ba193f54a8bb36d3389af344b99",
       "version_major": 2,
       "version_minor": 0
      },
      "text/plain": [
       "Training (GALA, AMP):   0%|          | 0/252 [00:00<?, ?it/s]"
      ]
     },
     "metadata": {},
     "output_type": "display_data"
    },
    {
     "data": {
      "application/vnd.jupyter.widget-view+json": {
       "model_id": "aaa7d411c6e941de9b5c2e18ef09dcc2",
       "version_major": 2,
       "version_minor": 0
      },
      "text/plain": [
       "Validation:   0%|          | 0/5 [00:00<?, ?it/s]"
      ]
     },
     "metadata": {},
     "output_type": "display_data"
    },
    {
     "name": "stdout",
     "output_type": "stream",
     "text": [
      "Train Loss: 0.2197, Train Acc: 0.5989 | Val Loss: 0.1988, Val Acc: 0.6164\n",
      "\n",
      "Epoch 7/10 - LR: 1.83e-04\n"
     ]
    },
    {
     "data": {
      "application/vnd.jupyter.widget-view+json": {
       "model_id": "01b7ae4d0f1a42ec8934231976e68e2b",
       "version_major": 2,
       "version_minor": 0
      },
      "text/plain": [
       "Training (GALA, AMP):   0%|          | 0/252 [00:00<?, ?it/s]"
      ]
     },
     "metadata": {},
     "output_type": "display_data"
    },
    {
     "data": {
      "application/vnd.jupyter.widget-view+json": {
       "model_id": "33c2fb49a58048e1ad5dc0e7c35c1aab",
       "version_major": 2,
       "version_minor": 0
      },
      "text/plain": [
       "Validation:   0%|          | 0/5 [00:00<?, ?it/s]"
      ]
     },
     "metadata": {},
     "output_type": "display_data"
    },
    {
     "name": "stdout",
     "output_type": "stream",
     "text": [
      "Train Loss: 0.2022, Train Acc: 0.6173 | Val Loss: 0.1723, Val Acc: 0.6164\n",
      "\n",
      "Epoch 8/10 - LR: 1.17e-04\n"
     ]
    },
    {
     "data": {
      "application/vnd.jupyter.widget-view+json": {
       "model_id": "d00ee132c18d4c96abef8bf2b13d355c",
       "version_major": 2,
       "version_minor": 0
      },
      "text/plain": [
       "Training (GALA, AMP):   0%|          | 0/252 [00:00<?, ?it/s]"
      ]
     },
     "metadata": {},
     "output_type": "display_data"
    },
    {
     "data": {
      "application/vnd.jupyter.widget-view+json": {
       "model_id": "beb63438b7b84302a788f915fd77827d",
       "version_major": 2,
       "version_minor": 0
      },
      "text/plain": [
       "Validation:   0%|          | 0/5 [00:00<?, ?it/s]"
      ]
     },
     "metadata": {},
     "output_type": "display_data"
    },
    {
     "name": "stdout",
     "output_type": "stream",
     "text": [
      "Train Loss: 0.1843, Train Acc: 0.6424 | Val Loss: 0.1736, Val Acc: 0.6575\n",
      "\n",
      "Epoch 9/10 - LR: 5.65e-05\n"
     ]
    },
    {
     "data": {
      "application/vnd.jupyter.widget-view+json": {
       "model_id": "224692c38e624badb8144f9d95075a84",
       "version_major": 2,
       "version_minor": 0
      },
      "text/plain": [
       "Training (GALA, AMP):   0%|          | 0/252 [00:00<?, ?it/s]"
      ]
     },
     "metadata": {},
     "output_type": "display_data"
    },
    {
     "data": {
      "application/vnd.jupyter.widget-view+json": {
       "model_id": "9c203e792461444985c774dd7efac716",
       "version_major": 2,
       "version_minor": 0
      },
      "text/plain": [
       "Validation:   0%|          | 0/5 [00:00<?, ?it/s]"
      ]
     },
     "metadata": {},
     "output_type": "display_data"
    },
    {
     "name": "stdout",
     "output_type": "stream",
     "text": [
      "Train Loss: 0.1693, Train Acc: 0.6568 | Val Loss: 0.1643, Val Acc: 0.6712\n",
      "Saved best head model.\n",
      "\n",
      "Epoch 10/10 - LR: 1.49e-05\n"
     ]
    },
    {
     "data": {
      "application/vnd.jupyter.widget-view+json": {
       "model_id": "8d79d82d66744f0e88ebac06ba2e2bd9",
       "version_major": 2,
       "version_minor": 0
      },
      "text/plain": [
       "Training (GALA, AMP):   0%|          | 0/252 [00:00<?, ?it/s]"
      ]
     },
     "metadata": {},
     "output_type": "display_data"
    },
    {
     "data": {
      "application/vnd.jupyter.widget-view+json": {
       "model_id": "6f27386f420445389e2f082ff8b76d40",
       "version_major": 2,
       "version_minor": 0
      },
      "text/plain": [
       "Validation:   0%|          | 0/5 [00:00<?, ?it/s]"
      ]
     },
     "metadata": {},
     "output_type": "display_data"
    },
    {
     "name": "stdout",
     "output_type": "stream",
     "text": [
      "Train Loss: 0.1646, Train Acc: 0.6715 | Val Loss: 0.1609, Val Acc: 0.6712\n",
      "\n",
      "======================================================================\n",
      "PHASE 2: Full training\n",
      "======================================================================\n",
      "\n",
      "Epoch 1/40 - LR: 5.00e-11\n"
     ]
    },
    {
     "data": {
      "application/vnd.jupyter.widget-view+json": {
       "model_id": "9afa8e5175cb4136a97c0a513537d642",
       "version_major": 2,
       "version_minor": 0
      },
      "text/plain": [
       "Training (GALA, AMP):   0%|          | 0/252 [00:00<?, ?it/s]"
      ]
     },
     "metadata": {},
     "output_type": "display_data"
    },
    {
     "data": {
      "application/vnd.jupyter.widget-view+json": {
       "model_id": "03b665c21c924c6ca56371ee66b57140",
       "version_major": 2,
       "version_minor": 0
      },
      "text/plain": [
       "Validation:   0%|          | 0/5 [00:00<?, ?it/s]"
      ]
     },
     "metadata": {},
     "output_type": "display_data"
    },
    {
     "name": "stdout",
     "output_type": "stream",
     "text": [
      "Train Loss: 0.3787, Train Acc: 0.4292 | Val Loss: 0.1643, Val Acc: 0.6712\n",
      "Saved best full model.\n",
      "\n",
      "Epoch 2/40 - LR: 1.67e-05\n"
     ]
    },
    {
     "data": {
      "application/vnd.jupyter.widget-view+json": {
       "model_id": "2f8e2bf4e0d044c28b46bbc0a34b05a6",
       "version_major": 2,
       "version_minor": 0
      },
      "text/plain": [
       "Training (GALA, AMP):   0%|          | 0/252 [00:00<?, ?it/s]"
      ]
     },
     "metadata": {},
     "output_type": "display_data"
    },
    {
     "data": {
      "application/vnd.jupyter.widget-view+json": {
       "model_id": "b1f3ea2d553d46b1ae03ba6b52e0bbf4",
       "version_major": 2,
       "version_minor": 0
      },
      "text/plain": [
       "Validation:   0%|          | 0/5 [00:00<?, ?it/s]"
      ]
     },
     "metadata": {},
     "output_type": "display_data"
    },
    {
     "name": "stdout",
     "output_type": "stream",
     "text": [
      "Train Loss: 0.3960, Train Acc: 0.3566 | Val Loss: 0.1805, Val Acc: 0.5753\n",
      "\n",
      "Epoch 3/40 - LR: 3.33e-05\n"
     ]
    },
    {
     "data": {
      "application/vnd.jupyter.widget-view+json": {
       "model_id": "d109b90fe4914426972b3d88ac1c93c2",
       "version_major": 2,
       "version_minor": 0
      },
      "text/plain": [
       "Training (GALA, AMP):   0%|          | 0/252 [00:00<?, ?it/s]"
      ]
     },
     "metadata": {},
     "output_type": "display_data"
    },
    {
     "data": {
      "application/vnd.jupyter.widget-view+json": {
       "model_id": "9f68886189b8449cbe6ebaa12e04238c",
       "version_major": 2,
       "version_minor": 0
      },
      "text/plain": [
       "Validation:   0%|          | 0/5 [00:00<?, ?it/s]"
      ]
     },
     "metadata": {},
     "output_type": "display_data"
    },
    {
     "name": "stdout",
     "output_type": "stream",
     "text": [
      "Train Loss: 0.3511, Train Acc: 0.3606 | Val Loss: 0.1727, Val Acc: 0.6438\n",
      "\n",
      "Epoch 4/40 - LR: 5.00e-05\n"
     ]
    },
    {
     "data": {
      "application/vnd.jupyter.widget-view+json": {
       "model_id": "0a30b0c59ae84fe8ae97e7a7204c8bb4",
       "version_major": 2,
       "version_minor": 0
      },
      "text/plain": [
       "Training (GALA, AMP):   0%|          | 0/252 [00:00<?, ?it/s]"
      ]
     },
     "metadata": {},
     "output_type": "display_data"
    },
    {
     "data": {
      "application/vnd.jupyter.widget-view+json": {
       "model_id": "3f5a1368d39b41899d1d6c7cfd7fdcfe",
       "version_major": 2,
       "version_minor": 0
      },
      "text/plain": [
       "Validation:   0%|          | 0/5 [00:00<?, ?it/s]"
      ]
     },
     "metadata": {},
     "output_type": "display_data"
    },
    {
     "name": "stdout",
     "output_type": "stream",
     "text": [
      "Train Loss: 0.3379, Train Acc: 0.4084 | Val Loss: 0.1845, Val Acc: 0.6575\n",
      "\n",
      "Epoch 5/40 - LR: 4.99e-05\n"
     ]
    },
    {
     "data": {
      "application/vnd.jupyter.widget-view+json": {
       "model_id": "5917c5b3114c46c8abfd3c8f6686772a",
       "version_major": 2,
       "version_minor": 0
      },
      "text/plain": [
       "Training (GALA, AMP):   0%|          | 0/252 [00:00<?, ?it/s]"
      ]
     },
     "metadata": {},
     "output_type": "display_data"
    },
    {
     "data": {
      "application/vnd.jupyter.widget-view+json": {
       "model_id": "268acd2852394f72b442d77cdb5966f8",
       "version_major": 2,
       "version_minor": 0
      },
      "text/plain": [
       "Validation:   0%|          | 0/5 [00:00<?, ?it/s]"
      ]
     },
     "metadata": {},
     "output_type": "display_data"
    },
    {
     "name": "stdout",
     "output_type": "stream",
     "text": [
      "Train Loss: 0.3125, Train Acc: 0.4225 | Val Loss: 0.1760, Val Acc: 0.6986\n",
      "Saved best full model.\n",
      "\n",
      "Epoch 6/40 - LR: 4.96e-05\n"
     ]
    },
    {
     "data": {
      "application/vnd.jupyter.widget-view+json": {
       "model_id": "35923934e5544d05aba7d6342c5aac6e",
       "version_major": 2,
       "version_minor": 0
      },
      "text/plain": [
       "Training (GALA, AMP):   0%|          | 0/252 [00:00<?, ?it/s]"
      ]
     },
     "metadata": {},
     "output_type": "display_data"
    },
    {
     "data": {
      "application/vnd.jupyter.widget-view+json": {
       "model_id": "15f7937b76244549810ac425a23e9509",
       "version_major": 2,
       "version_minor": 0
      },
      "text/plain": [
       "Validation:   0%|          | 0/5 [00:00<?, ?it/s]"
      ]
     },
     "metadata": {},
     "output_type": "display_data"
    },
    {
     "name": "stdout",
     "output_type": "stream",
     "text": [
      "Train Loss: 0.3020, Train Acc: 0.4357 | Val Loss: 0.1676, Val Acc: 0.7397\n",
      "Saved best full model.\n",
      "\n",
      "Epoch 7/40 - LR: 4.92e-05\n"
     ]
    },
    {
     "data": {
      "application/vnd.jupyter.widget-view+json": {
       "model_id": "1a512a38aa934fbda808866794d6e862",
       "version_major": 2,
       "version_minor": 0
      },
      "text/plain": [
       "Training (GALA, AMP):   0%|          | 0/252 [00:00<?, ?it/s]"
      ]
     },
     "metadata": {},
     "output_type": "display_data"
    },
    {
     "data": {
      "application/vnd.jupyter.widget-view+json": {
       "model_id": "c04e2ce280a249fe9558fb810ba1753a",
       "version_major": 2,
       "version_minor": 0
      },
      "text/plain": [
       "Validation:   0%|          | 0/5 [00:00<?, ?it/s]"
      ]
     },
     "metadata": {},
     "output_type": "display_data"
    },
    {
     "name": "stdout",
     "output_type": "stream",
     "text": [
      "Train Loss: 0.2977, Train Acc: 0.4210 | Val Loss: 0.1822, Val Acc: 0.6986\n",
      "\n",
      "Epoch 8/40 - LR: 4.86e-05\n"
     ]
    },
    {
     "data": {
      "application/vnd.jupyter.widget-view+json": {
       "model_id": "4ef7807477ea4522ae310cb7c296b058",
       "version_major": 2,
       "version_minor": 0
      },
      "text/plain": [
       "Training (GALA, AMP):   0%|          | 0/252 [00:00<?, ?it/s]"
      ]
     },
     "metadata": {},
     "output_type": "display_data"
    },
    {
     "data": {
      "application/vnd.jupyter.widget-view+json": {
       "model_id": "4bd255e7bd4d48a796434949f2433169",
       "version_major": 2,
       "version_minor": 0
      },
      "text/plain": [
       "Validation:   0%|          | 0/5 [00:00<?, ?it/s]"
      ]
     },
     "metadata": {},
     "output_type": "display_data"
    },
    {
     "name": "stdout",
     "output_type": "stream",
     "text": [
      "Train Loss: 0.2969, Train Acc: 0.4467 | Val Loss: 0.1627, Val Acc: 0.6438\n",
      "\n",
      "Epoch 9/40 - LR: 4.78e-05\n"
     ]
    },
    {
     "data": {
      "application/vnd.jupyter.widget-view+json": {
       "model_id": "c4c37278dfbf438fb8c47ad3924f043e",
       "version_major": 2,
       "version_minor": 0
      },
      "text/plain": [
       "Training (GALA, AMP):   0%|          | 0/252 [00:00<?, ?it/s]"
      ]
     },
     "metadata": {},
     "output_type": "display_data"
    },
    {
     "data": {
      "application/vnd.jupyter.widget-view+json": {
       "model_id": "79ee9a70966e4da59ebcf9e7e6efba04",
       "version_major": 2,
       "version_minor": 0
      },
      "text/plain": [
       "Validation:   0%|          | 0/5 [00:00<?, ?it/s]"
      ]
     },
     "metadata": {},
     "output_type": "display_data"
    },
    {
     "name": "stdout",
     "output_type": "stream",
     "text": [
      "Train Loss: 0.2883, Train Acc: 0.4372 | Val Loss: 0.1560, Val Acc: 0.6986\n",
      "\n",
      "Epoch 10/40 - LR: 4.68e-05\n"
     ]
    },
    {
     "data": {
      "application/vnd.jupyter.widget-view+json": {
       "model_id": "0c35b1ad2e0b46bf96a8df249d3dc7bf",
       "version_major": 2,
       "version_minor": 0
      },
      "text/plain": [
       "Training (GALA, AMP):   0%|          | 0/252 [00:00<?, ?it/s]"
      ]
     },
     "metadata": {},
     "output_type": "display_data"
    },
    {
     "data": {
      "application/vnd.jupyter.widget-view+json": {
       "model_id": "9189671d8fdb4b2a8f128423408a45fa",
       "version_major": 2,
       "version_minor": 0
      },
      "text/plain": [
       "Validation:   0%|          | 0/5 [00:00<?, ?it/s]"
      ]
     },
     "metadata": {},
     "output_type": "display_data"
    },
    {
     "name": "stdout",
     "output_type": "stream",
     "text": [
      "Train Loss: 0.2844, Train Acc: 0.4347 | Val Loss: 0.1340, Val Acc: 0.7260\n",
      "\n",
      "Epoch 11/40 - LR: 4.57e-05\n"
     ]
    },
    {
     "data": {
      "application/vnd.jupyter.widget-view+json": {
       "model_id": "afb0231a82eb457dab02efc86dca3f69",
       "version_major": 2,
       "version_minor": 0
      },
      "text/plain": [
       "Training (GALA, AMP):   0%|          | 0/252 [00:00<?, ?it/s]"
      ]
     },
     "metadata": {},
     "output_type": "display_data"
    },
    {
     "data": {
      "application/vnd.jupyter.widget-view+json": {
       "model_id": "a896e7e6446046e8bc1979665a9f6391",
       "version_major": 2,
       "version_minor": 0
      },
      "text/plain": [
       "Validation:   0%|          | 0/5 [00:00<?, ?it/s]"
      ]
     },
     "metadata": {},
     "output_type": "display_data"
    },
    {
     "name": "stdout",
     "output_type": "stream",
     "text": [
      "Train Loss: 0.2790, Train Acc: 0.4591 | Val Loss: 0.1537, Val Acc: 0.6849\n",
      "\n",
      "Epoch 12/40 - LR: 4.45e-05\n"
     ]
    },
    {
     "data": {
      "application/vnd.jupyter.widget-view+json": {
       "model_id": "59333dd5772a4f588f35bf99c1fcc525",
       "version_major": 2,
       "version_minor": 0
      },
      "text/plain": [
       "Training (GALA, AMP):   0%|          | 0/252 [00:00<?, ?it/s]"
      ]
     },
     "metadata": {},
     "output_type": "display_data"
    },
    {
     "data": {
      "application/vnd.jupyter.widget-view+json": {
       "model_id": "f3e4da3b3cef4bf3b51634adb527c7c5",
       "version_major": 2,
       "version_minor": 0
      },
      "text/plain": [
       "Validation:   0%|          | 0/5 [00:00<?, ?it/s]"
      ]
     },
     "metadata": {},
     "output_type": "display_data"
    },
    {
     "name": "stdout",
     "output_type": "stream",
     "text": [
      "Train Loss: 0.2768, Train Acc: 0.4688 | Val Loss: 0.1709, Val Acc: 0.6712\n",
      "\n",
      "Epoch 13/40 - LR: 4.30e-05\n"
     ]
    },
    {
     "data": {
      "application/vnd.jupyter.widget-view+json": {
       "model_id": "f6b20d5c49e04bd29e949caa3632eb7f",
       "version_major": 2,
       "version_minor": 0
      },
      "text/plain": [
       "Training (GALA, AMP):   0%|          | 0/252 [00:00<?, ?it/s]"
      ]
     },
     "metadata": {},
     "output_type": "display_data"
    },
    {
     "data": {
      "application/vnd.jupyter.widget-view+json": {
       "model_id": "547e5fa7c27b45ecb8f38cf065508b57",
       "version_major": 2,
       "version_minor": 0
      },
      "text/plain": [
       "Validation:   0%|          | 0/5 [00:00<?, ?it/s]"
      ]
     },
     "metadata": {},
     "output_type": "display_data"
    },
    {
     "name": "stdout",
     "output_type": "stream",
     "text": [
      "Train Loss: 0.2775, Train Acc: 0.4621 | Val Loss: 0.1422, Val Acc: 0.6986\n",
      "\n",
      "Epoch 14/40 - LR: 4.15e-05\n"
     ]
    },
    {
     "data": {
      "application/vnd.jupyter.widget-view+json": {
       "model_id": "6dff3616bf3f4a028cb96f08f0ab17aa",
       "version_major": 2,
       "version_minor": 0
      },
      "text/plain": [
       "Training (GALA, AMP):   0%|          | 0/252 [00:00<?, ?it/s]"
      ]
     },
     "metadata": {},
     "output_type": "display_data"
    },
    {
     "data": {
      "application/vnd.jupyter.widget-view+json": {
       "model_id": "ede20c3336f640b8b8f04d9cabcfbc1c",
       "version_major": 2,
       "version_minor": 0
      },
      "text/plain": [
       "Validation:   0%|          | 0/5 [00:00<?, ?it/s]"
      ]
     },
     "metadata": {},
     "output_type": "display_data"
    },
    {
     "name": "stdout",
     "output_type": "stream",
     "text": [
      "Train Loss: nan, Train Acc: 0.4685 | Val Loss: 0.1345, Val Acc: 0.7671\n",
      "Saved best full model.\n",
      "\n",
      "Epoch 15/40 - LR: 3.99e-05\n"
     ]
    },
    {
     "data": {
      "application/vnd.jupyter.widget-view+json": {
       "model_id": "e5f8b8353d3e4954bb9ccb37e7a91055",
       "version_major": 2,
       "version_minor": 0
      },
      "text/plain": [
       "Training (GALA, AMP):   0%|          | 0/252 [00:00<?, ?it/s]"
      ]
     },
     "metadata": {},
     "output_type": "display_data"
    },
    {
     "data": {
      "application/vnd.jupyter.widget-view+json": {
       "model_id": "a7cd6c5c10504f979e0182909fd4ae27",
       "version_major": 2,
       "version_minor": 0
      },
      "text/plain": [
       "Validation:   0%|          | 0/5 [00:00<?, ?it/s]"
      ]
     },
     "metadata": {},
     "output_type": "display_data"
    },
    {
     "name": "stdout",
     "output_type": "stream",
     "text": [
      "Train Loss: 0.2554, Train Acc: 0.4817 | Val Loss: 0.1461, Val Acc: 0.7671\n",
      "\n",
      "Epoch 16/40 - LR: 3.81e-05\n"
     ]
    },
    {
     "data": {
      "application/vnd.jupyter.widget-view+json": {
       "model_id": "bf2a26aef0074cdfaeae2647938a5db5",
       "version_major": 2,
       "version_minor": 0
      },
      "text/plain": [
       "Training (GALA, AMP):   0%|          | 0/252 [00:00<?, ?it/s]"
      ]
     },
     "metadata": {},
     "output_type": "display_data"
    },
    {
     "data": {
      "application/vnd.jupyter.widget-view+json": {
       "model_id": "9f5b0614117545e6bdf322deaa5e70c6",
       "version_major": 2,
       "version_minor": 0
      },
      "text/plain": [
       "Validation:   0%|          | 0/5 [00:00<?, ?it/s]"
      ]
     },
     "metadata": {},
     "output_type": "display_data"
    },
    {
     "name": "stdout",
     "output_type": "stream",
     "text": [
      "Train Loss: 0.2612, Train Acc: 0.4668 | Val Loss: 0.1529, Val Acc: 0.7671\n",
      "\n",
      "Epoch 17/40 - LR: 3.63e-05\n"
     ]
    },
    {
     "data": {
      "application/vnd.jupyter.widget-view+json": {
       "model_id": "ff63ca38793a43fb825c34af97d727e3",
       "version_major": 2,
       "version_minor": 0
      },
      "text/plain": [
       "Training (GALA, AMP):   0%|          | 0/252 [00:00<?, ?it/s]"
      ]
     },
     "metadata": {},
     "output_type": "display_data"
    },
    {
     "data": {
      "application/vnd.jupyter.widget-view+json": {
       "model_id": "147deff5e4964d4ea40638c48db36cad",
       "version_major": 2,
       "version_minor": 0
      },
      "text/plain": [
       "Validation:   0%|          | 0/5 [00:00<?, ?it/s]"
      ]
     },
     "metadata": {},
     "output_type": "display_data"
    },
    {
     "name": "stdout",
     "output_type": "stream",
     "text": [
      "Train Loss: 0.2495, Train Acc: 0.4832 | Val Loss: 0.1605, Val Acc: 0.7397\n",
      "\n",
      "Epoch 18/40 - LR: 3.43e-05\n"
     ]
    },
    {
     "data": {
      "application/vnd.jupyter.widget-view+json": {
       "model_id": "d219e99994504ffcb5e7e3a8ef3cc742",
       "version_major": 2,
       "version_minor": 0
      },
      "text/plain": [
       "Training (GALA, AMP):   0%|          | 0/252 [00:00<?, ?it/s]"
      ]
     },
     "metadata": {},
     "output_type": "display_data"
    },
    {
     "data": {
      "application/vnd.jupyter.widget-view+json": {
       "model_id": "52134e00bd23470597b6ec05c03bbf95",
       "version_major": 2,
       "version_minor": 0
      },
      "text/plain": [
       "Validation:   0%|          | 0/5 [00:00<?, ?it/s]"
      ]
     },
     "metadata": {},
     "output_type": "display_data"
    },
    {
     "name": "stdout",
     "output_type": "stream",
     "text": [
      "Train Loss: 0.2569, Train Acc: 0.4867 | Val Loss: 0.1254, Val Acc: 0.7671\n",
      "\n",
      "Epoch 19/40 - LR: 3.23e-05\n"
     ]
    },
    {
     "data": {
      "application/vnd.jupyter.widget-view+json": {
       "model_id": "22100f50a43b490b9ea8af39723a3ed1",
       "version_major": 2,
       "version_minor": 0
      },
      "text/plain": [
       "Training (GALA, AMP):   0%|          | 0/252 [00:00<?, ?it/s]"
      ]
     },
     "metadata": {},
     "output_type": "display_data"
    },
    {
     "data": {
      "application/vnd.jupyter.widget-view+json": {
       "model_id": "735ad13f311a4f448721278704ac6b2e",
       "version_major": 2,
       "version_minor": 0
      },
      "text/plain": [
       "Validation:   0%|          | 0/5 [00:00<?, ?it/s]"
      ]
     },
     "metadata": {},
     "output_type": "display_data"
    },
    {
     "name": "stdout",
     "output_type": "stream",
     "text": [
      "Train Loss: nan, Train Acc: 0.4708 | Val Loss: 0.1357, Val Acc: 0.7123\n",
      "\n",
      "Epoch 20/40 - LR: 3.03e-05\n"
     ]
    },
    {
     "data": {
      "application/vnd.jupyter.widget-view+json": {
       "model_id": "be68d242f9f040bd8f0b223e5b852984",
       "version_major": 2,
       "version_minor": 0
      },
      "text/plain": [
       "Training (GALA, AMP):   0%|          | 0/252 [00:00<?, ?it/s]"
      ]
     },
     "metadata": {},
     "output_type": "display_data"
    },
    {
     "data": {
      "application/vnd.jupyter.widget-view+json": {
       "model_id": "398a1437910c4aa48d4dc8a39a99b6aa",
       "version_major": 2,
       "version_minor": 0
      },
      "text/plain": [
       "Validation:   0%|          | 0/5 [00:00<?, ?it/s]"
      ]
     },
     "metadata": {},
     "output_type": "display_data"
    },
    {
     "name": "stdout",
     "output_type": "stream",
     "text": [
      "Train Loss: nan, Train Acc: 0.4877 | Val Loss: 0.1130, Val Acc: 0.8082\n",
      "Saved best full model.\n",
      "\n",
      "Epoch 21/40 - LR: 2.82e-05\n"
     ]
    },
    {
     "data": {
      "application/vnd.jupyter.widget-view+json": {
       "model_id": "1e8057f3550a4c03a7c89afad98b22a4",
       "version_major": 2,
       "version_minor": 0
      },
      "text/plain": [
       "Training (GALA, AMP):   0%|          | 0/252 [00:00<?, ?it/s]"
      ]
     },
     "metadata": {},
     "output_type": "display_data"
    },
    {
     "data": {
      "application/vnd.jupyter.widget-view+json": {
       "model_id": "03051ad37bc142a99fe959f5e273e36d",
       "version_major": 2,
       "version_minor": 0
      },
      "text/plain": [
       "Validation:   0%|          | 0/5 [00:00<?, ?it/s]"
      ]
     },
     "metadata": {},
     "output_type": "display_data"
    },
    {
     "name": "stdout",
     "output_type": "stream",
     "text": [
      "Train Loss: 0.2308, Train Acc: 0.4991 | Val Loss: 0.1102, Val Acc: 0.8356\n",
      "Saved best full model.\n",
      "\n",
      "Epoch 22/40 - LR: 2.61e-05\n"
     ]
    },
    {
     "data": {
      "application/vnd.jupyter.widget-view+json": {
       "model_id": "b75a679685c14cbbab559957e47fd75d",
       "version_major": 2,
       "version_minor": 0
      },
      "text/plain": [
       "Training (GALA, AMP):   0%|          | 0/252 [00:00<?, ?it/s]"
      ]
     },
     "metadata": {},
     "output_type": "display_data"
    },
    {
     "data": {
      "application/vnd.jupyter.widget-view+json": {
       "model_id": "f4959256bb264a3c84e1d6b5b14be0b6",
       "version_major": 2,
       "version_minor": 0
      },
      "text/plain": [
       "Validation:   0%|          | 0/5 [00:00<?, ?it/s]"
      ]
     },
     "metadata": {},
     "output_type": "display_data"
    },
    {
     "name": "stdout",
     "output_type": "stream",
     "text": [
      "Train Loss: 0.2153, Train Acc: 0.5509 | Val Loss: 0.1495, Val Acc: 0.6986\n",
      "\n",
      "Epoch 23/40 - LR: 2.39e-05\n"
     ]
    },
    {
     "data": {
      "application/vnd.jupyter.widget-view+json": {
       "model_id": "0e830a4bcc3c4b4d96aa2b3984f9e380",
       "version_major": 2,
       "version_minor": 0
      },
      "text/plain": [
       "Training (GALA, AMP):   0%|          | 0/252 [00:00<?, ?it/s]"
      ]
     },
     "metadata": {},
     "output_type": "display_data"
    },
    {
     "data": {
      "application/vnd.jupyter.widget-view+json": {
       "model_id": "c2a9f14a87dc492eaaa534c17fa25589",
       "version_major": 2,
       "version_minor": 0
      },
      "text/plain": [
       "Validation:   0%|          | 0/5 [00:00<?, ?it/s]"
      ]
     },
     "metadata": {},
     "output_type": "display_data"
    },
    {
     "name": "stdout",
     "output_type": "stream",
     "text": [
      "Train Loss: 0.2172, Train Acc: 0.5193 | Val Loss: 0.1514, Val Acc: 0.6986\n",
      "\n",
      "Epoch 24/40 - LR: 2.18e-05\n"
     ]
    },
    {
     "data": {
      "application/vnd.jupyter.widget-view+json": {
       "model_id": "b489724338f541e1bb9bbf12ca959631",
       "version_major": 2,
       "version_minor": 0
      },
      "text/plain": [
       "Training (GALA, AMP):   0%|          | 0/252 [00:00<?, ?it/s]"
      ]
     },
     "metadata": {},
     "output_type": "display_data"
    },
    {
     "data": {
      "application/vnd.jupyter.widget-view+json": {
       "model_id": "380458789e6649649b8d10ab9d8fe3f8",
       "version_major": 2,
       "version_minor": 0
      },
      "text/plain": [
       "Validation:   0%|          | 0/5 [00:00<?, ?it/s]"
      ]
     },
     "metadata": {},
     "output_type": "display_data"
    },
    {
     "name": "stdout",
     "output_type": "stream",
     "text": [
      "Train Loss: 0.2047, Train Acc: 0.5332 | Val Loss: 0.1885, Val Acc: 0.7123\n",
      "\n",
      "Epoch 25/40 - LR: 1.97e-05\n"
     ]
    },
    {
     "data": {
      "application/vnd.jupyter.widget-view+json": {
       "model_id": "7009605aa1304becb8b4a3590b40b9eb",
       "version_major": 2,
       "version_minor": 0
      },
      "text/plain": [
       "Training (GALA, AMP):   0%|          | 0/252 [00:00<?, ?it/s]"
      ]
     },
     "metadata": {},
     "output_type": "display_data"
    },
    {
     "data": {
      "application/vnd.jupyter.widget-view+json": {
       "model_id": "d6bcbd71ec86423cb3172cb24e873883",
       "version_major": 2,
       "version_minor": 0
      },
      "text/plain": [
       "Validation:   0%|          | 0/5 [00:00<?, ?it/s]"
      ]
     },
     "metadata": {},
     "output_type": "display_data"
    },
    {
     "name": "stdout",
     "output_type": "stream",
     "text": [
      "Train Loss: nan, Train Acc: 0.5275 | Val Loss: 0.1488, Val Acc: 0.7397\n",
      "\n",
      "Epoch 26/40 - LR: 1.77e-05\n"
     ]
    },
    {
     "data": {
      "application/vnd.jupyter.widget-view+json": {
       "model_id": "0f03579bb8134c8ba7ae7390d270854b",
       "version_major": 2,
       "version_minor": 0
      },
      "text/plain": [
       "Training (GALA, AMP):   0%|          | 0/252 [00:00<?, ?it/s]"
      ]
     },
     "metadata": {},
     "output_type": "display_data"
    },
    {
     "data": {
      "application/vnd.jupyter.widget-view+json": {
       "model_id": "cef9507e43fc4f25a6f02cfc05a154a0",
       "version_major": 2,
       "version_minor": 0
      },
      "text/plain": [
       "Validation:   0%|          | 0/5 [00:00<?, ?it/s]"
      ]
     },
     "metadata": {},
     "output_type": "display_data"
    },
    {
     "name": "stdout",
     "output_type": "stream",
     "text": [
      "Train Loss: 0.1953, Train Acc: 0.5496 | Val Loss: 0.1140, Val Acc: 0.7534\n",
      "\n",
      "Epoch 27/40 - LR: 1.57e-05\n"
     ]
    },
    {
     "data": {
      "application/vnd.jupyter.widget-view+json": {
       "model_id": "8cb16e73206c466798d6904f1f2f23e6",
       "version_major": 2,
       "version_minor": 0
      },
      "text/plain": [
       "Training (GALA, AMP):   0%|          | 0/252 [00:00<?, ?it/s]"
      ]
     },
     "metadata": {},
     "output_type": "display_data"
    },
    {
     "data": {
      "application/vnd.jupyter.widget-view+json": {
       "model_id": "7baab3c9a4064bbda083cfed4e8dae56",
       "version_major": 2,
       "version_minor": 0
      },
      "text/plain": [
       "Validation:   0%|          | 0/5 [00:00<?, ?it/s]"
      ]
     },
     "metadata": {},
     "output_type": "display_data"
    },
    {
     "name": "stdout",
     "output_type": "stream",
     "text": [
      "Train Loss: 0.1916, Train Acc: 0.5591 | Val Loss: 0.0987, Val Acc: 0.8493\n",
      "Saved best full model.\n",
      "\n",
      "Epoch 28/40 - LR: 1.37e-05\n"
     ]
    },
    {
     "data": {
      "application/vnd.jupyter.widget-view+json": {
       "model_id": "3a56b4abeb2b4b8c89a6e7382d5541a8",
       "version_major": 2,
       "version_minor": 0
      },
      "text/plain": [
       "Training (GALA, AMP):   0%|          | 0/252 [00:00<?, ?it/s]"
      ]
     },
     "metadata": {},
     "output_type": "display_data"
    },
    {
     "data": {
      "application/vnd.jupyter.widget-view+json": {
       "model_id": "891c89391d694f93a8b52e5fc8cd8585",
       "version_major": 2,
       "version_minor": 0
      },
      "text/plain": [
       "Validation:   0%|          | 0/5 [00:00<?, ?it/s]"
      ]
     },
     "metadata": {},
     "output_type": "display_data"
    },
    {
     "name": "stdout",
     "output_type": "stream",
     "text": [
      "Train Loss: 0.1862, Train Acc: 0.5349 | Val Loss: 0.1216, Val Acc: 0.8219\n",
      "\n",
      "Epoch 29/40 - LR: 1.19e-05\n"
     ]
    },
    {
     "data": {
      "application/vnd.jupyter.widget-view+json": {
       "model_id": "0a2bf16e919d40468a81dfd971962c7e",
       "version_major": 2,
       "version_minor": 0
      },
      "text/plain": [
       "Training (GALA, AMP):   0%|          | 0/252 [00:00<?, ?it/s]"
      ]
     },
     "metadata": {},
     "output_type": "display_data"
    },
    {
     "data": {
      "application/vnd.jupyter.widget-view+json": {
       "model_id": "377fe91a651a4734842d09a4c22a187c",
       "version_major": 2,
       "version_minor": 0
      },
      "text/plain": [
       "Validation:   0%|          | 0/5 [00:00<?, ?it/s]"
      ]
     },
     "metadata": {},
     "output_type": "display_data"
    },
    {
     "name": "stdout",
     "output_type": "stream",
     "text": [
      "Train Loss: 0.1767, Train Acc: 0.5489 | Val Loss: 0.1233, Val Acc: 0.8082\n",
      "\n",
      "Epoch 30/40 - LR: 1.01e-05\n"
     ]
    },
    {
     "data": {
      "application/vnd.jupyter.widget-view+json": {
       "model_id": "078218eb77c943608d92730f43ad5b55",
       "version_major": 2,
       "version_minor": 0
      },
      "text/plain": [
       "Training (GALA, AMP):   0%|          | 0/252 [00:00<?, ?it/s]"
      ]
     },
     "metadata": {},
     "output_type": "display_data"
    },
    {
     "data": {
      "application/vnd.jupyter.widget-view+json": {
       "model_id": "3db33970ee8446569f9eb558d2535217",
       "version_major": 2,
       "version_minor": 0
      },
      "text/plain": [
       "Validation:   0%|          | 0/5 [00:00<?, ?it/s]"
      ]
     },
     "metadata": {},
     "output_type": "display_data"
    },
    {
     "name": "stdout",
     "output_type": "stream",
     "text": [
      "Train Loss: 0.1748, Train Acc: 0.5591 | Val Loss: 0.1139, Val Acc: 0.8082\n",
      "\n",
      "Epoch 31/40 - LR: 8.48e-06\n"
     ]
    },
    {
     "data": {
      "application/vnd.jupyter.widget-view+json": {
       "model_id": "4c8d5b2a78844962aa4b1c9f9c5d6376",
       "version_major": 2,
       "version_minor": 0
      },
      "text/plain": [
       "Training (GALA, AMP):   0%|          | 0/252 [00:00<?, ?it/s]"
      ]
     },
     "metadata": {},
     "output_type": "display_data"
    },
    {
     "data": {
      "application/vnd.jupyter.widget-view+json": {
       "model_id": "4adc04ecb48c48e48463a24cc6446eb5",
       "version_major": 2,
       "version_minor": 0
      },
      "text/plain": [
       "Validation:   0%|          | 0/5 [00:00<?, ?it/s]"
      ]
     },
     "metadata": {},
     "output_type": "display_data"
    },
    {
     "name": "stdout",
     "output_type": "stream",
     "text": [
      "Train Loss: 0.1676, Train Acc: 0.5344 | Val Loss: 0.1094, Val Acc: 0.8356\n",
      "\n",
      "Epoch 32/40 - LR: 6.95e-06\n"
     ]
    },
    {
     "data": {
      "application/vnd.jupyter.widget-view+json": {
       "model_id": "b32a85d6c0de44f799e52c33109f08aa",
       "version_major": 2,
       "version_minor": 0
      },
      "text/plain": [
       "Training (GALA, AMP):   0%|          | 0/252 [00:00<?, ?it/s]"
      ]
     },
     "metadata": {},
     "output_type": "display_data"
    },
    {
     "data": {
      "application/vnd.jupyter.widget-view+json": {
       "model_id": "e7900099927645f0b27a301c3b6258e8",
       "version_major": 2,
       "version_minor": 0
      },
      "text/plain": [
       "Validation:   0%|          | 0/5 [00:00<?, ?it/s]"
      ]
     },
     "metadata": {},
     "output_type": "display_data"
    },
    {
     "name": "stdout",
     "output_type": "stream",
     "text": [
      "Train Loss: 0.1724, Train Acc: 0.5623 | Val Loss: 0.1099, Val Acc: 0.8219\n",
      "\n",
      "Epoch 33/40 - LR: 5.55e-06\n"
     ]
    },
    {
     "data": {
      "application/vnd.jupyter.widget-view+json": {
       "model_id": "6a752093b283453b876c239ceb74de43",
       "version_major": 2,
       "version_minor": 0
      },
      "text/plain": [
       "Training (GALA, AMP):   0%|          | 0/252 [00:00<?, ?it/s]"
      ]
     },
     "metadata": {},
     "output_type": "display_data"
    },
    {
     "data": {
      "application/vnd.jupyter.widget-view+json": {
       "model_id": "e2be80adadd14ab1932f022fbdd4d2d2",
       "version_major": 2,
       "version_minor": 0
      },
      "text/plain": [
       "Validation:   0%|          | 0/5 [00:00<?, ?it/s]"
      ]
     },
     "metadata": {},
     "output_type": "display_data"
    },
    {
     "name": "stdout",
     "output_type": "stream",
     "text": [
      "Train Loss: 0.1583, Train Acc: 0.6018 | Val Loss: 0.1190, Val Acc: 0.7534\n",
      "\n",
      "Epoch 34/40 - LR: 4.29e-06\n"
     ]
    },
    {
     "data": {
      "application/vnd.jupyter.widget-view+json": {
       "model_id": "c5270192aa6c40fdaaff6c05533514e5",
       "version_major": 2,
       "version_minor": 0
      },
      "text/plain": [
       "Training (GALA, AMP):   0%|          | 0/252 [00:00<?, ?it/s]"
      ]
     },
     "metadata": {},
     "output_type": "display_data"
    },
    {
     "data": {
      "application/vnd.jupyter.widget-view+json": {
       "model_id": "da4c46f8a1a440a9aa49d70edd203b9c",
       "version_major": 2,
       "version_minor": 0
      },
      "text/plain": [
       "Validation:   0%|          | 0/5 [00:00<?, ?it/s]"
      ]
     },
     "metadata": {},
     "output_type": "display_data"
    },
    {
     "name": "stdout",
     "output_type": "stream",
     "text": [
      "Train Loss: 0.1614, Train Acc: 0.5792 | Val Loss: 0.1134, Val Acc: 0.7945\n",
      "\n",
      "Epoch 35/40 - LR: 3.17e-06\n"
     ]
    },
    {
     "data": {
      "application/vnd.jupyter.widget-view+json": {
       "model_id": "ecc7d757bad4499190f39b23e09a37ab",
       "version_major": 2,
       "version_minor": 0
      },
      "text/plain": [
       "Training (GALA, AMP):   0%|          | 0/252 [00:00<?, ?it/s]"
      ]
     },
     "metadata": {},
     "output_type": "display_data"
    },
    {
     "data": {
      "application/vnd.jupyter.widget-view+json": {
       "model_id": "28d7dd94a32d4283a6b1a7942af42e81",
       "version_major": 2,
       "version_minor": 0
      },
      "text/plain": [
       "Validation:   0%|          | 0/5 [00:00<?, ?it/s]"
      ]
     },
     "metadata": {},
     "output_type": "display_data"
    },
    {
     "name": "stdout",
     "output_type": "stream",
     "text": [
      "Train Loss: 0.1552, Train Acc: 0.5787 | Val Loss: 0.1097, Val Acc: 0.8219\n",
      "\n",
      "Epoch 36/40 - LR: 2.22e-06\n"
     ]
    },
    {
     "data": {
      "application/vnd.jupyter.widget-view+json": {
       "model_id": "849a42295959435bb159f17eb77ad727",
       "version_major": 2,
       "version_minor": 0
      },
      "text/plain": [
       "Training (GALA, AMP):   0%|          | 0/252 [00:00<?, ?it/s]"
      ]
     },
     "metadata": {},
     "output_type": "display_data"
    },
    {
     "data": {
      "application/vnd.jupyter.widget-view+json": {
       "model_id": "4a63fddeed3142d684e77e1c97fa68d7",
       "version_major": 2,
       "version_minor": 0
      },
      "text/plain": [
       "Validation:   0%|          | 0/5 [00:00<?, ?it/s]"
      ]
     },
     "metadata": {},
     "output_type": "display_data"
    },
    {
     "name": "stdout",
     "output_type": "stream",
     "text": [
      "Train Loss: 0.1550, Train Acc: 0.5839 | Val Loss: 0.1178, Val Acc: 0.7945\n",
      "\n",
      "Epoch 37/40 - LR: 1.43e-06\n"
     ]
    },
    {
     "data": {
      "application/vnd.jupyter.widget-view+json": {
       "model_id": "218bce0a393a474b95248a821999a57e",
       "version_major": 2,
       "version_minor": 0
      },
      "text/plain": [
       "Training (GALA, AMP):   0%|          | 0/252 [00:00<?, ?it/s]"
      ]
     },
     "metadata": {},
     "output_type": "display_data"
    },
    {
     "data": {
      "application/vnd.jupyter.widget-view+json": {
       "model_id": "74fafb5209894f28a3f4115f2ffca344",
       "version_major": 2,
       "version_minor": 0
      },
      "text/plain": [
       "Validation:   0%|          | 0/5 [00:00<?, ?it/s]"
      ]
     },
     "metadata": {},
     "output_type": "display_data"
    },
    {
     "name": "stdout",
     "output_type": "stream",
     "text": [
      "Train Loss: 0.1436, Train Acc: 0.5750 | Val Loss: 0.1170, Val Acc: 0.8082\n",
      "\n",
      "Epoch 38/40 - LR: 8.07e-07\n"
     ]
    },
    {
     "data": {
      "application/vnd.jupyter.widget-view+json": {
       "model_id": "8297f8e6fc2049868132ba125f547c1a",
       "version_major": 2,
       "version_minor": 0
      },
      "text/plain": [
       "Training (GALA, AMP):   0%|          | 0/252 [00:00<?, ?it/s]"
      ]
     },
     "metadata": {},
     "output_type": "display_data"
    },
    {
     "data": {
      "application/vnd.jupyter.widget-view+json": {
       "model_id": "15ce96b691b14b6da60f40d630b22917",
       "version_major": 2,
       "version_minor": 0
      },
      "text/plain": [
       "Validation:   0%|          | 0/5 [00:00<?, ?it/s]"
      ]
     },
     "metadata": {},
     "output_type": "display_data"
    },
    {
     "name": "stdout",
     "output_type": "stream",
     "text": [
      "Train Loss: 0.1529, Train Acc: 0.5543 | Val Loss: 0.1144, Val Acc: 0.8219\n",
      "\n",
      "Epoch 39/40 - LR: 3.60e-07\n"
     ]
    },
    {
     "data": {
      "application/vnd.jupyter.widget-view+json": {
       "model_id": "f6698a5d5c0e44189eaca0a7bafa90bd",
       "version_major": 2,
       "version_minor": 0
      },
      "text/plain": [
       "Training (GALA, AMP):   0%|          | 0/252 [00:00<?, ?it/s]"
      ]
     },
     "metadata": {},
     "output_type": "display_data"
    },
    {
     "data": {
      "application/vnd.jupyter.widget-view+json": {
       "model_id": "bfdb0d22b1cd4b7bbe5f93102e7abfdb",
       "version_major": 2,
       "version_minor": 0
      },
      "text/plain": [
       "Validation:   0%|          | 0/5 [00:00<?, ?it/s]"
      ]
     },
     "metadata": {},
     "output_type": "display_data"
    },
    {
     "name": "stdout",
     "output_type": "stream",
     "text": [
      "Train Loss: 0.1602, Train Acc: 0.5772 | Val Loss: 0.1121, Val Acc: 0.8219\n",
      "Early stopping triggered.\n",
      "\n",
      "======================================================================\n",
      "PHASE 3: Fine-tuning\n",
      "======================================================================\n",
      "Found 4021 images in train with 6 classes.\n",
      "\n",
      "Fine Tune Epoch 1/15 - LR: 5.00e-06\n"
     ]
    },
    {
     "data": {
      "application/vnd.jupyter.widget-view+json": {
       "model_id": "91c4de8d87ac43c0b6ab3f5111fa1700",
       "version_major": 2,
       "version_minor": 0
      },
      "text/plain": [
       "Training (GALA, AMP):   0%|          | 0/252 [00:00<?, ?it/s]"
      ]
     },
     "metadata": {},
     "output_type": "display_data"
    },
    {
     "data": {
      "application/vnd.jupyter.widget-view+json": {
       "model_id": "33241969ce994f268cc746baefe62562",
       "version_major": 2,
       "version_minor": 0
      },
      "text/plain": [
       "Validation:   0%|          | 0/5 [00:00<?, ?it/s]"
      ]
     },
     "metadata": {},
     "output_type": "display_data"
    },
    {
     "name": "stdout",
     "output_type": "stream",
     "text": [
      "Train Loss: 0.0180, Train Acc: 0.9716 | Val Loss: 0.1267, Val Acc: 0.7945\n",
      "\n",
      "Fine Tune Epoch 2/15 - LR: 4.95e-06\n"
     ]
    },
    {
     "data": {
      "application/vnd.jupyter.widget-view+json": {
       "model_id": "5646f7136d8e42c08c5c8742a2b7e933",
       "version_major": 2,
       "version_minor": 0
      },
      "text/plain": [
       "Training (GALA, AMP):   0%|          | 0/252 [00:00<?, ?it/s]"
      ]
     },
     "metadata": {},
     "output_type": "display_data"
    },
    {
     "data": {
      "application/vnd.jupyter.widget-view+json": {
       "model_id": "b8cceea5a4fe4d62a4cdffee3e2f20dd",
       "version_major": 2,
       "version_minor": 0
      },
      "text/plain": [
       "Validation:   0%|          | 0/5 [00:00<?, ?it/s]"
      ]
     },
     "metadata": {},
     "output_type": "display_data"
    },
    {
     "name": "stdout",
     "output_type": "stream",
     "text": [
      "Train Loss: 0.0106, Train Acc: 0.9811 | Val Loss: 0.1353, Val Acc: 0.8219\n",
      "\n",
      "Fine Tune Epoch 3/15 - LR: 4.81e-06\n"
     ]
    },
    {
     "data": {
      "application/vnd.jupyter.widget-view+json": {
       "model_id": "3267524439a84b5e99070ad8e3b4262a",
       "version_major": 2,
       "version_minor": 0
      },
      "text/plain": [
       "Training (GALA, AMP):   0%|          | 0/252 [00:00<?, ?it/s]"
      ]
     },
     "metadata": {},
     "output_type": "display_data"
    },
    {
     "data": {
      "application/vnd.jupyter.widget-view+json": {
       "model_id": "2292749a70844f20a5dff3349c50f3cd",
       "version_major": 2,
       "version_minor": 0
      },
      "text/plain": [
       "Validation:   0%|          | 0/5 [00:00<?, ?it/s]"
      ]
     },
     "metadata": {},
     "output_type": "display_data"
    },
    {
     "name": "stdout",
     "output_type": "stream",
     "text": [
      "Train Loss: 0.0051, Train Acc: 0.9908 | Val Loss: 0.1524, Val Acc: 0.8082\n",
      "\n",
      "Fine Tune Epoch 4/15 - LR: 4.57e-06\n"
     ]
    },
    {
     "data": {
      "application/vnd.jupyter.widget-view+json": {
       "model_id": "c28e8209fb424d3ab58dd76f08370a45",
       "version_major": 2,
       "version_minor": 0
      },
      "text/plain": [
       "Training (GALA, AMP):   0%|          | 0/252 [00:00<?, ?it/s]"
      ]
     },
     "metadata": {},
     "output_type": "display_data"
    },
    {
     "data": {
      "application/vnd.jupyter.widget-view+json": {
       "model_id": "b5976ed4e08043839518f6964010e976",
       "version_major": 2,
       "version_minor": 0
      },
      "text/plain": [
       "Validation:   0%|          | 0/5 [00:00<?, ?it/s]"
      ]
     },
     "metadata": {},
     "output_type": "display_data"
    },
    {
     "name": "stdout",
     "output_type": "stream",
     "text": [
      "Train Loss: 0.0064, Train Acc: 0.9888 | Val Loss: 0.1227, Val Acc: 0.8356\n",
      "\n",
      "Fine Tune Epoch 5/15 - LR: 4.26e-06\n"
     ]
    },
    {
     "data": {
      "application/vnd.jupyter.widget-view+json": {
       "model_id": "0a2a42cd53a247cbbede704735718bff",
       "version_major": 2,
       "version_minor": 0
      },
      "text/plain": [
       "Training (GALA, AMP):   0%|          | 0/252 [00:00<?, ?it/s]"
      ]
     },
     "metadata": {},
     "output_type": "display_data"
    },
    {
     "data": {
      "application/vnd.jupyter.widget-view+json": {
       "model_id": "5c6b6ce3f8f84f4a9a9117e8de30e1e7",
       "version_major": 2,
       "version_minor": 0
      },
      "text/plain": [
       "Validation:   0%|          | 0/5 [00:00<?, ?it/s]"
      ]
     },
     "metadata": {},
     "output_type": "display_data"
    },
    {
     "name": "stdout",
     "output_type": "stream",
     "text": [
      "Train Loss: 0.0041, Train Acc: 0.9923 | Val Loss: 0.1548, Val Acc: 0.8082\n",
      "\n",
      "Fine Tune Epoch 6/15 - LR: 3.88e-06\n"
     ]
    },
    {
     "data": {
      "application/vnd.jupyter.widget-view+json": {
       "model_id": "0d015e53fe2d4eee82e0e4442d0739fd",
       "version_major": 2,
       "version_minor": 0
      },
      "text/plain": [
       "Training (GALA, AMP):   0%|          | 0/252 [00:00<?, ?it/s]"
      ]
     },
     "metadata": {},
     "output_type": "display_data"
    },
    {
     "data": {
      "application/vnd.jupyter.widget-view+json": {
       "model_id": "ebeb9fd38b6b4a98bbca11655563b880",
       "version_major": 2,
       "version_minor": 0
      },
      "text/plain": [
       "Validation:   0%|          | 0/5 [00:00<?, ?it/s]"
      ]
     },
     "metadata": {},
     "output_type": "display_data"
    },
    {
     "name": "stdout",
     "output_type": "stream",
     "text": [
      "Train Loss: 0.0047, Train Acc: 0.9908 | Val Loss: 0.1811, Val Acc: 0.7945\n",
      "\n",
      "Fine Tune Epoch 7/15 - LR: 3.45e-06\n"
     ]
    },
    {
     "data": {
      "application/vnd.jupyter.widget-view+json": {
       "model_id": "c8e15d9f79934d7e81d983fdbc3f373e",
       "version_major": 2,
       "version_minor": 0
      },
      "text/plain": [
       "Training (GALA, AMP):   0%|          | 0/252 [00:00<?, ?it/s]"
      ]
     },
     "metadata": {},
     "output_type": "display_data"
    },
    {
     "data": {
      "application/vnd.jupyter.widget-view+json": {
       "model_id": "84110409fa244ad2a631b1dbe957d8f1",
       "version_major": 2,
       "version_minor": 0
      },
      "text/plain": [
       "Validation:   0%|          | 0/5 [00:00<?, ?it/s]"
      ]
     },
     "metadata": {},
     "output_type": "display_data"
    },
    {
     "name": "stdout",
     "output_type": "stream",
     "text": [
      "Train Loss: 0.0029, Train Acc: 0.9935 | Val Loss: 0.1628, Val Acc: 0.8082\n",
      "\n",
      "Fine Tune Epoch 8/15 - LR: 2.99e-06\n"
     ]
    },
    {
     "data": {
      "application/vnd.jupyter.widget-view+json": {
       "model_id": "57ae5537d4854f2ba475a6be272b95ed",
       "version_major": 2,
       "version_minor": 0
      },
      "text/plain": [
       "Training (GALA, AMP):   0%|          | 0/252 [00:00<?, ?it/s]"
      ]
     },
     "metadata": {},
     "output_type": "display_data"
    },
    {
     "data": {
      "application/vnd.jupyter.widget-view+json": {
       "model_id": "12b4dde0440e4f6fa47c4beb76cb9543",
       "version_major": 2,
       "version_minor": 0
      },
      "text/plain": [
       "Validation:   0%|          | 0/5 [00:00<?, ?it/s]"
      ]
     },
     "metadata": {},
     "output_type": "display_data"
    },
    {
     "name": "stdout",
     "output_type": "stream",
     "text": [
      "Train Loss: 0.0031, Train Acc: 0.9950 | Val Loss: 0.1748, Val Acc: 0.7808\n",
      "\n",
      "Fine Tune Epoch 9/15 - LR: 2.51e-06\n"
     ]
    },
    {
     "data": {
      "application/vnd.jupyter.widget-view+json": {
       "model_id": "da2a8edec6fb4af0b524c1578e06e674",
       "version_major": 2,
       "version_minor": 0
      },
      "text/plain": [
       "Training (GALA, AMP):   0%|          | 0/252 [00:00<?, ?it/s]"
      ]
     },
     "metadata": {},
     "output_type": "display_data"
    },
    {
     "data": {
      "application/vnd.jupyter.widget-view+json": {
       "model_id": "26de930d3250416ea29a3131b80f7760",
       "version_major": 2,
       "version_minor": 0
      },
      "text/plain": [
       "Validation:   0%|          | 0/5 [00:00<?, ?it/s]"
      ]
     },
     "metadata": {},
     "output_type": "display_data"
    },
    {
     "name": "stdout",
     "output_type": "stream",
     "text": [
      "Train Loss: 0.0024, Train Acc: 0.9968 | Val Loss: 0.1788, Val Acc: 0.7945\n",
      "\n",
      "Fine Tune Epoch 10/15 - LR: 2.05e-06\n"
     ]
    },
    {
     "data": {
      "application/vnd.jupyter.widget-view+json": {
       "model_id": "20b89f6092524d27808754afa7037225",
       "version_major": 2,
       "version_minor": 0
      },
      "text/plain": [
       "Training (GALA, AMP):   0%|          | 0/252 [00:00<?, ?it/s]"
      ]
     },
     "metadata": {},
     "output_type": "display_data"
    },
    {
     "data": {
      "application/vnd.jupyter.widget-view+json": {
       "model_id": "c03c75f8df6e448bb5a3a2682d43621b",
       "version_major": 2,
       "version_minor": 0
      },
      "text/plain": [
       "Validation:   0%|          | 0/5 [00:00<?, ?it/s]"
      ]
     },
     "metadata": {},
     "output_type": "display_data"
    },
    {
     "name": "stdout",
     "output_type": "stream",
     "text": [
      "Train Loss: 0.0013, Train Acc: 0.9978 | Val Loss: 0.1657, Val Acc: 0.8219\n",
      "\n",
      "Fine Tune Epoch 11/15 - LR: 1.63e-06\n"
     ]
    },
    {
     "data": {
      "application/vnd.jupyter.widget-view+json": {
       "model_id": "f1905b0175854dab98215e7fa57631b9",
       "version_major": 2,
       "version_minor": 0
      },
      "text/plain": [
       "Training (GALA, AMP):   0%|          | 0/252 [00:00<?, ?it/s]"
      ]
     },
     "metadata": {},
     "output_type": "display_data"
    },
    {
     "data": {
      "application/vnd.jupyter.widget-view+json": {
       "model_id": "97a5b9f724dd4af1a1eb47b6d835da42",
       "version_major": 2,
       "version_minor": 0
      },
      "text/plain": [
       "Validation:   0%|          | 0/5 [00:00<?, ?it/s]"
      ]
     },
     "metadata": {},
     "output_type": "display_data"
    },
    {
     "name": "stdout",
     "output_type": "stream",
     "text": [
      "Train Loss: 0.0011, Train Acc: 0.9985 | Val Loss: 0.1866, Val Acc: 0.7945\n",
      "\n",
      "Fine Tune Epoch 12/15 - LR: 1.24e-06\n"
     ]
    },
    {
     "data": {
      "application/vnd.jupyter.widget-view+json": {
       "model_id": "7cbc34d351c7451b8d39ba798d18736b",
       "version_major": 2,
       "version_minor": 0
      },
      "text/plain": [
       "Training (GALA, AMP):   0%|          | 0/252 [00:00<?, ?it/s]"
      ]
     },
     "metadata": {},
     "output_type": "display_data"
    },
    {
     "data": {
      "application/vnd.jupyter.widget-view+json": {
       "model_id": "bbcf1acaf6544063b1df42edd34d0fd2",
       "version_major": 2,
       "version_minor": 0
      },
      "text/plain": [
       "Validation:   0%|          | 0/5 [00:00<?, ?it/s]"
      ]
     },
     "metadata": {},
     "output_type": "display_data"
    },
    {
     "name": "stdout",
     "output_type": "stream",
     "text": [
      "Train Loss: 0.0021, Train Acc: 0.9958 | Val Loss: 0.1650, Val Acc: 0.8082\n",
      "\n",
      "Fine Tune Epoch 13/15 - LR: 9.30e-07\n"
     ]
    },
    {
     "data": {
      "application/vnd.jupyter.widget-view+json": {
       "model_id": "cf6c7bc928074771be2a7c5720679d05",
       "version_major": 2,
       "version_minor": 0
      },
      "text/plain": [
       "Training (GALA, AMP):   0%|          | 0/252 [00:00<?, ?it/s]"
      ]
     },
     "metadata": {},
     "output_type": "display_data"
    },
    {
     "data": {
      "application/vnd.jupyter.widget-view+json": {
       "model_id": "538a7a2640224f51810503686708a4b9",
       "version_major": 2,
       "version_minor": 0
      },
      "text/plain": [
       "Validation:   0%|          | 0/5 [00:00<?, ?it/s]"
      ]
     },
     "metadata": {},
     "output_type": "display_data"
    },
    {
     "name": "stdout",
     "output_type": "stream",
     "text": [
      "Train Loss: 0.0017, Train Acc: 0.9963 | Val Loss: 0.1559, Val Acc: 0.8356\n",
      "\n",
      "Fine Tune Epoch 14/15 - LR: 6.95e-07\n"
     ]
    },
    {
     "data": {
      "application/vnd.jupyter.widget-view+json": {
       "model_id": "a0bd0c2ef72e4064a68aa0c9340c6f08",
       "version_major": 2,
       "version_minor": 0
      },
      "text/plain": [
       "Training (GALA, AMP):   0%|          | 0/252 [00:00<?, ?it/s]"
      ]
     },
     "metadata": {},
     "output_type": "display_data"
    },
    {
     "data": {
      "application/vnd.jupyter.widget-view+json": {
       "model_id": "2943457c5a9e4731a168b39db62728d5",
       "version_major": 2,
       "version_minor": 0
      },
      "text/plain": [
       "Validation:   0%|          | 0/5 [00:00<?, ?it/s]"
      ]
     },
     "metadata": {},
     "output_type": "display_data"
    },
    {
     "name": "stdout",
     "output_type": "stream",
     "text": [
      "Train Loss: 0.0020, Train Acc: 0.9970 | Val Loss: 0.1591, Val Acc: 0.8219\n",
      "\n",
      "Fine Tune Epoch 15/15 - LR: 5.49e-07\n"
     ]
    },
    {
     "data": {
      "application/vnd.jupyter.widget-view+json": {
       "model_id": "4606658624cb4bd4aef4947b895e22ae",
       "version_major": 2,
       "version_minor": 0
      },
      "text/plain": [
       "Training (GALA, AMP):   0%|          | 0/252 [00:00<?, ?it/s]"
      ]
     },
     "metadata": {},
     "output_type": "display_data"
    },
    {
     "data": {
      "application/vnd.jupyter.widget-view+json": {
       "model_id": "bafbb284c5924eafb58f84df80cf4362",
       "version_major": 2,
       "version_minor": 0
      },
      "text/plain": [
       "Validation:   0%|          | 0/5 [00:00<?, ?it/s]"
      ]
     },
     "metadata": {},
     "output_type": "display_data"
    },
    {
     "name": "stdout",
     "output_type": "stream",
     "text": [
      "Train Loss: 0.0008, Train Acc: 0.9985 | Val Loss: 0.1617, Val Acc: 0.8219\n"
     ]
    },
    {
     "data": {
      "image/png": "[encoded data removed]",
      "text/plain": [
       "<Figure size 1200x1000 with 2 Axes>"
      ]
     },
     "metadata": {},
     "output_type": "display_data"
    },
    {
     "name": "stdout",
     "output_type": "stream",
     "text": [
      "\n",
      "Final evaluation on test set\n"
     ]
    },
    {
     "data": {
      "application/vnd.jupyter.widget-view+json": {
       "model_id": "d91ad8c2e1ad4751ac99e977a7aa7883",
       "version_major": 2,
       "version_minor": 0
      },
      "text/plain": [
       "Fetching 1 files:   0%|          | 0/1 [00:00<?, ?it/s]"
      ]
     },
     "metadata": {},
     "output_type": "display_data"
    },
    {
     "name": "stdout",
     "output_type": "stream",
     "text": [
      "Found 74 images in test with 6 classes.\n"
     ]
    },
    {
     "ename": "FileNotFoundError",
     "evalue": "[Errno 2] No such file or directory: './checkpoints_gft_gala_pps\\\\best_finetuned_gft_gala_pps.pth'",
     "output_type": "error",
     "traceback": [
      "\u001b[1;31m---------------------------------------------------------------------------\u001b[0m",
      "\u001b[1;31mFileNotFoundError\u001b[0m                         Traceback (most recent call last)",
      "Cell \u001b[1;32mIn[1], line 710\u001b[0m\n\u001b[0;32m    708\u001b[0m model, history \u001b[38;5;241m=\u001b[39m run_pipeline()\n\u001b[0;32m    709\u001b[0m plot_history(history)\n\u001b[1;32m--> 710\u001b[0m \u001b[43mfinal_evaluation\u001b[49m\u001b[43m(\u001b[49m\u001b[43mmodel\u001b[49m\u001b[43m)\u001b[49m\n",
      "Cell \u001b[1;32mIn[1], line 682\u001b[0m, in \u001b[0;36mfinal_evaluation\u001b[1;34m(model)\u001b[0m\n\u001b[0;32m    679\u001b[0m test_loader \u001b[38;5;241m=\u001b[39m DataLoader(test_dataset, batch_size\u001b[38;5;241m=\u001b[39mconfig\u001b[38;5;241m.\u001b[39mBATCH_SIZE, shuffle\u001b[38;5;241m=\u001b[39m\u001b[38;5;28;01mFalse\u001b[39;00m, num_workers\u001b[38;5;241m=\u001b[39mconfig\u001b[38;5;241m.\u001b[39mNUM_WORKERS)\n\u001b[0;32m    680\u001b[0m criterion \u001b[38;5;241m=\u001b[39m GradientFocalLoss(alpha\u001b[38;5;241m=\u001b[39mconfig\u001b[38;5;241m.\u001b[39mGFT_ALPHA, gamma\u001b[38;5;241m=\u001b[39mconfig\u001b[38;5;241m.\u001b[39mGFT_GAMMA)\n\u001b[1;32m--> 682\u001b[0m model\u001b[38;5;241m.\u001b[39mload_state_dict(\u001b[43mtorch\u001b[49m\u001b[38;5;241;43m.\u001b[39;49m\u001b[43mload\u001b[49m\u001b[43m(\u001b[49m\u001b[43mos\u001b[49m\u001b[38;5;241;43m.\u001b[39;49m\u001b[43mpath\u001b[49m\u001b[38;5;241;43m.\u001b[39;49m\u001b[43mjoin\u001b[49m\u001b[43m(\u001b[49m\u001b[43mconfig\u001b[49m\u001b[38;5;241;43m.\u001b[39;49m\u001b[43mSAVE_DIR\u001b[49m\u001b[43m,\u001b[49m\u001b[43m \u001b[49m\u001b[38;5;124;43m\"\u001b[39;49m\u001b[38;5;124;43mbest_finetuned_gft_gala_pps.pth\u001b[39;49m\u001b[38;5;124;43m\"\u001b[39;49m\u001b[43m)\u001b[49m\u001b[43m,\u001b[49m\u001b[43m \u001b[49m\u001b[43mmap_location\u001b[49m\u001b[38;5;241;43m=\u001b[39;49m\u001b[43mconfig\u001b[49m\u001b[38;5;241;43m.\u001b[39;49m\u001b[43mDEVICE\u001b[49m\u001b[43m)\u001b[49m)\n\u001b[0;32m    683\u001b[0m model\u001b[38;5;241m.\u001b[39mto(config\u001b[38;5;241m.\u001b[39mDEVICE)\n\u001b[0;32m    684\u001b[0m model\u001b[38;5;241m.\u001b[39meval()\n",
      "File \u001b[1;32mc:\\Users\\sreeh\\AppData\\Local\\Programs\\Python\\Python312\\Lib\\site-packages\\torch\\serialization.py:1425\u001b[0m, in \u001b[0;36mload\u001b[1;34m(f, map_location, pickle_module, weights_only, mmap, **pickle_load_args)\u001b[0m\n\u001b[0;32m   1422\u001b[0m \u001b[38;5;28;01mif\u001b[39;00m \u001b[38;5;124m\"\u001b[39m\u001b[38;5;124mencoding\u001b[39m\u001b[38;5;124m\"\u001b[39m \u001b[38;5;129;01mnot\u001b[39;00m \u001b[38;5;129;01min\u001b[39;00m pickle_load_args\u001b[38;5;241m.\u001b[39mkeys():\n\u001b[0;32m   1423\u001b[0m     pickle_load_args[\u001b[38;5;124m\"\u001b[39m\u001b[38;5;124mencoding\u001b[39m\u001b[38;5;124m\"\u001b[39m] \u001b[38;5;241m=\u001b[39m \u001b[38;5;124m\"\u001b[39m\u001b[38;5;124mutf-8\u001b[39m\u001b[38;5;124m\"\u001b[39m\n\u001b[1;32m-> 1425\u001b[0m \u001b[38;5;28;01mwith\u001b[39;00m \u001b[43m_open_file_like\u001b[49m\u001b[43m(\u001b[49m\u001b[43mf\u001b[49m\u001b[43m,\u001b[49m\u001b[43m \u001b[49m\u001b[38;5;124;43m\"\u001b[39;49m\u001b[38;5;124;43mrb\u001b[39;49m\u001b[38;5;124;43m\"\u001b[39;49m\u001b[43m)\u001b[49m \u001b[38;5;28;01mas\u001b[39;00m opened_file:\n\u001b[0;32m   1426\u001b[0m     \u001b[38;5;28;01mif\u001b[39;00m _is_zipfile(opened_file):\n\u001b[0;32m   1427\u001b[0m         \u001b[38;5;66;03m# The zipfile reader is going to advance the current file position.\u001b[39;00m\n\u001b[0;32m   1428\u001b[0m         \u001b[38;5;66;03m# If we want to actually tail call to torch.jit.load, we need to\u001b[39;00m\n\u001b[0;32m   1429\u001b[0m         \u001b[38;5;66;03m# reset back to the original position.\u001b[39;00m\n\u001b[0;32m   1430\u001b[0m         orig_position \u001b[38;5;241m=\u001b[39m opened_file\u001b[38;5;241m.\u001b[39mtell()\n",
      "File \u001b[1;32mc:\\Users\\sreeh\\AppData\\Local\\Programs\\Python\\Python312\\Lib\\site-packages\\torch\\serialization.py:751\u001b[0m, in \u001b[0;36m_open_file_like\u001b[1;34m(name_or_buffer, mode)\u001b[0m\n\u001b[0;32m    749\u001b[0m \u001b[38;5;28;01mdef\u001b[39;00m\u001b[38;5;250m \u001b[39m\u001b[38;5;21m_open_file_like\u001b[39m(name_or_buffer, mode):\n\u001b[0;32m    750\u001b[0m     \u001b[38;5;28;01mif\u001b[39;00m _is_path(name_or_buffer):\n\u001b[1;32m--> 751\u001b[0m         \u001b[38;5;28;01mreturn\u001b[39;00m \u001b[43m_open_file\u001b[49m\u001b[43m(\u001b[49m\u001b[43mname_or_buffer\u001b[49m\u001b[43m,\u001b[49m\u001b[43m \u001b[49m\u001b[43mmode\u001b[49m\u001b[43m)\u001b[49m\n\u001b[0;32m    752\u001b[0m     \u001b[38;5;28;01melse\u001b[39;00m:\n\u001b[0;32m    753\u001b[0m         \u001b[38;5;28;01mif\u001b[39;00m \u001b[38;5;124m\"\u001b[39m\u001b[38;5;124mw\u001b[39m\u001b[38;5;124m\"\u001b[39m \u001b[38;5;129;01min\u001b[39;00m mode:\n",
      "File \u001b[1;32mc:\\Users\\sreeh\\AppData\\Local\\Programs\\Python\\Python312\\Lib\\site-packages\\torch\\serialization.py:732\u001b[0m, in \u001b[0;36m_open_file.__init__\u001b[1;34m(self, name, mode)\u001b[0m\n\u001b[0;32m    731\u001b[0m \u001b[38;5;28;01mdef\u001b[39;00m\u001b[38;5;250m \u001b[39m\u001b[38;5;21m__init__\u001b[39m(\u001b[38;5;28mself\u001b[39m, name, mode):\n\u001b[1;32m--> 732\u001b[0m     \u001b[38;5;28msuper\u001b[39m()\u001b[38;5;241m.\u001b[39m\u001b[38;5;21m__init__\u001b[39m(\u001b[38;5;28;43mopen\u001b[39;49m\u001b[43m(\u001b[49m\u001b[43mname\u001b[49m\u001b[43m,\u001b[49m\u001b[43m \u001b[49m\u001b[43mmode\u001b[49m\u001b[43m)\u001b[49m)\n",
      "\u001b[1;31mFileNotFoundError\u001b[0m: [Errno 2] No such file or directory: './checkpoints_gft_gala_pps\\\\best_finetuned_gft_gala_pps.pth'"
     ]
    }
   ],
   "source": [
    "# %%\n",
    "# =============================================================================\n",
    "# GFT (true GALA + PPS) training script with DINOv2-small backbone\n",
    "# =============================================================================\n",
    "import os\n",
    "import math\n",
    "import json\n",
    "import numpy as np\n",
    "from tqdm.auto import tqdm\n",
    "from PIL import Image\n",
    "import warnings\n",
    "warnings.filterwarnings(\"ignore\")\n",
    "\n",
    "import torch\n",
    "import torch.nn as nn\n",
    "import torch.optim as optim\n",
    "from torch.utils.data import DataLoader, Dataset\n",
    "import torchvision.transforms as transforms\n",
    "from transformers import AutoModel, AutoImageProcessor\n",
    "\n",
    "from sklearn.metrics import accuracy_score, classification_report, confusion_matrix\n",
    "import matplotlib.pyplot as plt\n",
    "import seaborn as sns\n",
    "\n",
    "# =============================================================================\n",
    "# 1. CONFIG\n",
    "# =============================================================================\n",
    "class Config:\n",
    "    # dataset / model\n",
    "    BASE_DIR = \"melspectrograms_dataset/\"\n",
    "    MODEL_NAME = \"facebook/dinov2-small\"   # DINOv2-small\n",
    "    DEVICE = torch.device(\"cuda\" if torch.cuda.is_available() else \"cpu\")\n",
    "\n",
    "    # data / training\n",
    "    IMG_SIZE = 224\n",
    "    BATCH_SIZE = 16            # Two-pass doubles memory — lower default\n",
    "    NUM_WORKERS = 0\n",
    "\n",
    "    # optimizer / scheduler\n",
    "    HEAD_EPOCHS = 10\n",
    "    FULL_EPOCHS = 40\n",
    "    FT_EPOCHS = 15\n",
    "\n",
    "    HEAD_LR = 3e-4\n",
    "    FULL_LR = 5e-5\n",
    "    FT_LR = 5e-6\n",
    "    WEIGHT_DECAY = 0.05\n",
    "    LR_WARMUP_EPOCHS = 3\n",
    "    PATIENCE = 12\n",
    "\n",
    "    # augment / reg\n",
    "    MIXUP_ALPHA = 0.4\n",
    "    SPEC_AUG_FREQ = 25\n",
    "    SPEC_AUG_TIME = 40\n",
    "    DROP_RATE = 0.4\n",
    "\n",
    "    # GFT / GALA / PPS\n",
    "    GFT_ALPHA = 0.25\n",
    "    GFT_GAMMA = 2.0\n",
    "    FOCAL_GAMMA_HEADS = 6  # must divide embed_dim\n",
    "    # Number of GFT stages (progressive); keep_ratios correspond to each stage\n",
    "    GFT_STAGES = 3\n",
    "    PPS_KEEP_RATIOS = [1.0, 0.7, 0.5]  # stage-0 keep 100%, stage-1 keep 70%, stage-2 keep 50%\n",
    "\n",
    "    # gradient-based weighting multiplier (how strongly to apply gradient signal)\n",
    "    GALA_ALPHA = 2.0\n",
    "\n",
    "    # misc\n",
    "    SAVE_DIR = \"./checkpoints_gft_gala_pps\"\n",
    "    os.makedirs(SAVE_DIR, exist_ok=True)\n",
    "\n",
    "config = Config()\n",
    "print(f\"Device: {config.DEVICE}\")\n",
    "\n",
    "# =============================================================================\n",
    "# 2. LOSS (Gradient Focal Loss) - same spirit as before\n",
    "# =============================================================================\n",
    "class GradientFocalLoss(nn.Module):\n",
    "    def __init__(self, alpha=0.25, gamma=2.0, reduction=\"mean\"):\n",
    "        super().__init__()\n",
    "        self.alpha = alpha\n",
    "        self.gamma = gamma\n",
    "        self.reduction = reduction\n",
    "\n",
    "    def forward(self, logits, targets):\n",
    "        ce = nn.functional.cross_entropy(logits, targets, reduction=\"none\")\n",
    "        p = torch.exp(-ce)\n",
    "        probs = torch.softmax(logits, dim=1)\n",
    "        target_probs = probs.gather(1, targets.unsqueeze(1)).squeeze(1)\n",
    "        grad_weight = torch.abs(target_probs - 1.0)\n",
    "        focal = self.alpha * (1 - p) ** self.gamma * (1 + grad_weight)\n",
    "        loss = focal * ce\n",
    "        if self.reduction == \"mean\":\n",
    "            return loss.mean()\n",
    "        elif self.reduction == \"sum\":\n",
    "            return loss.sum()\n",
    "        return loss\n",
    "\n",
    "# =============================================================================\n",
    "# 3. GALA attention (Gradient Attention Learning Alignment) + PPS\n",
    "# =============================================================================\n",
    "class GALA_Attention(nn.Module):\n",
    "    \"\"\"\n",
    "    A multi-head attention module that:\n",
    "    - computes attention weights,\n",
    "    - returns attn_weights (retained for gradient capture),\n",
    "    - supports applying a per-token importance mask (from GALA)\n",
    "    - renormalizes attention after reweighting.\n",
    "    \"\"\"\n",
    "    def __init__(self, dim, n_heads=8, qkv_bias=True, attn_drop=0., proj_drop=0., focal_gamma_init=1.0):\n",
    "        super().__init__()\n",
    "        assert dim % n_heads == 0, \"embed dim must be divisible by n_heads\"\n",
    "        self.n_heads = n_heads\n",
    "        self.head_dim = dim // n_heads\n",
    "        self.scale = self.head_dim ** -0.5\n",
    "\n",
    "        self.qkv = nn.Linear(dim, dim * 3, bias=qkv_bias)\n",
    "        self.attn_drop = nn.Dropout(attn_drop)\n",
    "        self.proj = nn.Linear(dim, dim)\n",
    "        self.proj_drop = nn.Dropout(proj_drop)\n",
    "\n",
    "        # focal gamma per head (trainable)\n",
    "        self.focal_gamma = nn.Parameter(torch.ones(n_heads, 1, 1) * focal_gamma_init)\n",
    "\n",
    "        # optional runtime token importance weights (set externally from training loop via `set_importance`)\n",
    "        self.register_buffer(\"_token_importance\", None, persistent=False)\n",
    "\n",
    "        # last computed attention stored so training loop can access .grad\n",
    "        self._last_attn = None\n",
    "\n",
    "    def set_importance(self, importance):\n",
    "        \"\"\"\n",
    "        importance: tensor (B, N) with per-token importance in [0, inf) used to reweight attention.\n",
    "        If None, no extra reweighting applied.\n",
    "        \"\"\"\n",
    "        if importance is None:\n",
    "            self._token_importance = None\n",
    "        else:\n",
    "            self._token_importance = importance.detach()\n",
    "\n",
    "    def forward(self, x):\n",
    "        \"\"\"\n",
    "        x: (B, N, C)\n",
    "        returns: (B, N, C) attended\n",
    "        \"\"\"\n",
    "        B, N, C = x.shape\n",
    "        qkv = self.qkv(x).reshape(B, N, 3, self.n_heads, self.head_dim).permute(2, 0, 3, 1, 4)\n",
    "        q, k, v = qkv[0], qkv[1], qkv[2]   # shapes (B, heads, N, head_dim)\n",
    "        attn = (q @ k.transpose(-2, -1)) * self.scale  # (B, heads, N, N)\n",
    "        attn_weights = torch.softmax(attn, dim=-1)\n",
    "\n",
    "        # retain gradient for GALA capture later (only valid during training)\n",
    "        if self.training:\n",
    "            attn_weights.retain_grad()\n",
    "            # store reference so training loop can find grads after backward\n",
    "            self._last_attn = attn_weights\n",
    "\n",
    "        # focal-like modulation (static) to complement gradient signal\n",
    "        focal = torch.pow(1.0 - attn_weights, self.focal_gamma)  # (heads,1,1) broadcast\n",
    "        attn_mod = attn_weights * focal\n",
    "\n",
    "        # apply token importance (if provided) — importance shape (B, N) -> convert to (B,1,N,1) to reweight queries\n",
    "        if self._token_importance is not None:\n",
    "            imp = self._token_importance.unsqueeze(1).unsqueeze(-1)  # (B,1,N,1)\n",
    "            # we want tokens that are more important to receive more attention when they are keys; multiply attn columns\n",
    "            attn_mod = attn_mod * (1.0 + imp)  # amplify columns (keys)\n",
    "        # renormalize along last dim so each query distribution sums to 1\n",
    "        attn_mod = attn_mod / (attn_mod.sum(dim=-1, keepdim=True) + 1e-6)\n",
    "\n",
    "        # dropout and output\n",
    "        attn_d = self.attn_drop(attn_mod)\n",
    "        out = (attn_d @ v).transpose(1, 2).reshape(B, N, C)\n",
    "        out = self.proj(out)\n",
    "        out = self.proj_drop(out)\n",
    "        return out\n",
    "\n",
    "    def get_last_attn_and_grad(self):\n",
    "        \"\"\"Return (attn, grad) as (tensor or None, tensor or None).\"\"\"\n",
    "        if self._last_attn is None:\n",
    "            return None, None\n",
    "        return self._last_attn.detach(), (self._last_attn.grad.detach() if self._last_attn.grad is not None else None)\n",
    "\n",
    "# =============================================================================\n",
    "# 4. GFT Encoder with multiple stages + PPS (masking)\n",
    "# =============================================================================\n",
    "class GFT_Encoder(nn.Module):\n",
    "    \"\"\"\n",
    "    Multi-stage GFT encoder. Each stage:\n",
    "      - optionally applies a small MLP or FFN (skipped for simplicity)\n",
    "      - uses a GALA_Attention block\n",
    "      - applies PPS: mask low-importance tokens (keep ratio per stage)\n",
    "    Implementation detail: to keep shapes stable, PPS zeros-out token embeddings for dropped tokens.\n",
    "    \"\"\"\n",
    "    def __init__(self, embed_dim, num_stages=3, n_heads=6, drop_rate=0.3, keep_ratios=None, gala_alpha=2.0):\n",
    "        super().__init__()\n",
    "        assert keep_ratios is None or len(keep_ratios) == num_stages\n",
    "        self.num_stages = num_stages\n",
    "        self.keep_ratios = keep_ratios if keep_ratios is not None else [1.0] * num_stages\n",
    "        self.gala_alpha = gala_alpha\n",
    "\n",
    "        self.stages = nn.ModuleList([\n",
    "            nn.Sequential(\n",
    "                nn.LayerNorm(embed_dim),\n",
    "                GALA_Attention(embed_dim, n_heads=n_heads, attn_drop=drop_rate*0.5, proj_drop=drop_rate*0.5),\n",
    "                nn.LayerNorm(embed_dim),\n",
    "                nn.Linear(embed_dim, embed_dim),\n",
    "                nn.GELU(),\n",
    "                nn.Dropout(drop_rate)\n",
    "            )\n",
    "            for _ in range(num_stages)\n",
    "        ])\n",
    "\n",
    "    def forward(self, x):\n",
    "        \"\"\"\n",
    "        x: (B, N, C) token embeddings from backbone.\n",
    "        returns: features (B, N, C) after multi-stage GFT\n",
    "        Note: actual GALA importance injection happens during training loop (via set_importance on attention modules).\n",
    "        \"\"\"\n",
    "        out = x\n",
    "        for stage_idx in range(self.num_stages):\n",
    "            seq = self.stages[stage_idx]\n",
    "            # LayerNorm + Attention + FFN (we use the sequential to run these)\n",
    "            out = seq(out)\n",
    "            # PPS is applied externally in training loop by masking tokens: model receives masked tokens as input\n",
    "        return out\n",
    "\n",
    "    def set_stage_importances(self, importances):\n",
    "        \"\"\"\n",
    "        importances: list of length num_stages of tensors (B, N) with per-token importance for each stage.\n",
    "        Feed these into the underlying GALA_Attention blocks by calling set_importance on the attention layer.\n",
    "        \"\"\"\n",
    "        for i, imp in enumerate(importances):\n",
    "            # find the GALA_Attention inside the stage sequential (it's at index 1)\n",
    "            gala_block = self.stages[i][1]\n",
    "            gala_block.set_importance(imp)\n",
    "\n",
    "    def clear_importances(self):\n",
    "        for i in range(self.num_stages):\n",
    "            gala_block = self.stages[i][1]\n",
    "            gala_block.set_importance(None)\n",
    "\n",
    "    def get_all_last_attn_and_grads(self):\n",
    "        \"\"\"\n",
    "        Return lists of (attn, grad) for each stage (None if not present).\n",
    "        \"\"\"\n",
    "        results = []\n",
    "        for i in range(self.num_stages):\n",
    "            gala_block = self.stages[i][1]\n",
    "            results.append(gala_block.get_last_attn_and_grad())\n",
    "        return results\n",
    "\n",
    "# =============================================================================\n",
    "# 5. Full model: DINOv2 backbone -> GFT encoder -> classifier head\n",
    "# =============================================================================\n",
    "class DinoV2_GFT_GALA_PPS(nn.Module):\n",
    "    def __init__(self, model_name, num_classes, gft_stages=3, keep_ratios=None,\n",
    "                 n_heads=6, drop_rate=0.3, gala_alpha=2.0):\n",
    "        super().__init__()\n",
    "        self.backbone = AutoModel.from_pretrained(model_name)\n",
    "        embed_dim = self.backbone.config.hidden_size\n",
    "        self.embed_dim = embed_dim\n",
    "\n",
    "        self.gft_encoder = GFT_Encoder(embed_dim, num_stages=gft_stages, n_heads=n_heads,\n",
    "                                       drop_rate=drop_rate, keep_ratios=keep_ratios, gala_alpha=gala_alpha)\n",
    "\n",
    "        # projection head (optional) to make features more classifier-friendly\n",
    "        self.pool_norm = nn.LayerNorm(embed_dim)\n",
    "        self.classifier = nn.Sequential(\n",
    "            nn.Linear(embed_dim, 512),\n",
    "            nn.GELU(),\n",
    "            nn.Dropout(drop_rate),\n",
    "            nn.Linear(512, 256),\n",
    "            nn.GELU(),\n",
    "            nn.Dropout(drop_rate*0.5),\n",
    "            nn.Linear(256, num_classes)\n",
    "        )\n",
    "\n",
    "    def forward(self, pixel_values, token_mask=None):\n",
    "        \"\"\"\n",
    "        token_mask: optional mask (B, N) with 1 for kept tokens and 0 for masked tokens;\n",
    "                    if provided it should have same N as backbone output tokens and is applied\n",
    "                    by zeroing out token embeddings for masked positions.\n",
    "        \"\"\"\n",
    "        outputs = self.backbone(pixel_values=pixel_values)\n",
    "        tokens = outputs.last_hidden_state  # (B, N, C)\n",
    "\n",
    "        # apply token_mask if provided: zero-out masked positions\n",
    "        if token_mask is not None:\n",
    "            tokens = tokens * token_mask.unsqueeze(-1)\n",
    "\n",
    "        features = self.gft_encoder(tokens)  # (B, N, C)\n",
    "        pooled = torch.mean(features, dim=1)  # global mean pooling\n",
    "        pooled = self.pool_norm(pooled)\n",
    "        logits = self.classifier(pooled)\n",
    "        return logits\n",
    "\n",
    "# =============================================================================\n",
    "# 6. Dataset, Transforms, Augmentations\n",
    "# =============================================================================\n",
    "class MelSpectrogramDataset(Dataset):\n",
    "    def __init__(self, base_dir, split=\"train\", transform=None):\n",
    "        self.split = split\n",
    "        self.transform = transform\n",
    "        self.data_dir = os.path.join(base_dir, split)\n",
    "        if not os.path.isdir(self.data_dir):\n",
    "            raise FileNotFoundError(f\"Directory not found: {self.data_dir}\")\n",
    "        self.classes = sorted([d for d in os.listdir(self.data_dir) if os.path.isdir(os.path.join(self.data_dir, d))])\n",
    "        self.class_to_idx = {c:i for i, c in enumerate(self.classes)}\n",
    "        self.paths = []\n",
    "        self.labels = []\n",
    "        for cls in self.classes:\n",
    "            cls_dir = os.path.join(self.data_dir, cls)\n",
    "            for f in os.listdir(cls_dir):\n",
    "                if f.lower().endswith((\".png\",\".jpg\",\".jpeg\")):\n",
    "                    self.paths.append(os.path.join(cls_dir, f))\n",
    "                    self.labels.append(self.class_to_idx[cls])\n",
    "        print(f\"Found {len(self.paths)} images in {split} with {len(self.classes)} classes.\")\n",
    "\n",
    "    def __len__(self):\n",
    "        return len(self.paths)\n",
    "\n",
    "    def __getitem__(self, idx):\n",
    "        img = Image.open(self.paths[idx]).convert(\"RGB\")\n",
    "        label = self.labels[idx]\n",
    "        if self.transform:\n",
    "            img = self.transform(img)\n",
    "        return img, label\n",
    "\n",
    "def get_transforms(config):\n",
    "    proc = AutoImageProcessor.from_pretrained(config.MODEL_NAME)\n",
    "    mean, std = proc.image_mean, proc.image_std\n",
    "    train_transform = transforms.Compose([\n",
    "        transforms.Resize((config.IMG_SIZE, config.IMG_SIZE)),\n",
    "        transforms.TrivialAugmentWide(),\n",
    "        transforms.ToTensor(),\n",
    "        transforms.Normalize(mean=mean, std=std),\n",
    "    ])\n",
    "    val_transform = transforms.Compose([\n",
    "        transforms.Resize((config.IMG_SIZE, config.IMG_SIZE)),\n",
    "        transforms.ToTensor(),\n",
    "        transforms.Normalize(mean=mean, std=std),\n",
    "    ])\n",
    "    return train_transform, val_transform\n",
    "\n",
    "train_transform, val_transform = get_transforms(config)\n",
    "train_dataset = MelSpectrogramDataset(config.BASE_DIR, \"train\", train_transform)\n",
    "val_dataset = MelSpectrogramDataset(config.BASE_DIR, \"validation\", val_transform)\n",
    "train_loader = DataLoader(train_dataset, batch_size=config.BATCH_SIZE, shuffle=True, num_workers=config.NUM_WORKERS)\n",
    "val_loader = DataLoader(val_dataset, batch_size=config.BATCH_SIZE, shuffle=False, num_workers=config.NUM_WORKERS)\n",
    "num_classes = len(train_dataset.classes)\n",
    "\n",
    "# SpecAugment (on spectrogram-like images)\n",
    "class SpecAugment(nn.Module):\n",
    "    def __init__(self, freq_mask_param, time_mask_param, num_freq_masks=1, num_time_masks=1):\n",
    "        super().__init__()\n",
    "        self.F, self.T = freq_mask_param, time_mask_param\n",
    "        self.num_freq_masks, self.num_time_masks = num_freq_masks, num_time_masks\n",
    "\n",
    "    def forward(self, x):\n",
    "        sh = x.shape  # (B, C, H, W)\n",
    "        B,C,H,W = sh\n",
    "        for _ in range(self.num_freq_masks):\n",
    "            f = np.random.uniform(0.0, self.F)\n",
    "            f = int(f)\n",
    "            if H - f > 0:\n",
    "                f0 = np.random.randint(0, H - f)\n",
    "                x[:, :, f0:f0+f, :] = 0\n",
    "        for _ in range(self.num_time_masks):\n",
    "            t = np.random.uniform(0.0, self.T)\n",
    "            t = int(t)\n",
    "            if W - t > 0:\n",
    "                t0 = np.random.randint(0, W - t)\n",
    "                x[:, :, :, t0:t0+t] = 0\n",
    "        return x\n",
    "\n",
    "spec_augment = SpecAugment(freq_mask_param=config.SPEC_AUG_FREQ, time_mask_param=config.SPEC_AUG_TIME)\n",
    "\n",
    "# MixUp helpers\n",
    "def mixup_data(x, y, alpha=0.4, device=\"cuda\"):\n",
    "    if alpha > 0:\n",
    "        lam = np.random.beta(alpha, alpha)\n",
    "    else:\n",
    "        lam = 1.0\n",
    "    batch_size = x.size(0)\n",
    "    index = torch.randperm(batch_size).to(device)\n",
    "    mixed_x = lam * x + (1 - lam) * x[index]\n",
    "    y_a, y_b = y, y[index]\n",
    "    return mixed_x, y_a, y_b, lam\n",
    "\n",
    "def mixup_criterion(criterion, pred, y_a, y_b, lam):\n",
    "    return lam * criterion(pred, y_a) + (1 - lam) * criterion(pred, y_b)\n",
    "\n",
    "# =============================================================================\n",
    "# 7. TRAIN / VALIDATION LOOPS (with two-pass GALA capture)\n",
    "# =============================================================================\n",
    "scaler = torch.cuda.amp.GradScaler()\n",
    "\n",
    "def train_epoch_gala(model, dataloader, criterion, optimizer, device, config):\n",
    "    \"\"\"\n",
    "    Two-pass per batch:\n",
    "      1) forward -> loss1 -> backward(retain_graph=True) to populate attn grads\n",
    "      2) compute per-token importance from attn grads and optionally do PPS masks per stage\n",
    "      3) set importances on GFT encoder and run second forward -> compute final loss -> backward + optimizer.step()\n",
    "    \"\"\"\n",
    "    model.train()\n",
    "    running_loss = 0.0\n",
    "    all_preds = []\n",
    "    all_labels = []\n",
    "    pbar = tqdm(dataloader, desc=\"Training (GALA, AMP)\")\n",
    "\n",
    "    for images, labels in pbar:\n",
    "        images = images.to(device)\n",
    "        labels = labels.to(device)\n",
    "\n",
    "        # SpecAugment (in-place)\n",
    "        images = spec_augment(images)\n",
    "\n",
    "        # MixUp\n",
    "        inputs, targets_a, targets_b, lam = mixup_data(images, labels, config.MIXUP_ALPHA, device)\n",
    "\n",
    "        optimizer.zero_grad(set_to_none=True)\n",
    "\n",
    "        # ----- PASS 1 -----\n",
    "        with torch.cuda.amp.autocast():\n",
    "            logits1 = model(inputs)    # no token importances yet\n",
    "            loss1 = mixup_criterion(criterion, logits1, targets_a, targets_b, lam)\n",
    "\n",
    "        # backward to collect attn grads (retain graph to allow re-use)\n",
    "        scaler.scale(loss1).backward(retain_graph=True)\n",
    "\n",
    "        # collect attention grads & compute per-stage per-token importance\n",
    "        # get (attn, grad) for each stage (list length = num_stages)\n",
    "        attn_grad_pairs = model.gft_encoder.get_all_last_attn_and_grads()\n",
    "        # For each stage compute per-token importance (B, N)\n",
    "        stage_importances = []\n",
    "        for idx, (attn, grad) in enumerate(attn_grad_pairs):\n",
    "            if attn is None or grad is None:\n",
    "                # fallback: uniform importance\n",
    "                B, H, N, _ = attn.shape if attn is not None else (inputs.size(0), 1, model.backbone.config.patch_embed_num_patches if hasattr(model.backbone.config, \"patch_embed_num_patches\") else 196, 196)\n",
    "                stage_importances.append(torch.ones((inputs.size(0), N), device=device))\n",
    "                continue\n",
    "\n",
    "            # attn: (B, heads, N, N), grad: same shape (∂L/∂attn_weights)\n",
    "            # compute per-token importance as mean over heads of (abs(grad) * attn).sum over query dimension -> importance as key-wise score\n",
    "            # key-wise importance across queries: for each key token j: sum_q |∂L/∂attn_{qj}| * attn_{qj}\n",
    "            # Implementation:\n",
    "            with torch.no_grad():\n",
    "                # abs grad\n",
    "                g_abs = grad.abs()                     # (B, H, N, N)\n",
    "                weighted = g_abs * attn                # (B, H, N, N)\n",
    "                # sum over queries (dim=2), then mean over heads\n",
    "                importance_key = weighted.sum(dim=2).mean(dim=1)   # (B, N)\n",
    "                # normalize per sample\n",
    "                importance_key = importance_key / (importance_key.max(dim=1, keepdim=True)[0] + 1e-6)\n",
    "                # optionally sharpen using gala_alpha\n",
    "                importance_key = torch.pow(importance_key + 1e-6, config.GALA_ALPHA)\n",
    "                stage_importances.append(importance_key)\n",
    "\n",
    "        # ----- PPS: compute token_mask per-stage based on keep_ratios -----\n",
    "        # we will create a single token_mask (B, N) that is the product of per-stage masks,\n",
    "        # but to better reflect PPS we apply decreasing keep ratios across stages by computing masks for each stage (kept tokens remain 1)\n",
    "        B, N = stage_importances[0].shape\n",
    "        device = images.device\n",
    "        # for maintain shape we create a single mask to apply before second forward; we compute it by combining stage importances\n",
    "        # approach: compute weighted average importance across stages with stage-specific keep ratios, then keep top-k tokens\n",
    "        combined_scores = torch.zeros_like(stage_importances[0])\n",
    "        for s_idx, imp in enumerate(stage_importances):\n",
    "            # weigh stage importance by stage index (later stages matter more) and keep ratios\n",
    "            combined_scores += imp * (1.0 / max(1, s_idx+1))\n",
    "\n",
    "        # normalize combined scores per sample\n",
    "        combined_scores = combined_scores / (combined_scores.max(dim=1, keepdim=True)[0] + 1e-6)\n",
    "\n",
    "        # determine final keep count per sample using last stage keep ratio (most aggressive)\n",
    "        global_keep_ratio = config.PPS_KEEP_RATIOS[-1]\n",
    "        keep_k = (global_keep_ratio * N).astype if False else None  # fallback below\n",
    "\n",
    "        # compute per-sample thresholds to keep top tokens according to combined_scores and global keep ratio\n",
    "        token_mask = torch.zeros_like(combined_scores, device=device)\n",
    "        k = max(1, int(round(config.PPS_KEEP_RATIOS[-1] * N)))\n",
    "        # create mask by topk per sample\n",
    "        topk_vals, topk_idx = torch.topk(combined_scores, k, dim=1)\n",
    "        token_mask.scatter_(1, topk_idx, 1.0)  # (B, N) with 1 for kept tokens\n",
    "\n",
    "        # For an approximate progressive effect, we can also keep some tokens from earlier stages by OR-ing their top tokens\n",
    "        # e.g., stage-wise keep according to their keep ratios and then union\n",
    "        progressive_mask = torch.zeros_like(token_mask)\n",
    "        for s_idx, imp in enumerate(stage_importances):\n",
    "            kr = config.PPS_KEEP_RATIOS[s_idx] if s_idx < len(config.PPS_KEEP_RATIOS) else config.PPS_KEEP_RATIOS[-1]\n",
    "            k_s = max(1, int(round(kr * N)))\n",
    "            vals, idxs = torch.topk(imp, k_s, dim=1)\n",
    "            tmp = torch.zeros_like(token_mask)\n",
    "            tmp.scatter_(1, idxs, 1.0)\n",
    "            progressive_mask = torch.logical_or(progressive_mask.bool(), tmp.bool())\n",
    "        # final mask is progressive union converted to float\n",
    "        final_token_mask = progressive_mask.float().to(device)  # (B, N)\n",
    "\n",
    "        # ----- set importances into each stage's GALA blocks (we pass the stage_importances)\n",
    "        model.gft_encoder.set_stage_importances(stage_importances)\n",
    "\n",
    "        # also set token_mask to apply before second forward (zero-out dropped tokens)\n",
    "        # second pass: forward with token mask applied and with GALA importances set\n",
    "        with torch.cuda.amp.autocast():\n",
    "            logits2 = model(inputs, token_mask=final_token_mask)\n",
    "            loss2 = mixup_criterion(criterion, logits2, targets_a, targets_b, lam)\n",
    "\n",
    "        # zero grads (we already backwarded loss1) then backward on loss2 and step\n",
    "        # We must unscale, step, etc. Use scaler for both steps combined:\n",
    "        # Note: we've already applied backward(retain_graph=True) for loss1; now scale and backward for loss2\n",
    "        scaler.scale(loss2).backward()\n",
    "        # optimizer step (unscale, clip if needed)\n",
    "        scaler.step(optimizer)\n",
    "        scaler.update()\n",
    "        optimizer.zero_grad(set_to_none=True)\n",
    "\n",
    "        # Clear stored importances in model (so next batch starts clean)\n",
    "        model.gft_encoder.clear_importances()\n",
    "\n",
    "        # metrics\n",
    "        running_loss += loss2.item()\n",
    "        _, preds = torch.max(logits2, dim=1)\n",
    "        all_preds.extend(preds.detach().cpu().numpy())\n",
    "        all_labels.extend(labels.detach().cpu().numpy())\n",
    "\n",
    "        pbar.set_postfix({\"loss\": f\"{loss2.item():.4f}\"})\n",
    "\n",
    "    avg_loss = running_loss / len(dataloader)\n",
    "    acc = accuracy_score(all_labels, all_preds)\n",
    "    return avg_loss, acc\n",
    "\n",
    "def validate_epoch(model, dataloader, criterion, device):\n",
    "    model.eval()\n",
    "    running_loss = 0.0\n",
    "    all_preds = []\n",
    "    all_labels = []\n",
    "    with torch.no_grad():\n",
    "        pbar = tqdm(dataloader, desc=\"Validation\")\n",
    "        for images, labels in pbar:\n",
    "            images = images.to(device); labels = labels.to(device)\n",
    "            logits = model(images)  # no token masks during validation\n",
    "            loss = criterion(logits, labels)\n",
    "            running_loss += loss.item()\n",
    "            _, preds = torch.max(logits, dim=1)\n",
    "            all_preds.extend(preds.detach().cpu().numpy())\n",
    "            all_labels.extend(labels.detach().cpu().numpy())\n",
    "    avg_loss = running_loss / len(dataloader)\n",
    "    acc = accuracy_score(all_labels, all_preds)\n",
    "    return avg_loss, acc, all_preds, all_labels\n",
    "\n",
    "# =============================================================================\n",
    "# 8. FULL TRAINING / pipeline (phases similar to original)\n",
    "# =============================================================================\n",
    "def run_pipeline():\n",
    "    model = DinoV2_GFT_GALA_PPS(\n",
    "        config.MODEL_NAME, num_classes,\n",
    "        gft_stages=config.GFT_STAGES,\n",
    "        keep_ratios=config.PPS_KEEP_RATIOS,\n",
    "        n_heads=config.FOCAL_GAMMA_HEADS,\n",
    "        drop_rate=config.DROP_RATE,\n",
    "        gala_alpha=config.GALA_ALPHA\n",
    "    ).to(config.DEVICE)\n",
    "    print(\"Model initialized.\")\n",
    "\n",
    "    # PHASE 1: train head + GFT encoder (backbone frozen)\n",
    "    print(\"\\n\" + \"=\"*70 + \"\\nPHASE 1: Head training\\n\" + \"=\"*70)\n",
    "    for p in model.backbone.parameters(): p.requires_grad = False\n",
    "    for p in model.classifier.parameters(): p.requires_grad = True\n",
    "    # enable GFT encoder params\n",
    "    for p in model.gft_encoder.parameters(): p.requires_grad = True\n",
    "\n",
    "    criterion = GradientFocalLoss(alpha=config.GFT_ALPHA, gamma=config.GFT_GAMMA)\n",
    "    optimizer = optim.AdamW(filter(lambda p: p.requires_grad, model.parameters()), lr=config.HEAD_LR, weight_decay=config.WEIGHT_DECAY)\n",
    "\n",
    "    # scheduler with warmup\n",
    "    lr_main = optim.lr_scheduler.CosineAnnealingLR(optimizer, T_max=max(1, config.HEAD_EPOCHS - config.LR_WARMUP_EPOCHS))\n",
    "    warmup = optim.lr_scheduler.LinearLR(optimizer, start_factor=1e-6, total_iters=config.LR_WARMUP_EPOCHS)\n",
    "    scheduler = optim.lr_scheduler.SequentialLR(optimizer, schedulers=[warmup, lr_main], milestones=[config.LR_WARMUP_EPOCHS])\n",
    "\n",
    "    best_val = 0.0\n",
    "    for epoch in range(config.HEAD_EPOCHS):\n",
    "        print(f\"\\nEpoch {epoch+1}/{config.HEAD_EPOCHS} - LR: {optimizer.param_groups[0]['lr']:.2e}\")\n",
    "        # temporarily disable mixup in head training? keep same as original: turn mixup off in head step\n",
    "        original_mix = config.MIXUP_ALPHA; config.MIXUP_ALPHA = 0.0\n",
    "        train_loss, train_acc = train_epoch_gala(model, train_loader, criterion, optimizer, config.DEVICE, config)\n",
    "        config.MIXUP_ALPHA = original_mix\n",
    "        val_loss, val_acc, _, _ = validate_epoch(model, val_loader, criterion, config.DEVICE)\n",
    "        scheduler.step()\n",
    "\n",
    "        print(f\"Train Loss: {train_loss:.4f}, Train Acc: {train_acc:.4f} | Val Loss: {val_loss:.4f}, Val Acc: {val_acc:.4f}\")\n",
    "        if val_acc > best_val:\n",
    "            best_val = val_acc\n",
    "            torch.save(model.state_dict(), os.path.join(config.SAVE_DIR, \"best_head_gft_gala_pps.pth\"))\n",
    "            print(\"Saved best head model.\")\n",
    "\n",
    "    # PHASE 2: unfreeze all and train full network\n",
    "    print(\"\\n\" + \"=\"*70 + \"\\nPHASE 2: Full training\\n\" + \"=\"*70)\n",
    "    model.load_state_dict(torch.load(os.path.join(config.SAVE_DIR, \"best_head_gft_gala_pps.pth\"), map_location=config.DEVICE))\n",
    "    for p in model.parameters(): p.requires_grad = True\n",
    "\n",
    "    optimizer = optim.AdamW(model.parameters(), lr=config.FULL_LR, weight_decay=config.WEIGHT_DECAY)\n",
    "    lr_main = optim.lr_scheduler.CosineAnnealingLR(optimizer, T_max=max(1, config.FULL_EPOCHS - config.LR_WARMUP_EPOCHS))\n",
    "    warmup = optim.lr_scheduler.LinearLR(optimizer, start_factor=1e-6, total_iters=config.LR_WARMUP_EPOCHS)\n",
    "    scheduler = optim.lr_scheduler.SequentialLR(optimizer, schedulers=[warmup, lr_main], milestones=[config.LR_WARMUP_EPOCHS])\n",
    "\n",
    "    history = {\"train_loss\": [], \"train_acc\": [], \"val_loss\": [], \"val_acc\": []}\n",
    "    best_full = 0.0; epochs_no_improve = 0\n",
    "    for epoch in range(config.FULL_EPOCHS):\n",
    "        print(f\"\\nEpoch {epoch+1}/{config.FULL_EPOCHS} - LR: {optimizer.param_groups[0]['lr']:.2e}\")\n",
    "        train_loss, train_acc = train_epoch_gala(model, train_loader, criterion, optimizer, config.DEVICE, config)\n",
    "        val_loss, val_acc, _, _ = validate_epoch(model, val_loader, criterion, config.DEVICE)\n",
    "        scheduler.step()\n",
    "        history[\"train_loss\"].append(train_loss); history[\"train_acc\"].append(train_acc)\n",
    "        history[\"val_loss\"].append(val_loss); history[\"val_acc\"].append(val_acc)\n",
    "\n",
    "        print(f\"Train Loss: {train_loss:.4f}, Train Acc: {train_acc:.4f} | Val Loss: {val_loss:.4f}, Val Acc: {val_acc:.4f}\")\n",
    "        if val_acc > best_full:\n",
    "            best_full = val_acc\n",
    "            epochs_no_improve = 0\n",
    "            torch.save(model.state_dict(), os.path.join(config.SAVE_DIR, \"best_full_gft_gala_pps.pth\"))\n",
    "            print(\"Saved best full model.\")\n",
    "        else:\n",
    "            epochs_no_improve += 1\n",
    "        if epochs_no_improve >= config.PATIENCE:\n",
    "            print(\"Early stopping triggered.\")\n",
    "            break\n",
    "\n",
    "    # PHASE 3: Fine-tuning with low LR and no augmentations\n",
    "    print(\"\\n\" + \"=\"*70 + \"\\nPHASE 3: Fine-tuning\\n\" + \"=\"*70)\n",
    "    model.load_state_dict(torch.load(os.path.join(config.SAVE_DIR, \"best_full_gft_gala_pps.pth\"), map_location=config.DEVICE))\n",
    "    # prepare a train loader without strong aug\n",
    "    train_dataset_ft = MelSpectrogramDataset(config.BASE_DIR, \"train\", val_transform)\n",
    "    train_loader_ft = DataLoader(train_dataset_ft, batch_size=config.BATCH_SIZE, shuffle=True, num_workers=config.NUM_WORKERS)\n",
    "\n",
    "    optimizer = optim.AdamW(model.parameters(), lr=config.FT_LR, weight_decay=config.WEIGHT_DECAY*0.1)\n",
    "    scheduler = optim.lr_scheduler.CosineAnnealingLR(optimizer, T_max=config.FT_EPOCHS, eta_min=config.FT_LR*0.1)\n",
    "    best_ft = best_full\n",
    "    original_mix = config.MIXUP_ALPHA; config.MIXUP_ALPHA = 0.0\n",
    "\n",
    "    for epoch in range(config.FT_EPOCHS):\n",
    "        print(f\"\\nFine Tune Epoch {epoch+1}/{config.FT_EPOCHS} - LR: {optimizer.param_groups[0]['lr']:.2e}\")\n",
    "        train_loss, train_acc = train_epoch_gala(model, train_loader_ft, criterion, optimizer, config.DEVICE, config)\n",
    "        val_loss, val_acc, _, _ = validate_epoch(model, val_loader, criterion, config.DEVICE)\n",
    "        scheduler.step()\n",
    "        print(f\"Train Loss: {train_loss:.4f}, Train Acc: {train_acc:.4f} | Val Loss: {val_loss:.4f}, Val Acc: {val_acc:.4f}\")\n",
    "        if val_acc > best_ft:\n",
    "            best_ft = val_acc\n",
    "            torch.save(model.state_dict(), os.path.join(config.SAVE_DIR, \"best_finetuned_gft_gala_pps.pth\"))\n",
    "            print(\"Saved best fine-tuned model.\")\n",
    "\n",
    "    config.MIXUP_ALPHA = original_mix\n",
    "    return model, history\n",
    "\n",
    "# =============================================================================\n",
    "# 9. plotting + final evaluation helpers\n",
    "# =============================================================================\n",
    "def plot_history(history):\n",
    "    plt.style.use(\"seaborn-v0_8-darkgrid\")\n",
    "    fig, (ax1, ax2) = plt.subplots(2,1, figsize=(12,10))\n",
    "    epochs = range(1, len(history[\"train_loss\"])+1)\n",
    "    ax1.plot(epochs, history[\"train_acc\"], \"o-\", label=\"train\")\n",
    "    ax1.plot(epochs, history[\"val_acc\"], \"o-\", label=\"val\")\n",
    "    ax1.set_title(\"Accuracy\")\n",
    "    ax1.legend()\n",
    "    ax2.plot(epochs, history[\"train_loss\"], \"o-\", label=\"train\")\n",
    "    ax2.plot(epochs, history[\"val_loss\"], \"o-\", label=\"val\")\n",
    "    ax2.set_title(\"Loss\")\n",
    "    ax2.legend()\n",
    "    plt.tight_layout(); plt.show()\n",
    "\n",
    "def final_evaluation(model):\n",
    "    print(\"\\nFinal evaluation on test set\")\n",
    "    proc = AutoImageProcessor.from_pretrained(config.MODEL_NAME)\n",
    "    test_transform = transforms.Compose([\n",
    "        transforms.Resize((config.IMG_SIZE, config.IMG_SIZE)),\n",
    "        transforms.ToTensor(),\n",
    "        transforms.Normalize(mean=proc.image_mean, std=proc.image_std)\n",
    "    ])\n",
    "    test_dataset = MelSpectrogramDataset(config.BASE_DIR, \"test\", test_transform)\n",
    "    test_loader = DataLoader(test_dataset, batch_size=config.BATCH_SIZE, shuffle=False, num_workers=config.NUM_WORKERS)\n",
    "    criterion = GradientFocalLoss(alpha=config.GFT_ALPHA, gamma=config.GFT_GAMMA)\n",
    "\n",
    "    model.load_state_dict(torch.load(os.path.join(config.SAVE_DIR, \"best_finetuned_gft_gala_pps.pth\"), map_location=config.DEVICE))\n",
    "    model.to(config.DEVICE)\n",
    "    model.eval()\n",
    "\n",
    "    all_preds = []; all_labels = []\n",
    "    with torch.no_grad():\n",
    "        pbar = tqdm(test_loader, desc=\"Testing\")\n",
    "        for imgs, labels in pbar:\n",
    "            imgs = imgs.to(config.DEVICE); labels = labels.to(config.DEVICE)\n",
    "            logits = model(imgs)\n",
    "            _, preds = torch.max(logits, dim=1)\n",
    "            all_preds.extend(preds.cpu().numpy()); all_labels.extend(labels.cpu().numpy())\n",
    "\n",
    "    acc = accuracy_score(all_labels, all_preds)\n",
    "    print(f\"Test Accuracy: {acc:.4f}\")\n",
    "    print(classification_report(all_labels, all_preds, target_names=test_dataset.classes, digits=4))\n",
    "    cm = confusion_matrix(all_labels, all_preds)\n",
    "    plt.figure(figsize=(12,10))\n",
    "    sns.heatmap(cm, annot=True, fmt='d', xticklabels=test_dataset.classes, yticklabels=test_dataset.classes, cmap=\"Blues\")\n",
    "    plt.xlabel(\"Predicted\"); plt.ylabel(\"True\"); plt.title(f\"Confusion Matrix - Acc {acc:.2%}\")\n",
    "    plt.show()\n",
    "\n",
    "# =============================================================================\n",
    "# 10. execute\n",
    "# =============================================================================\n",
    "if __name__ == \"__main__\":\n",
    "    model, history = run_pipeline()\n",
    "    plot_history(history)\n",
    "    final_evaluation(model)\n"
   ]
  },
  {
   "cell_type": "code",
   "execution_count": 6,
   "id": "e244ab01",
   "metadata": {},
   "outputs": [
    {
     "name": "stdout",
     "output_type": "stream",
     "text": [
      "Using device: cuda\n",
      "Loading model from: A:\\journal V2\\checkpoints_gft_gala_pps\\best_full_gft_gala_pps.pth\n",
      "\n",
      "=== FINAL TEST EVALUATION ===\n"
     ]
    },
    {
     "data": {
      "application/vnd.jupyter.widget-view+json": {
       "model_id": "93819e633e0749f094f34c550d809ac4",
       "version_major": 2,
       "version_minor": 0
      },
      "text/plain": [
       "Fetching 1 files:   0%|          | 0/1 [00:00<?, ?it/s]"
      ]
     },
     "metadata": {},
     "output_type": "display_data"
    },
    {
     "name": "stdout",
     "output_type": "stream",
     "text": [
      "Found 74 test images across 6 classes.\n"
     ]
    },
    {
     "data": {
      "application/vnd.jupyter.widget-view+json": {
       "model_id": "a881376aefa64496b53e0e01aaee1cf2",
       "version_major": 2,
       "version_minor": 0
      },
      "text/plain": [
       "Testing:   0%|          | 0/3 [00:00<?, ?it/s]"
      ]
     },
     "metadata": {},
     "output_type": "display_data"
    },
    {
     "name": "stdout",
     "output_type": "stream",
     "text": [
      "\n",
      "🎯 Test Accuracy: 0.8378 (83.78%)\n",
      "\n",
      "📋 Classification Report:\n",
      "                        precision    recall  f1-score   support\n",
      "\n",
      "             Dysarthia     1.0000    1.0000    1.0000        13\n",
      "            Laryngitis     0.6000    0.6923    0.6429        13\n",
      "           Laryngozele     0.8000    0.8889    0.8421         9\n",
      "           Vox senilis     0.8333    0.7692    0.8000        13\n",
      "             parkinson     0.9286    1.0000    0.9630        13\n",
      "spasmodische_dysphonie     0.9000    0.6923    0.7826        13\n",
      "\n",
      "              accuracy                         0.8378        74\n",
      "             macro avg     0.8437    0.8405    0.8384        74\n",
      "          weighted avg     0.8460    0.8378    0.8382        74\n",
      "\n"
     ]
    },
    {
     "data": {
      "image/png": "[encoded data removed]",
      "text/plain": [
       "<Figure size 1200x1000 with 2 Axes>"
      ]
     },
     "metadata": {},
     "output_type": "display_data"
    }
   ],
   "source": [
    "# =============================================================================\n",
    "# Standalone evaluation script for GFT (GALA + PPS) model\n",
    "# =============================================================================\n",
    "import os\n",
    "import torch\n",
    "import torch.nn as nn\n",
    "from torch.utils.data import DataLoader, Dataset\n",
    "import torchvision.transforms as transforms\n",
    "from transformers import AutoModel, AutoImageProcessor\n",
    "from PIL import Image\n",
    "from tqdm.auto import tqdm\n",
    "import matplotlib.pyplot as plt\n",
    "import seaborn as sns\n",
    "from sklearn.metrics import accuracy_score, classification_report, confusion_matrix\n",
    "import numpy as np\n",
    "import warnings\n",
    "warnings.filterwarnings(\"ignore\")\n",
    "\n",
    "# =============================================================================\n",
    "# 1. CONFIGURATION\n",
    "# =============================================================================\n",
    "class Config:\n",
    "    BASE_DIR = r\"A:\\journal V2\\melspectrograms_dataset\"     # path to dataset\n",
    "    MODEL_NAME = \"facebook/dinov2-small\"                    # backbone\n",
    "    MODEL_PATH = r\"A:\\journal V2\\checkpoints_gft_gala_pps\\best_full_gft_gala_pps.pth\"\n",
    "    BATCH_SIZE = 32\n",
    "    IMG_SIZE = 224\n",
    "    NUM_WORKERS = 0\n",
    "    DROP_RATE = 0.4\n",
    "    FOCAL_GAMMA_HEADS = 6\n",
    "    DEVICE = torch.device(\"cuda\" if torch.cuda.is_available() else \"cpu\")\n",
    "\n",
    "config = Config()\n",
    "print(f\"Using device: {config.DEVICE}\")\n",
    "print(f\"Loading model from: {config.MODEL_PATH}\")\n",
    "\n",
    "# =============================================================================\n",
    "# 2. CORE MODULES (simplified versions for inference)\n",
    "# =============================================================================\n",
    "class GradientFocalLoss(nn.Module):\n",
    "    def __init__(self, alpha=0.25, gamma=2.0, reduction=\"mean\"):\n",
    "        super().__init__()\n",
    "        self.alpha, self.gamma, self.reduction = alpha, gamma, reduction\n",
    "    def forward(self, inputs, targets):\n",
    "        ce = nn.functional.cross_entropy(inputs, targets, reduction=\"none\")\n",
    "        p = torch.exp(-ce)\n",
    "        probs = torch.softmax(inputs, dim=1)\n",
    "        target_probs = probs.gather(1, targets.unsqueeze(1)).squeeze(1)\n",
    "        grad_weight = torch.abs(target_probs - 1.0)\n",
    "        focal = self.alpha * (1 - p) ** self.gamma * (1 + grad_weight)\n",
    "        loss = focal * ce\n",
    "        return loss.mean() if self.reduction == \"mean\" else loss.sum()\n",
    "\n",
    "class GALA_Attention(nn.Module):\n",
    "    def __init__(self, dim, n_heads=8, qkv_bias=True, attn_drop=0., proj_drop=0.):\n",
    "        super().__init__()\n",
    "        self.n_heads = n_heads\n",
    "        self.head_dim = dim // n_heads\n",
    "        self.scale = self.head_dim ** -0.5\n",
    "        self.qkv = nn.Linear(dim, dim * 3, bias=qkv_bias)\n",
    "        self.attn_drop = nn.Dropout(attn_drop)\n",
    "        self.proj = nn.Linear(dim, dim)\n",
    "        self.proj_drop = nn.Dropout(proj_drop)\n",
    "        self.focal_gamma = nn.Parameter(torch.ones(n_heads, 1, 1))\n",
    "    def forward(self, x):\n",
    "        B, N, C = x.shape\n",
    "        qkv = self.qkv(x).reshape(B, N, 3, self.n_heads, self.head_dim).permute(2, 0, 3, 1, 4)\n",
    "        q, k, v = qkv[0], qkv[1], qkv[2]\n",
    "        attn = (q @ k.transpose(-2, -1)) * self.scale\n",
    "        attn_weights = torch.softmax(attn, dim=-1)\n",
    "        focal = torch.pow(1.0 - attn_weights, self.focal_gamma)\n",
    "        attn = attn_weights * focal\n",
    "        attn = attn / (attn.sum(dim=-1, keepdim=True) + 1e-6)\n",
    "        out = (self.attn_drop(attn) @ v).transpose(1, 2).reshape(B, N, C)\n",
    "        return self.proj_drop(self.proj(out))\n",
    "\n",
    "class GFT_Encoder(nn.Module):\n",
    "    def __init__(self, embed_dim, num_stages=3, n_heads=6, drop_rate=0.3):\n",
    "        super().__init__()\n",
    "        self.stages = nn.ModuleList([\n",
    "            nn.Sequential(\n",
    "                nn.LayerNorm(embed_dim),\n",
    "                GALA_Attention(embed_dim, n_heads=n_heads,\n",
    "                               attn_drop=drop_rate*0.5, proj_drop=drop_rate*0.5),\n",
    "                nn.LayerNorm(embed_dim),\n",
    "                nn.Linear(embed_dim, embed_dim),\n",
    "                nn.GELU(),\n",
    "                nn.Dropout(drop_rate)\n",
    "            ) for _ in range(num_stages)\n",
    "        ])\n",
    "    def forward(self, x):\n",
    "        for stage in self.stages:\n",
    "            x = stage(x)\n",
    "        return x\n",
    "\n",
    "class DinoV2_GFT_GALA_PPS(nn.Module):\n",
    "    def __init__(self, model_name, num_classes, gft_stages=3, n_heads=6, drop_rate=0.3):\n",
    "        super().__init__()\n",
    "        self.backbone = AutoModel.from_pretrained(model_name)\n",
    "        embed_dim = self.backbone.config.hidden_size\n",
    "        self.gft_encoder = GFT_Encoder(embed_dim, num_stages=gft_stages,\n",
    "                                       n_heads=n_heads, drop_rate=drop_rate)\n",
    "        self.pool_norm = nn.LayerNorm(embed_dim)\n",
    "        self.classifier = nn.Sequential(\n",
    "            nn.Linear(embed_dim, 512),\n",
    "            nn.GELU(),\n",
    "            nn.Dropout(drop_rate),\n",
    "            nn.Linear(512, 256),\n",
    "            nn.GELU(),\n",
    "            nn.Dropout(drop_rate*0.5),\n",
    "            nn.Linear(256, num_classes)\n",
    "        )\n",
    "    def forward(self, pixel_values):\n",
    "        outputs = self.backbone(pixel_values=pixel_values)\n",
    "        tokens = outputs.last_hidden_state\n",
    "        features = self.gft_encoder(tokens)\n",
    "        pooled = torch.mean(features, dim=1)\n",
    "        pooled = self.pool_norm(pooled)\n",
    "        return self.classifier(pooled)\n",
    "\n",
    "# =============================================================================\n",
    "# 3. DATASET\n",
    "# =============================================================================\n",
    "class MelSpectrogramDataset(Dataset):\n",
    "    def __init__(self, base_dir, split=\"test\", transform=None):\n",
    "        self.transform = transform\n",
    "        self.data_dir = os.path.join(base_dir, split)\n",
    "        self.classes = sorted([d for d in os.listdir(self.data_dir)\n",
    "                               if os.path.isdir(os.path.join(self.data_dir, d))])\n",
    "        self.class_to_idx = {cls_name: i for i, cls_name in enumerate(self.classes)}\n",
    "        self.image_paths, self.labels = [], []\n",
    "        for class_name in self.classes:\n",
    "            class_dir = os.path.join(self.data_dir, class_name)\n",
    "            for img_file in os.listdir(class_dir):\n",
    "                if img_file.lower().endswith((\".png\", \".jpg\", \".jpeg\")):\n",
    "                    self.image_paths.append(os.path.join(class_dir, img_file))\n",
    "                    self.labels.append(self.class_to_idx[class_name])\n",
    "        print(f\"Found {len(self.image_paths)} test images across {len(self.classes)} classes.\")\n",
    "    def __len__(self): return len(self.image_paths)\n",
    "    def __getitem__(self, idx):\n",
    "        image = Image.open(self.image_paths[idx]).convert(\"RGB\")\n",
    "        label = self.labels[idx]\n",
    "        if self.transform: image = self.transform(image)\n",
    "        return image, label\n",
    "\n",
    "# =============================================================================\n",
    "# 4. FINAL EVALUATION FUNCTION\n",
    "# =============================================================================\n",
    "def final_evaluation(model_path):\n",
    "    print(\"\\n=== FINAL TEST EVALUATION ===\")\n",
    "\n",
    "    # Data transforms\n",
    "    proc = AutoImageProcessor.from_pretrained(config.MODEL_NAME)\n",
    "    test_transform = transforms.Compose([\n",
    "        transforms.Resize((config.IMG_SIZE, config.IMG_SIZE)),\n",
    "        transforms.ToTensor(),\n",
    "        transforms.Normalize(mean=proc.image_mean, std=proc.image_std)\n",
    "    ])\n",
    "    test_dataset = MelSpectrogramDataset(config.BASE_DIR, \"test\", test_transform)\n",
    "    test_loader = DataLoader(test_dataset, batch_size=config.BATCH_SIZE,\n",
    "                             shuffle=False, num_workers=config.NUM_WORKERS)\n",
    "    num_classes = len(test_dataset.classes)\n",
    "\n",
    "    # Initialize model and load weights\n",
    "    model = DinoV2_GFT_GALA_PPS(config.MODEL_NAME, num_classes,\n",
    "                                gft_stages=3, n_heads=config.FOCAL_GAMMA_HEADS,\n",
    "                                drop_rate=config.DROP_RATE).to(config.DEVICE)\n",
    "    state = torch.load(model_path, map_location=config.DEVICE)\n",
    "    model.load_state_dict(state, strict=False)\n",
    "    model.eval()\n",
    "\n",
    "    # Run inference\n",
    "    all_preds, all_labels = [], []\n",
    "    with torch.no_grad():\n",
    "        for imgs, labels in tqdm(test_loader, desc=\"Testing\"):\n",
    "            imgs = imgs.to(config.DEVICE)\n",
    "            outputs = model(imgs)\n",
    "            _, preds = torch.max(outputs, 1)\n",
    "            all_preds.extend(preds.cpu().numpy())\n",
    "            all_labels.extend(labels.numpy())\n",
    "\n",
    "    # Metrics\n",
    "    acc = accuracy_score(all_labels, all_preds)\n",
    "    print(f\"\\n🎯 Test Accuracy: {acc:.4f} ({acc*100:.2f}%)\")\n",
    "    print(\"\\n📋 Classification Report:\")\n",
    "    print(classification_report(all_labels, all_preds,\n",
    "                                target_names=test_dataset.classes, digits=4))\n",
    "\n",
    "    # Confusion Matrix\n",
    "    cm = confusion_matrix(all_labels, all_preds)\n",
    "    plt.figure(figsize=(12, 10))\n",
    "    sns.heatmap(cm, annot=True, fmt=\"d\", cmap=\"Blues\",\n",
    "                xticklabels=test_dataset.classes, yticklabels=test_dataset.classes)\n",
    "    plt.xlabel(\"Predicted Labels\")\n",
    "    plt.ylabel(\"True Labels\")\n",
    "    plt.title(f\"Confusion Matrix - Accuracy: {acc*100:.2f}%\", fontweight=\"bold\")\n",
    "    plt.xticks(rotation=45, ha=\"right\")\n",
    "    plt.tight_layout()\n",
    "    plt.show()\n",
    "\n",
    "# =============================================================================\n",
    "# 5. RUN\n",
    "# =============================================================================\n",
    "if __name__ == \"__main__\":\n",
    "    final_evaluation(config.MODEL_PATH)\n"
   ]
  }
 ],
 "metadata": {
  "kernelspec": {
   "display_name": "Python 3",
   "language": "python",
   "name": "python3"
  },
  "language_info": {
   "codemirror_mode": {
    "name": "ipython",
    "version": 3
   },
   "file_extension": ".py",
   "mimetype": "text/x-python",
   "name": "python",
   "nbconvert_exporter": "python",
   "pygments_lexer": "ipython3",
   "version": "3.12.10"
  }
 },
 "nbformat": 4,
 "nbformat_minor": 5
}
