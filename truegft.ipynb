{
 "cells": [
  {
   "cell_type": "code",
   "execution_count": 5,
   "id": "65e7f6a0",
   "metadata": {},
   "outputs": [
    {
     "name": "stdout",
     "output_type": "stream",
     "text": [
      "Using device: cuda\n",
      "✅ Found 6 classes: ['Dysarthia', 'Laryngitis', 'Laryngozele', 'Vox senilis', 'parkinson', 'spasmodische_dysphonie']\n",
      "Number of parameters: 92,883,471\n",
      "\n",
      "--- Epoch 1/20 ---\n"
     ]
    },
    {
     "name": "stderr",
     "output_type": "stream",
     "text": [
      "Training: 100%|██████████| 252/252 [01:10<00:00,  3.60it/s, loss=0.6371, acc=59.54%]\n",
      "Evaluating: 100%|██████████| 5/5 [00:03<00:00,  1.29it/s]\n"
     ]
    },
    {
     "name": "stdout",
     "output_type": "stream",
     "text": [
      "Epoch 1/20 | Train Loss: 0.9981, Train Acc: 59.54%\n",
      "Val Acc: 72.60% | Precision: 0.7469 | Recall: 0.7260 | F1: 0.7128\n",
      "🏆 New best model saved with validation accuracy: 72.60%\n",
      "\n",
      "--- Epoch 2/20 ---\n"
     ]
    },
    {
     "name": "stderr",
     "output_type": "stream",
     "text": [
      "Training: 100%|██████████| 252/252 [01:08<00:00,  3.70it/s, loss=0.5237, acc=75.48%]\n",
      "Evaluating: 100%|██████████| 5/5 [00:03<00:00,  1.51it/s]\n"
     ]
    },
    {
     "name": "stdout",
     "output_type": "stream",
     "text": [
      "Epoch 2/20 | Train Loss: 0.6008, Train Acc: 75.48%\n",
      "Val Acc: 80.82% | Precision: 0.8164 | Recall: 0.8082 | F1: 0.8014\n",
      "🏆 New best model saved with validation accuracy: 80.82%\n",
      "\n",
      "--- Epoch 3/20 ---\n"
     ]
    },
    {
     "name": "stderr",
     "output_type": "stream",
     "text": [
      "Training: 100%|██████████| 252/252 [01:08<00:00,  3.69it/s, loss=0.6573, acc=83.66%]\n",
      "Evaluating: 100%|██████████| 5/5 [00:03<00:00,  1.46it/s]\n"
     ]
    },
    {
     "name": "stdout",
     "output_type": "stream",
     "text": [
      "Epoch 3/20 | Train Loss: 0.4429, Train Acc: 83.66%\n",
      "Val Acc: 75.34% | Precision: 0.7683 | Recall: 0.7534 | F1: 0.7522\n",
      "\n",
      "--- Epoch 4/20 ---\n"
     ]
    },
    {
     "name": "stderr",
     "output_type": "stream",
     "text": [
      "Training: 100%|██████████| 252/252 [01:08<00:00,  3.70it/s, loss=0.2432, acc=87.57%]\n",
      "Evaluating: 100%|██████████| 5/5 [00:03<00:00,  1.50it/s]\n"
     ]
    },
    {
     "name": "stdout",
     "output_type": "stream",
     "text": [
      "Epoch 4/20 | Train Loss: 0.3340, Train Acc: 87.57%\n",
      "Val Acc: 78.08% | Precision: 0.8141 | Recall: 0.7808 | F1: 0.7778\n",
      "\n",
      "--- Epoch 5/20 ---\n"
     ]
    },
    {
     "name": "stderr",
     "output_type": "stream",
     "text": [
      "Training: 100%|██████████| 252/252 [01:07<00:00,  3.73it/s, loss=0.3138, acc=90.60%]\n",
      "Evaluating: 100%|██████████| 5/5 [00:03<00:00,  1.48it/s]\n"
     ]
    },
    {
     "name": "stdout",
     "output_type": "stream",
     "text": [
      "Epoch 5/20 | Train Loss: 0.2533, Train Acc: 90.60%\n",
      "Val Acc: 71.23% | Precision: 0.7169 | Recall: 0.7123 | F1: 0.7041\n",
      "\n",
      "--- Epoch 6/20 ---\n"
     ]
    },
    {
     "name": "stderr",
     "output_type": "stream",
     "text": [
      "Training: 100%|██████████| 252/252 [01:07<00:00,  3.72it/s, loss=0.0476, acc=91.77%]\n",
      "Evaluating: 100%|██████████| 5/5 [00:03<00:00,  1.49it/s]\n"
     ]
    },
    {
     "name": "stdout",
     "output_type": "stream",
     "text": [
      "Epoch 6/20 | Train Loss: 0.2168, Train Acc: 91.77%\n",
      "Val Acc: 79.45% | Precision: 0.8524 | Recall: 0.7945 | F1: 0.7982\n",
      "\n",
      "--- Epoch 7/20 ---\n"
     ]
    },
    {
     "name": "stderr",
     "output_type": "stream",
     "text": [
      "Training: 100%|██████████| 252/252 [01:07<00:00,  3.72it/s, loss=0.0654, acc=93.21%]\n",
      "Evaluating: 100%|██████████| 5/5 [00:04<00:00,  1.22it/s]\n"
     ]
    },
    {
     "name": "stdout",
     "output_type": "stream",
     "text": [
      "Epoch 7/20 | Train Loss: 0.1845, Train Acc: 93.21%\n",
      "Val Acc: 73.97% | Precision: 0.7594 | Recall: 0.7397 | F1: 0.7428\n",
      "\n",
      "--- Epoch 8/20 ---\n"
     ]
    },
    {
     "name": "stderr",
     "output_type": "stream",
     "text": [
      "Training: 100%|██████████| 252/252 [01:09<00:00,  3.61it/s, loss=0.0020, acc=94.55%]\n",
      "Evaluating: 100%|██████████| 5/5 [00:04<00:00,  1.18it/s]\n"
     ]
    },
    {
     "name": "stdout",
     "output_type": "stream",
     "text": [
      "Epoch 8/20 | Train Loss: 0.1455, Train Acc: 94.55%\n",
      "Val Acc: 78.08% | Precision: 0.8108 | Recall: 0.7808 | F1: 0.7831\n",
      "\n",
      "--- Epoch 9/20 ---\n"
     ]
    },
    {
     "name": "stderr",
     "output_type": "stream",
     "text": [
      "Training: 100%|██████████| 252/252 [01:09<00:00,  3.64it/s, loss=0.0824, acc=95.70%]\n",
      "Evaluating: 100%|██████████| 5/5 [00:04<00:00,  1.24it/s]\n"
     ]
    },
    {
     "name": "stdout",
     "output_type": "stream",
     "text": [
      "Epoch 9/20 | Train Loss: 0.1215, Train Acc: 95.70%\n",
      "Val Acc: 79.45% | Precision: 0.8323 | Recall: 0.7945 | F1: 0.7909\n",
      "\n",
      "--- Epoch 10/20 ---\n"
     ]
    },
    {
     "name": "stderr",
     "output_type": "stream",
     "text": [
      "Training: 100%|██████████| 252/252 [01:08<00:00,  3.68it/s, loss=0.7846, acc=95.90%]\n",
      "Evaluating: 100%|██████████| 5/5 [00:04<00:00,  1.14it/s]\n"
     ]
    },
    {
     "name": "stdout",
     "output_type": "stream",
     "text": [
      "Epoch 10/20 | Train Loss: 0.1221, Train Acc: 95.90%\n",
      "Val Acc: 75.34% | Precision: 0.7532 | Recall: 0.7534 | F1: 0.7496\n",
      "\n",
      "--- Epoch 11/20 ---\n"
     ]
    },
    {
     "name": "stderr",
     "output_type": "stream",
     "text": [
      "Training: 100%|██████████| 252/252 [01:09<00:00,  3.63it/s, loss=0.0016, acc=96.10%]\n",
      "Evaluating: 100%|██████████| 5/5 [00:04<00:00,  1.19it/s]\n"
     ]
    },
    {
     "name": "stdout",
     "output_type": "stream",
     "text": [
      "Epoch 11/20 | Train Loss: 0.1117, Train Acc: 96.10%\n",
      "Val Acc: 75.34% | Precision: 0.7572 | Recall: 0.7534 | F1: 0.7493\n",
      "\n",
      "--- Epoch 12/20 ---\n"
     ]
    },
    {
     "name": "stderr",
     "output_type": "stream",
     "text": [
      "Training: 100%|██████████| 252/252 [01:08<00:00,  3.66it/s, loss=0.4929, acc=96.42%]\n",
      "Evaluating: 100%|██████████| 5/5 [00:03<00:00,  1.28it/s]\n"
     ]
    },
    {
     "name": "stdout",
     "output_type": "stream",
     "text": [
      "Epoch 12/20 | Train Loss: 0.1001, Train Acc: 96.42%\n",
      "Val Acc: 79.45% | Precision: 0.8354 | Recall: 0.7945 | F1: 0.7981\n",
      "\n",
      "--- Epoch 13/20 ---\n"
     ]
    },
    {
     "name": "stderr",
     "output_type": "stream",
     "text": [
      "Training: 100%|██████████| 252/252 [01:10<00:00,  3.56it/s, loss=0.0058, acc=97.07%]\n",
      "Evaluating: 100%|██████████| 5/5 [00:03<00:00,  1.27it/s]\n"
     ]
    },
    {
     "name": "stdout",
     "output_type": "stream",
     "text": [
      "Epoch 13/20 | Train Loss: 0.0822, Train Acc: 97.07%\n",
      "Val Acc: 72.60% | Precision: 0.7606 | Recall: 0.7260 | F1: 0.7319\n",
      "\n",
      "--- Epoch 14/20 ---\n"
     ]
    },
    {
     "name": "stderr",
     "output_type": "stream",
     "text": [
      "Training: 100%|██████████| 252/252 [01:29<00:00,  2.80it/s, loss=0.1449, acc=97.71%]\n",
      "Evaluating: 100%|██████████| 5/5 [00:04<00:00,  1.24it/s]\n"
     ]
    },
    {
     "name": "stdout",
     "output_type": "stream",
     "text": [
      "Epoch 14/20 | Train Loss: 0.0653, Train Acc: 97.71%\n",
      "Val Acc: 75.34% | Precision: 0.7965 | Recall: 0.7534 | F1: 0.7573\n",
      "\n",
      "--- Epoch 15/20 ---\n"
     ]
    },
    {
     "name": "stderr",
     "output_type": "stream",
     "text": [
      "Training: 100%|██████████| 252/252 [01:10<00:00,  3.55it/s, loss=0.0060, acc=97.84%]\n",
      "Evaluating: 100%|██████████| 5/5 [00:03<00:00,  1.50it/s]\n"
     ]
    },
    {
     "name": "stdout",
     "output_type": "stream",
     "text": [
      "Epoch 15/20 | Train Loss: 0.0632, Train Acc: 97.84%\n",
      "Val Acc: 82.19% | Precision: 0.8573 | Recall: 0.8219 | F1: 0.8242\n",
      "🏆 New best model saved with validation accuracy: 82.19%\n",
      "\n",
      "--- Epoch 16/20 ---\n"
     ]
    },
    {
     "name": "stderr",
     "output_type": "stream",
     "text": [
      "Training: 100%|██████████| 252/252 [01:07<00:00,  3.71it/s, loss=0.1474, acc=97.59%]\n",
      "Evaluating: 100%|██████████| 5/5 [00:03<00:00,  1.51it/s]\n"
     ]
    },
    {
     "name": "stdout",
     "output_type": "stream",
     "text": [
      "Epoch 16/20 | Train Loss: 0.0686, Train Acc: 97.59%\n",
      "Val Acc: 83.56% | Precision: 0.8572 | Recall: 0.8356 | F1: 0.8350\n",
      "🏆 New best model saved with validation accuracy: 83.56%\n",
      "\n",
      "--- Epoch 17/20 ---\n"
     ]
    },
    {
     "name": "stderr",
     "output_type": "stream",
     "text": [
      "Training: 100%|██████████| 252/252 [01:08<00:00,  3.70it/s, loss=0.0198, acc=97.84%]\n",
      "Evaluating: 100%|██████████| 5/5 [00:03<00:00,  1.53it/s]\n"
     ]
    },
    {
     "name": "stdout",
     "output_type": "stream",
     "text": [
      "Epoch 17/20 | Train Loss: 0.0537, Train Acc: 97.84%\n",
      "Val Acc: 79.45% | Precision: 0.8426 | Recall: 0.7945 | F1: 0.7987\n",
      "\n",
      "--- Epoch 18/20 ---\n"
     ]
    },
    {
     "name": "stderr",
     "output_type": "stream",
     "text": [
      "Training: 100%|██████████| 252/252 [01:08<00:00,  3.70it/s, loss=0.0507, acc=97.79%]\n",
      "Evaluating: 100%|██████████| 5/5 [00:03<00:00,  1.50it/s]\n"
     ]
    },
    {
     "name": "stdout",
     "output_type": "stream",
     "text": [
      "Epoch 18/20 | Train Loss: 0.0585, Train Acc: 97.79%\n",
      "Val Acc: 78.08% | Precision: 0.8158 | Recall: 0.7808 | F1: 0.7824\n",
      "\n",
      "--- Epoch 19/20 ---\n"
     ]
    },
    {
     "name": "stderr",
     "output_type": "stream",
     "text": [
      "Training: 100%|██████████| 252/252 [01:07<00:00,  3.71it/s, loss=0.0428, acc=98.16%]\n",
      "Evaluating: 100%|██████████| 5/5 [00:03<00:00,  1.54it/s]\n"
     ]
    },
    {
     "name": "stdout",
     "output_type": "stream",
     "text": [
      "Epoch 19/20 | Train Loss: 0.0560, Train Acc: 98.16%\n",
      "Val Acc: 78.08% | Precision: 0.8189 | Recall: 0.7808 | F1: 0.7852\n",
      "\n",
      "--- Epoch 20/20 ---\n"
     ]
    },
    {
     "name": "stderr",
     "output_type": "stream",
     "text": [
      "Training: 100%|██████████| 252/252 [01:08<00:00,  3.70it/s, loss=0.0091, acc=98.33%]\n",
      "Evaluating: 100%|██████████| 5/5 [00:03<00:00,  1.50it/s]"
     ]
    },
    {
     "name": "stdout",
     "output_type": "stream",
     "text": [
      "Epoch 20/20 | Train Loss: 0.0504, Train Acc: 98.33%\n",
      "Val Acc: 78.08% | Precision: 0.8189 | Recall: 0.7808 | F1: 0.7852\n",
      "\n",
      "--- Training Complete ---\n",
      "Best validation accuracy achieved: 83.56%\n"
     ]
    },
    {
     "name": "stderr",
     "output_type": "stream",
     "text": [
      "\n"
     ]
    }
   ],
   "source": [
    "# =============================================================================\n",
    "# GFT (Reference Architecture) Training Script for MelSpectrograms\n",
    "#\n",
    "# This script uses the EXACT GFT model architecture from the COCO example,\n",
    "# but is adapted to use a standard ImageFolder dataset.\n",
    "# Key dependency: timm (`pip install timm`)\n",
    "# =============================================================================\n",
    "import os\n",
    "import torch\n",
    "import torch.nn as nn\n",
    "import torch.optim as optim\n",
    "from torch.utils.data import DataLoader\n",
    "from torchvision import datasets, transforms\n",
    "from torchvision.transforms import InterpolationMode\n",
    "from timm import create_model\n",
    "from tqdm import tqdm\n",
    "import numpy as np\n",
    "from sklearn.metrics import accuracy_score, precision_recall_fscore_support\n",
    "\n",
    "# =============================================================================\n",
    "# 1. MODEL ARCHITECTURE (EXACTLY as in the reference)\n",
    "# =============================================================================\n",
    "class HierarchicalAttention(nn.Module):\n",
    "    def __init__(self, dim, num_heads=8, qkv_bias=False, attn_drop=0., proj_drop=0.):\n",
    "        super().__init__()\n",
    "        self.num_heads = num_heads\n",
    "        head_dim = dim // num_heads\n",
    "        self.scale = head_dim ** -0.5\n",
    "\n",
    "        self.qkv = nn.Linear(dim, dim * 3, bias=qkv_bias)\n",
    "        self.attn_drop = nn.Dropout(attn_drop)\n",
    "        self.proj = nn.Linear(dim, dim)\n",
    "        self.proj_drop = nn.Dropout(proj_drop)\n",
    "\n",
    "        # Smoothing conv layer for spatial gradient\n",
    "        self.smooth = nn.Conv1d(1, 1, kernel_size=3, padding=1, bias=False)\n",
    "        nn.init.ones_(self.smooth.weight)\n",
    "        \n",
    "        # Exponential Moving Average for stabilizing scores during training\n",
    "        self.ema_alpha = 0.9\n",
    "        self.register_buffer('ema_grad', None, persistent=False)\n",
    "\n",
    "    def compute_gradient_attention(self, attn_scores):\n",
    "        B, H, N, _ = attn_scores.shape\n",
    "        mean_attn = attn_scores.mean(dim=-1)\n",
    "        grad = torch.zeros_like(mean_attn)\n",
    "        grad[:, :, 1:-1] = (mean_attn[:, :, 2:] - mean_attn[:, :, :-2]) / 2.0\n",
    "        grad[:, :, 0] = mean_attn[:, :, 1] - mean_attn[:, :, 0]\n",
    "        grad[:, :, -1] = mean_attn[:, :, -1] - mean_attn[:, :, -2]\n",
    "\n",
    "        importance_scores = grad.abs().mean(dim=1)\n",
    "        importance_scores = self.smooth(importance_scores.unsqueeze(1)).squeeze(1)\n",
    "\n",
    "        # Normalize scores\n",
    "        importance_scores = (importance_scores - importance_scores.mean(dim=-1, keepdim=True)) / \\\n",
    "                            (importance_scores.std(dim=-1, keepdim=True) + 1e-6)\n",
    "\n",
    "        if self.training:\n",
    "            if self.ema_grad is None or self.ema_grad.shape != importance_scores.shape:\n",
    "                self.ema_grad = importance_scores.detach()\n",
    "            else:\n",
    "                self.ema_grad = self.ema_alpha * self.ema_grad + \\\n",
    "                                (1 - self.ema_alpha) * importance_scores.detach()\n",
    "            importance_scores = 0.5 * (importance_scores + self.ema_grad)\n",
    "\n",
    "        # Final softmax with temperature scaling\n",
    "        importance_scores = torch.softmax(importance_scores / 0.1, dim=-1)\n",
    "        return importance_scores\n",
    "\n",
    "    def forward(self, x):\n",
    "        B, N, C = x.shape\n",
    "        qkv = self.qkv(x).reshape(B, N, 3, self.num_heads, C // self.num_heads).permute(2, 0, 3, 1, 4)\n",
    "        q, k, v = qkv[0], qkv[1], qkv[2]\n",
    "\n",
    "        attn = (q @ k.transpose(-2, -1)) * self.scale\n",
    "        attn_raw = attn.clone().detach()\n",
    "        attn = attn.softmax(dim=-1)\n",
    "\n",
    "        patch_importance = self.compute_gradient_attention(attn_raw)\n",
    "\n",
    "        attn = self.attn_drop(attn)\n",
    "        x = (attn @ v).transpose(1, 2).reshape(B, N, C)\n",
    "        x = self.proj(x)\n",
    "        x = self.proj_drop(x)\n",
    "\n",
    "        return x, patch_importance\n",
    "\n",
    "class GFT(nn.Module):\n",
    "    def __init__(self, base_model='vit_base_patch16_224', num_classes=10, patch_size=16, img_size=224):\n",
    "        super().__init__()\n",
    "        self.base_model = create_model(base_model, pretrained=True)\n",
    "        embed_dim = self.base_model.embed_dim\n",
    "\n",
    "        self.num_patches = (img_size // patch_size) ** 2\n",
    "        \n",
    "        self.hierarchical_blocks = nn.ModuleList([\n",
    "            HierarchicalAttention(dim=embed_dim, num_heads=12) for _ in range(3)\n",
    "        ])\n",
    "        \n",
    "        # We need to adapt the final classifier in the base model and create our own\n",
    "        num_ftrs = self.base_model.head.in_features\n",
    "        self.base_model.head = nn.Identity() # Remove the original head\n",
    "        self.classifier = nn.Linear(num_ftrs, num_classes)\n",
    "\n",
    "        self.selection_sizes = [\n",
    "            int(self.num_patches * 0.75),\n",
    "            int(self.num_patches * 0.5),\n",
    "            int(self.num_patches * 0.25),\n",
    "        ]\n",
    "\n",
    "    def select_patches(self, tokens, importance, k):\n",
    "        B, N = tokens.shape[0], importance.shape[1]\n",
    "        k = min(k, N)\n",
    "        _, top_k_idx = torch.topk(importance, k, dim=1)\n",
    "        batch_idx = torch.arange(B, device=tokens.device).unsqueeze(1)\n",
    "        return tokens[batch_idx, top_k_idx]\n",
    "\n",
    "    def forward(self, x):\n",
    "        # Initial patch embeddings from base ViT model\n",
    "        x = self.base_model.patch_embed(x)\n",
    "        cls_token = self.base_model.cls_token.expand(x.shape[0], -1, -1)\n",
    "        x = torch.cat((cls_token, x), dim=1)\n",
    "        x = self.base_model.pos_drop(x + self.base_model.pos_embed)\n",
    "\n",
    "        # Apply a few initial transformer blocks\n",
    "        for blk in self.base_model.blocks[:8]:\n",
    "            x = blk(x)\n",
    "            \n",
    "        final_cls_before_pruning = x[:, 0]\n",
    "        current_tokens = x[:, 1:]\n",
    "        \n",
    "        # Hierarchical attention and Progressive Patch Selection\n",
    "        for attn_block, select_size in zip(self.hierarchical_blocks, self.selection_sizes):\n",
    "            tokens_attn, importance = attn_block(current_tokens)\n",
    "            current_tokens = self.select_patches(tokens_attn, importance, select_size)\n",
    "            \n",
    "        # Use the CLS token from *before* the selection process for classification\n",
    "        logits = self.classifier(final_cls_before_pruning)\n",
    "        return logits\n",
    "\n",
    "# =============================================================================\n",
    "# 2. TRAINING & EVALUATION FUNCTIONS (UNCHANGED)\n",
    "# =============================================================================\n",
    "def train_epoch(model, loader, criterion, optimizer, device):\n",
    "    model.train()\n",
    "    total_loss, correct, total = 0, 0, 0\n",
    "    pbar = tqdm(loader, desc=\"Training\")\n",
    "    for images, targets in pbar:\n",
    "        images, targets = images.to(device), targets.to(device)\n",
    "        optimizer.zero_grad()\n",
    "        outputs = model(images)\n",
    "        loss = criterion(outputs, targets)\n",
    "        loss.backward()\n",
    "        optimizer.step()\n",
    "        total_loss += loss.item()\n",
    "        _, predicted = outputs.max(1)\n",
    "        total += targets.size(0)\n",
    "        correct += predicted.eq(targets).sum().item()\n",
    "        pbar.set_postfix({\"loss\": f\"{loss.item():.4f}\", \"acc\": f\"{100.*correct/total:.2f}%\"})\n",
    "    return total_loss / len(loader), 100. * correct / total\n",
    "\n",
    "def evaluate(model, loader, device):\n",
    "    model.eval()\n",
    "    all_preds, all_targets = [], []\n",
    "    with torch.no_grad():\n",
    "        for images, targets in tqdm(loader, desc=\"Evaluating\"):\n",
    "            images = images.to(device)\n",
    "            outputs = model(images)\n",
    "            _, predicted = outputs.max(1)\n",
    "            all_preds.extend(predicted.cpu().numpy())\n",
    "            all_targets.extend(targets.cpu().numpy())\n",
    "    accuracy = accuracy_score(all_targets, all_preds)\n",
    "    precision, recall, f1, _ = precision_recall_fscore_support(all_targets, all_preds, average='weighted', zero_division=0)\n",
    "    return accuracy, precision, recall, f1\n",
    "\n",
    "# =============================================================================\n",
    "# 3. MAIN EXECUTION BLOCK\n",
    "# =============================================================================\n",
    "if __name__ == '__main__':\n",
    "    # --- Configuration ---\n",
    "    # ⚠️ **UPDATE THIS PATH** to your dataset directory\n",
    "    DATA_DIR = \"melspectrograms_dataset/\"\n",
    "    IMG_SIZE = 224\n",
    "    BATCH_SIZE = 16\n",
    "    NUM_EPOCHS = 20\n",
    "    LR = 1e-5\n",
    "    WEIGHT_DECAY = 0.05\n",
    "    DEVICE = torch.device(\"cuda\" if torch.cuda.is_available() else \"cpu\")\n",
    "    print(f\"Using device: {DEVICE}\")\n",
    "\n",
    "    # --- Data Transforms ---\n",
    "    train_transform = transforms.Compose([\n",
    "        transforms.Resize((IMG_SIZE, IMG_SIZE), interpolation=InterpolationMode.BICUBIC),\n",
    "        transforms.RandomHorizontalFlip(),\n",
    "        transforms.TrivialAugmentWide(),\n",
    "        transforms.ToTensor(),\n",
    "        transforms.Normalize(mean=[0.485, 0.456, 0.406], std=[0.229, 0.224, 0.225])\n",
    "    ])\n",
    "    val_transform = transforms.Compose([\n",
    "        transforms.Resize((IMG_SIZE, IMG_SIZE), interpolation=InterpolationMode.BICUBIC),\n",
    "        transforms.ToTensor(),\n",
    "        transforms.Normalize(mean=[0.485, 0.456, 0.406], std=[0.229, 0.224, 0.225])\n",
    "    ])\n",
    "\n",
    "    # --- Dataset Loading (Using ImageFolder) ---\n",
    "    train_dataset = datasets.ImageFolder(root=os.path.join(DATA_DIR, 'train'), transform=train_transform)\n",
    "    val_dataset = datasets.ImageFolder(root=os.path.join(DATA_DIR, 'validation'), transform=val_transform)\n",
    "    \n",
    "    num_classes = len(train_dataset.classes)\n",
    "    print(f\"✅ Found {num_classes} classes: {train_dataset.classes}\")\n",
    "\n",
    "    train_loader = DataLoader(train_dataset, batch_size=BATCH_SIZE, shuffle=True, num_workers=4, pin_memory=True)\n",
    "    val_loader = DataLoader(val_dataset, batch_size=BATCH_SIZE, shuffle=False, num_workers=4, pin_memory=True)\n",
    "\n",
    "    # --- Model, Loss, Optimizer ---\n",
    "    model = GFT(num_classes=num_classes, img_size=IMG_SIZE).to(DEVICE)\n",
    "    print(f\"Number of parameters: {sum(p.numel() for p in model.parameters() if p.requires_grad):,}\")\n",
    "    criterion = nn.CrossEntropyLoss()\n",
    "    optimizer = torch.optim.AdamW(model.parameters(), lr=LR, weight_decay=WEIGHT_DECAY)\n",
    "    scheduler = torch.optim.lr_scheduler.CosineAnnealingLR(optimizer, T_max=NUM_EPOCHS)\n",
    "\n",
    "    # --- Training Loop ---\n",
    "    best_val_acc = 0.0\n",
    "    for epoch in range(NUM_EPOCHS):\n",
    "        print(f\"\\n--- Epoch {epoch+1}/{NUM_EPOCHS} ---\")\n",
    "        train_loss, train_acc = train_epoch(model, train_loader, criterion, optimizer, DEVICE)\n",
    "        val_acc, val_precision, val_recall, val_f1 = evaluate(model, val_loader, DEVICE)\n",
    "        scheduler.step()\n",
    "\n",
    "        print(f\"Epoch {epoch+1}/{NUM_EPOCHS} | Train Loss: {train_loss:.4f}, Train Acc: {train_acc:.2f}%\")\n",
    "        print(f\"Val Acc: {val_acc*100:.2f}% | Precision: {val_precision:.4f} | Recall: {val_recall:.4f} | F1: {val_f1:.4f}\")\n",
    "\n",
    "        if val_acc > best_val_acc:\n",
    "            best_val_acc = val_acc\n",
    "            torch.save(model.state_dict(), 'best_gft_melspectrogram.pth')\n",
    "            print(f\"🏆 New best model saved with validation accuracy: {best_val_acc*100:.2f}%\")\n",
    "            \n",
    "    print(\"\\n--- Training Complete ---\")\n",
    "    print(f\"Best validation accuracy achieved: {best_val_acc*100:.2f}%\")"
   ]
  },
  {
   "cell_type": "code",
   "execution_count": 7,
   "id": "91d521b0",
   "metadata": {},
   "outputs": [
    {
     "name": "stdout",
     "output_type": "stream",
     "text": [
      "Using device: cuda\n",
      "Found 74 test images belonging to 6 classes.\n",
      "Model loaded successfully from: best_gft_melspectrogram.pth\n"
     ]
    },
    {
     "name": "stderr",
     "output_type": "stream",
     "text": [
      "Evaluating on Test Set: 100%|██████████| 3/3 [00:03<00:00,  1.28s/it]"
     ]
    },
    {
     "name": "stdout",
     "output_type": "stream",
     "text": [
      "\n",
      "==================================================\n",
      "           REFERENCE GFT - EVALUATION RESULTS\n",
      "==================================================\n",
      "\n",
      "🎯 Overall Test Accuracy: 0.7838 (78.38%)\n",
      "\n",
      "📋 Classification Report:\n",
      "                        precision    recall  f1-score   support\n",
      "\n",
      "             Dysarthia     1.0000    1.0000    1.0000        13\n",
      "            Laryngitis     0.5333    0.6154    0.5714        13\n",
      "           Laryngozele     0.7000    0.7778    0.7368         9\n",
      "           Vox senilis     0.9091    0.7692    0.8333        13\n",
      "             parkinson     0.8667    1.0000    0.9286        13\n",
      "spasmodische_dysphonie     0.7000    0.5385    0.6087        13\n",
      "\n",
      "              accuracy                         0.7838        74\n",
      "             macro avg     0.7848    0.7835    0.7798        74\n",
      "          weighted avg     0.7894    0.7838    0.7821        74\n",
      "\n",
      "\n",
      "📈 Plotting Confusion Matrix...\n"
     ]
    },
    {
     "name": "stderr",
     "output_type": "stream",
     "text": [
      "\n"
     ]
    },
    {
     "data": {
      "image/png": "[encoded data removed]",
      "text/plain": [
       "<Figure size 1200x1000 with 2 Axes>"
      ]
     },
     "metadata": {},
     "output_type": "display_data"
    }
   ],
   "source": [
    "# =============================================================================\n",
    "# GFT (Reference Architecture) EVALUATION Script for MelSpectrograms\n",
    "#\n",
    "# Loads the trained 'best_gft_melspectrogram.pth' and evaluates it on the test set.\n",
    "# =============================================================================\n",
    "import os\n",
    "import torch\n",
    "import torch.nn as nn\n",
    "from torch.utils.data import DataLoader\n",
    "from torchvision import datasets, transforms\n",
    "from torchvision.transforms import InterpolationMode\n",
    "from timm import create_model\n",
    "from tqdm import tqdm\n",
    "import numpy as np\n",
    "from sklearn.metrics import accuracy_score, classification_report, confusion_matrix\n",
    "import matplotlib.pyplot as plt\n",
    "import seaborn as sns\n",
    "import warnings\n",
    "warnings.filterwarnings(\"ignore\")\n",
    "\n",
    "# =============================================================================\n",
    "# 1. MODEL ARCHITECTURE (Must be included to load the saved model weights)\n",
    "# =============================================================================\n",
    "class HierarchicalAttention(nn.Module):\n",
    "    def __init__(self, dim, num_heads=8, qkv_bias=False, attn_drop=0., proj_drop=0.):\n",
    "        super().__init__()\n",
    "        self.num_heads = num_heads\n",
    "        head_dim = dim // num_heads\n",
    "        self.scale = head_dim ** -0.5\n",
    "        self.qkv = nn.Linear(dim, dim * 3, bias=qkv_bias)\n",
    "        self.attn_drop = nn.Dropout(attn_drop)\n",
    "        self.proj = nn.Linear(dim, dim)\n",
    "        self.proj_drop = nn.Dropout(proj_drop)\n",
    "        self.smooth = nn.Conv1d(1, 1, kernel_size=3, padding=1, bias=False)\n",
    "        nn.init.ones_(self.smooth.weight)\n",
    "        self.ema_alpha = 0.9\n",
    "        self.register_buffer('ema_grad', None, persistent=False)\n",
    "    def compute_gradient_attention(self, attn_scores):\n",
    "        B, H, N, _ = attn_scores.shape\n",
    "        mean_attn = attn_scores.mean(dim=-1)\n",
    "        grad = torch.zeros_like(mean_attn)\n",
    "        grad[:, :, 1:-1] = (mean_attn[:, :, 2:] - mean_attn[:, :, :-2]) / 2.0\n",
    "        grad[:, :, 0] = mean_attn[:, :, 1] - mean_attn[:, :, 0]\n",
    "        grad[:, :, -1] = mean_attn[:, :, -1] - mean_attn[:, :, -2]\n",
    "        importance_scores = grad.abs().mean(dim=1)\n",
    "        importance_scores = self.smooth(importance_scores.unsqueeze(1)).squeeze(1)\n",
    "        importance_scores = (importance_scores - importance_scores.mean(dim=-1, keepdim=True)) / (importance_scores.std(dim=-1, keepdim=True) + 1e-6)\n",
    "        if self.training:\n",
    "            if self.ema_grad is None or self.ema_grad.shape != importance_scores.shape: self.ema_grad = importance_scores.detach()\n",
    "            else: self.ema_grad = self.ema_alpha * self.ema_grad + (1 - self.ema_alpha) * importance_scores.detach()\n",
    "            importance_scores = 0.5 * (importance_scores + self.ema_grad)\n",
    "        return torch.softmax(importance_scores / 0.1, dim=-1)\n",
    "    def forward(self, x):\n",
    "        B, N, C = x.shape\n",
    "        qkv = self.qkv(x).reshape(B, N, 3, self.num_heads, C // self.num_heads).permute(2, 0, 3, 1, 4)\n",
    "        q, k, v = qkv[0], qkv[1], qkv[2]\n",
    "        attn = (q @ k.transpose(-2, -1)) * self.scale\n",
    "        attn_raw = attn.clone().detach()\n",
    "        attn = attn.softmax(dim=-1)\n",
    "        patch_importance = self.compute_gradient_attention(attn_raw)\n",
    "        attn = self.attn_drop(attn)\n",
    "        x = (attn @ v).transpose(1, 2).reshape(B, N, C)\n",
    "        x = self.proj(x)\n",
    "        x = self.proj_drop(x)\n",
    "        return x, patch_importance\n",
    "\n",
    "class GFT(nn.Module):\n",
    "    def __init__(self, base_model='vit_base_patch16_224', num_classes=10, patch_size=16, img_size=224):\n",
    "        super().__init__()\n",
    "        self.base_model = create_model(base_model, pretrained=True)\n",
    "        embed_dim = self.base_model.embed_dim\n",
    "        self.num_patches = (img_size // patch_size) ** 2\n",
    "        self.hierarchical_blocks = nn.ModuleList([HierarchicalAttention(dim=embed_dim, num_heads=12) for _ in range(3)])\n",
    "        num_ftrs = self.base_model.head.in_features\n",
    "        self.base_model.head = nn.Identity()\n",
    "        self.classifier = nn.Linear(num_ftrs, num_classes)\n",
    "        self.selection_sizes = [int(self.num_patches * r) for r in [0.75, 0.5, 0.25]]\n",
    "    def select_patches(self, tokens, importance, k):\n",
    "        B, N = tokens.shape[0], importance.shape[1]\n",
    "        k = min(k, N)\n",
    "        _, top_k_idx = torch.topk(importance, k, dim=1)\n",
    "        batch_idx = torch.arange(B, device=tokens.device).unsqueeze(1)\n",
    "        return tokens[batch_idx, top_k_idx]\n",
    "    def forward(self, x):\n",
    "        x = self.base_model.patch_embed(x)\n",
    "        cls_token = self.base_model.cls_token.expand(x.shape[0], -1, -1)\n",
    "        x = torch.cat((cls_token, x), dim=1)\n",
    "        x = self.base_model.pos_drop(x + self.base_model.pos_embed)\n",
    "        for blk in self.base_model.blocks[:8]: x = blk(x)\n",
    "        final_cls_before_pruning = x[:, 0]\n",
    "        current_tokens = x[:, 1:]\n",
    "        for attn_block, select_size in zip(self.hierarchical_blocks, self.selection_sizes):\n",
    "            tokens_attn, importance = attn_block(current_tokens)\n",
    "            current_tokens = self.select_patches(tokens_attn, importance, select_size)\n",
    "        logits = self.classifier(final_cls_before_pruning)\n",
    "        return logits\n",
    "\n",
    "# =============================================================================\n",
    "# 2. MAIN EVALUATION BLOCK\n",
    "# =============================================================================\n",
    "if __name__ == '__main__':\n",
    "    # --- Configuration ---\n",
    "    # ⚠️ **UPDATE these paths** as needed\n",
    "    DATA_DIR = \"melspectrograms_dataset/\"\n",
    "    MODEL_PATH = \"best_gft_melspectrogram.pth\"\n",
    "    \n",
    "    IMG_SIZE = 224\n",
    "    BATCH_SIZE = 32\n",
    "    DEVICE = torch.device(\"cuda\" if torch.cuda.is_available() else \"cpu\")\n",
    "    print(f\"Using device: {DEVICE}\")\n",
    "\n",
    "    # --- Data Transforms ---\n",
    "    test_transform = transforms.Compose([\n",
    "        transforms.Resize((IMG_SIZE, IMG_SIZE), interpolation=InterpolationMode.BICUBIC),\n",
    "        transforms.ToTensor(),\n",
    "        transforms.Normalize(mean=[0.485, 0.456, 0.406], std=[0.229, 0.224, 0.225])\n",
    "    ])\n",
    "\n",
    "    # --- Dataset and DataLoader ---\n",
    "    test_dataset = datasets.ImageFolder(root=os.path.join(DATA_DIR, 'test'), transform=test_transform)\n",
    "    test_loader = DataLoader(test_dataset, batch_size=BATCH_SIZE, shuffle=False, num_workers=4)\n",
    "    \n",
    "    num_classes = len(test_dataset.classes)\n",
    "    class_names = test_dataset.classes\n",
    "    print(f\"Found {len(test_dataset)} test images belonging to {num_classes} classes.\")\n",
    "\n",
    "    # --- Model Loading ---\n",
    "    model = GFT(num_classes=num_classes, img_size=IMG_SIZE).to(DEVICE)\n",
    "    model.load_state_dict(torch.load(MODEL_PATH, map_location=DEVICE))\n",
    "    model.eval()\n",
    "    print(f\"Model loaded successfully from: {MODEL_PATH}\")\n",
    "\n",
    "    # --- Inference Loop ---\n",
    "    all_preds = []\n",
    "    all_labels = []\n",
    "    with torch.no_grad():\n",
    "        for images, labels in tqdm(test_loader, desc=\"Evaluating on Test Set\"):\n",
    "            images = images.to(DEVICE)\n",
    "            outputs = model(images)\n",
    "            _, predicted = outputs.max(1)\n",
    "            \n",
    "            all_preds.extend(predicted.cpu().numpy())\n",
    "            all_labels.extend(labels.cpu().numpy())\n",
    "\n",
    "    # --- Metrics Calculation and Display ---\n",
    "    print(\"\\n\" + \"=\"*50)\n",
    "    print(\"           REFERENCE GFT - EVALUATION RESULTS\")\n",
    "    print(\"=\"*50)\n",
    "\n",
    "    # 1. Accuracy\n",
    "    accuracy = accuracy_score(all_labels, all_preds)\n",
    "    print(f\"\\n🎯 Overall Test Accuracy: {accuracy:.4f} ({accuracy*100:.2f}%)\")\n",
    "\n",
    "    # 2. Classification Report\n",
    "    print(\"\\n📋 Classification Report:\")\n",
    "    print(classification_report(all_labels, all_preds, target_names=class_names, digits=4, zero_division=0))\n",
    "\n",
    "    # 3. Confusion Matrix\n",
    "    print(\"\\n📈 Plotting Confusion Matrix...\")\n",
    "    cm = confusion_matrix(all_labels, all_preds)\n",
    "    plt.figure(figsize=(12, 10))\n",
    "    sns.heatmap(cm, annot=True, fmt='d', cmap='Blues', xticklabels=class_names, yticklabels=class_names)\n",
    "    plt.title(f'Confusion Matrix - Reference GFT Model\\nAccuracy: {accuracy:.2%}', fontsize=14)\n",
    "    plt.xlabel('Predicted Label', fontsize=12)\n",
    "    plt.ylabel('True Label', fontsize=12)\n",
    "    plt.xticks(rotation=45, ha=\"right\")\n",
    "    plt.yticks(rotation=0)\n",
    "    plt.tight_layout()\n",
    "    plt.show()"
   ]
  }
 ],
 "metadata": {
  "kernelspec": {
   "display_name": "Python 3",
   "language": "python",
   "name": "python3"
  },
  "language_info": {
   "codemirror_mode": {
    "name": "ipython",
    "version": 3
   },
   "file_extension": ".py",
   "mimetype": "text/x-python",
   "name": "python",
   "nbconvert_exporter": "python",
   "pygments_lexer": "ipython3",
   "version": "3.12.10"
  }
 },
 "nbformat": 4,
 "nbformat_minor": 5
}
